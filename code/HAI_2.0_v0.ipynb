{
 "cells": [
  {
   "cell_type": "code",
   "execution_count": 1,
   "metadata": {},
   "outputs": [
    {
     "name": "stdout",
     "output_type": "stream",
     "text": [
      "Requirement already satisfied: eTaPR==1.12 from file:///C:/Users/sclab/A_Moon/DACON/NSR/eTaPR-1.12-py3-none-any.whl in c:\\users\\sclab\\anaconda3\\envs\\dacon_2\\lib\\site-packages (1.12)\n"
     ]
    }
   ],
   "source": [
    "!pip install eTaPR-1.12-py3-none-any.whl"
   ]
  },
  {
   "cell_type": "code",
   "execution_count": 2,
   "metadata": {},
   "outputs": [
    {
     "name": "stderr",
     "output_type": "stream",
     "text": [
      "Using TensorFlow backend.\n"
     ]
    }
   ],
   "source": [
    "import sys\n",
    "\n",
    "from pathlib import Path\n",
    "from datetime import timedelta\n",
    "\n",
    "import dateutil\n",
    "import numpy as np\n",
    "import matplotlib.pyplot as plt\n",
    "import pandas as pd\n",
    "from tqdm.notebook import trange\n",
    "from TaPR_pkg import etapr\n",
    "from keras.callbacks import EarlyStopping\n",
    "from keras.models import Model, Sequential\n",
    "from keras.layers import LSTM,Dropout,TimeDistributed,Reshape,Input, Conv1D, Lambda, Dense, Flatten,MaxPooling1D, concatenate"
   ]
  },
  {
   "cell_type": "markdown",
   "metadata": {},
   "source": [
    "## 데이터 전처리\n",
    "\n",
    "학습 데이터와 테스트 데이터는 CSV로 제공됩니다.\n",
    "HAI 2.0은 단일 파일이 아니라 여러 파일로 제공되기 때문에 디렉토리 안에 있는 모든 CSV를 읽습니다."
   ]
  },
  {
   "cell_type": "code",
   "execution_count": 3,
   "metadata": {},
   "outputs": [
    {
     "data": {
      "text/plain": [
       "[WindowsPath('data/HAI_2.0/training/train1.csv'),\n",
       " WindowsPath('data/HAI_2.0/training/train2.csv'),\n",
       " WindowsPath('data/HAI_2.0/training/train3.csv')]"
      ]
     },
     "execution_count": 3,
     "metadata": {},
     "output_type": "execute_result"
    }
   ],
   "source": [
    "TRAIN_DATASET = sorted([x for x in Path(\"data/HAI_2.0/training/\").glob(\"*.csv\")])\n",
    "TRAIN_DATASET"
   ]
  },
  {
   "cell_type": "code",
   "execution_count": 4,
   "metadata": {},
   "outputs": [
    {
     "data": {
      "text/plain": [
       "[WindowsPath('data/HAI_2.0/validation/validation.csv')]"
      ]
     },
     "execution_count": 4,
     "metadata": {},
     "output_type": "execute_result"
    }
   ],
   "source": [
    "VALIDATION_DATASET = sorted([x for x in Path(\"data/HAI_2.0/validation/\").glob(\"*.csv\")])\n",
    "VALIDATION_DATASET"
   ]
  },
  {
   "cell_type": "code",
   "execution_count": 5,
   "metadata": {},
   "outputs": [],
   "source": [
    "def dataframe_from_csv(target):\n",
    "    return pd.read_csv(target).rename(columns=lambda x: x.strip())\n",
    "\n",
    "def dataframe_from_csvs(targets):\n",
    "    len_train=[]\n",
    "    for x in targets:\n",
    "        len_train.append(dataframe_from_csv(x).shape[0])\n",
    "    return pd.concat([dataframe_from_csv(x) for x in targets]),len_train"
   ]
  },
  {
   "cell_type": "code",
   "execution_count": 6,
   "metadata": {},
   "outputs": [
    {
     "data": {
      "text/html": [
       "<div>\n",
       "<style scoped>\n",
       "    .dataframe tbody tr th:only-of-type {\n",
       "        vertical-align: middle;\n",
       "    }\n",
       "\n",
       "    .dataframe tbody tr th {\n",
       "        vertical-align: top;\n",
       "    }\n",
       "\n",
       "    .dataframe thead th {\n",
       "        text-align: right;\n",
       "    }\n",
       "</style>\n",
       "<table border=\"1\" class=\"dataframe\">\n",
       "  <thead>\n",
       "    <tr style=\"text-align: right;\">\n",
       "      <th></th>\n",
       "      <th>time</th>\n",
       "      <th>C01</th>\n",
       "      <th>C02</th>\n",
       "      <th>C03</th>\n",
       "      <th>C04</th>\n",
       "      <th>C05</th>\n",
       "      <th>C06</th>\n",
       "      <th>C07</th>\n",
       "      <th>C08</th>\n",
       "      <th>C09</th>\n",
       "      <th>...</th>\n",
       "      <th>C70</th>\n",
       "      <th>C71</th>\n",
       "      <th>C72</th>\n",
       "      <th>C73</th>\n",
       "      <th>C74</th>\n",
       "      <th>C75</th>\n",
       "      <th>C76</th>\n",
       "      <th>C77</th>\n",
       "      <th>C78</th>\n",
       "      <th>C79</th>\n",
       "    </tr>\n",
       "  </thead>\n",
       "  <tbody>\n",
       "    <tr>\n",
       "      <th>0</th>\n",
       "      <td>2020-07-11 00:00:00</td>\n",
       "      <td>395.19528</td>\n",
       "      <td>12</td>\n",
       "      <td>10</td>\n",
       "      <td>52.80456</td>\n",
       "      <td>-1.2648</td>\n",
       "      <td>-1.87531</td>\n",
       "      <td>779.59595</td>\n",
       "      <td>28.02645</td>\n",
       "      <td>10832.0</td>\n",
       "      <td>...</td>\n",
       "      <td>808.29620</td>\n",
       "      <td>0.0</td>\n",
       "      <td>1.36810</td>\n",
       "      <td>8.79882</td>\n",
       "      <td>35.43700</td>\n",
       "      <td>12.01782</td>\n",
       "      <td>305.03113</td>\n",
       "      <td>301.35992</td>\n",
       "      <td>33.6555</td>\n",
       "      <td>6.0951</td>\n",
       "    </tr>\n",
       "    <tr>\n",
       "      <th>1</th>\n",
       "      <td>2020-07-11 00:00:01</td>\n",
       "      <td>395.14420</td>\n",
       "      <td>12</td>\n",
       "      <td>10</td>\n",
       "      <td>52.78931</td>\n",
       "      <td>-1.3147</td>\n",
       "      <td>-1.88294</td>\n",
       "      <td>780.67328</td>\n",
       "      <td>28.02473</td>\n",
       "      <td>10984.0</td>\n",
       "      <td>...</td>\n",
       "      <td>819.16809</td>\n",
       "      <td>0.0</td>\n",
       "      <td>1.36810</td>\n",
       "      <td>8.78811</td>\n",
       "      <td>35.45227</td>\n",
       "      <td>12.01782</td>\n",
       "      <td>304.27161</td>\n",
       "      <td>297.43567</td>\n",
       "      <td>33.6555</td>\n",
       "      <td>5.9262</td>\n",
       "    </tr>\n",
       "    <tr>\n",
       "      <th>2</th>\n",
       "      <td>2020-07-11 00:00:02</td>\n",
       "      <td>395.14420</td>\n",
       "      <td>12</td>\n",
       "      <td>10</td>\n",
       "      <td>52.79694</td>\n",
       "      <td>-1.4032</td>\n",
       "      <td>-1.88294</td>\n",
       "      <td>780.06574</td>\n",
       "      <td>28.02817</td>\n",
       "      <td>11120.0</td>\n",
       "      <td>...</td>\n",
       "      <td>823.51697</td>\n",
       "      <td>0.0</td>\n",
       "      <td>1.36734</td>\n",
       "      <td>8.81787</td>\n",
       "      <td>35.45227</td>\n",
       "      <td>12.01782</td>\n",
       "      <td>303.89179</td>\n",
       "      <td>298.66534</td>\n",
       "      <td>33.6555</td>\n",
       "      <td>5.8101</td>\n",
       "    </tr>\n",
       "    <tr>\n",
       "      <th>3</th>\n",
       "      <td>2020-07-11 00:00:03</td>\n",
       "      <td>395.19528</td>\n",
       "      <td>12</td>\n",
       "      <td>10</td>\n",
       "      <td>52.79694</td>\n",
       "      <td>-1.6074</td>\n",
       "      <td>-1.88294</td>\n",
       "      <td>780.15265</td>\n",
       "      <td>28.02301</td>\n",
       "      <td>11256.0</td>\n",
       "      <td>...</td>\n",
       "      <td>823.95172</td>\n",
       "      <td>0.0</td>\n",
       "      <td>1.36734</td>\n",
       "      <td>8.87493</td>\n",
       "      <td>35.43700</td>\n",
       "      <td>12.01782</td>\n",
       "      <td>303.67474</td>\n",
       "      <td>298.06860</td>\n",
       "      <td>33.6555</td>\n",
       "      <td>5.7509</td>\n",
       "    </tr>\n",
       "    <tr>\n",
       "      <th>4</th>\n",
       "      <td>2020-07-11 00:00:04</td>\n",
       "      <td>395.34866</td>\n",
       "      <td>12</td>\n",
       "      <td>10</td>\n",
       "      <td>52.79694</td>\n",
       "      <td>-1.7811</td>\n",
       "      <td>-1.88294</td>\n",
       "      <td>781.83160</td>\n",
       "      <td>28.03595</td>\n",
       "      <td>11384.0</td>\n",
       "      <td>...</td>\n",
       "      <td>827.86560</td>\n",
       "      <td>0.0</td>\n",
       "      <td>1.36810</td>\n",
       "      <td>8.83838</td>\n",
       "      <td>35.45227</td>\n",
       "      <td>12.01782</td>\n",
       "      <td>303.22266</td>\n",
       "      <td>296.53137</td>\n",
       "      <td>33.6555</td>\n",
       "      <td>5.8547</td>\n",
       "    </tr>\n",
       "    <tr>\n",
       "      <th>...</th>\n",
       "      <td>...</td>\n",
       "      <td>...</td>\n",
       "      <td>...</td>\n",
       "      <td>...</td>\n",
       "      <td>...</td>\n",
       "      <td>...</td>\n",
       "      <td>...</td>\n",
       "      <td>...</td>\n",
       "      <td>...</td>\n",
       "      <td>...</td>\n",
       "      <td>...</td>\n",
       "      <td>...</td>\n",
       "      <td>...</td>\n",
       "      <td>...</td>\n",
       "      <td>...</td>\n",
       "      <td>...</td>\n",
       "      <td>...</td>\n",
       "      <td>...</td>\n",
       "      <td>...</td>\n",
       "      <td>...</td>\n",
       "      <td>...</td>\n",
       "    </tr>\n",
       "    <tr>\n",
       "      <th>478796</th>\n",
       "      <td>2020-08-10 10:59:56</td>\n",
       "      <td>387.27219</td>\n",
       "      <td>12</td>\n",
       "      <td>10</td>\n",
       "      <td>66.72057</td>\n",
       "      <td>-0.9331</td>\n",
       "      <td>-1.84479</td>\n",
       "      <td>781.87915</td>\n",
       "      <td>28.02389</td>\n",
       "      <td>880.0</td>\n",
       "      <td>...</td>\n",
       "      <td>944.84705</td>\n",
       "      <td>0.0</td>\n",
       "      <td>1.32843</td>\n",
       "      <td>15.17817</td>\n",
       "      <td>35.14710</td>\n",
       "      <td>11.79657</td>\n",
       "      <td>316.89453</td>\n",
       "      <td>296.54950</td>\n",
       "      <td>32.0000</td>\n",
       "      <td>6.6026</td>\n",
       "    </tr>\n",
       "    <tr>\n",
       "      <th>478797</th>\n",
       "      <td>2020-08-10 10:59:57</td>\n",
       "      <td>387.52774</td>\n",
       "      <td>12</td>\n",
       "      <td>10</td>\n",
       "      <td>66.72057</td>\n",
       "      <td>-0.9996</td>\n",
       "      <td>-1.84479</td>\n",
       "      <td>787.65070</td>\n",
       "      <td>28.02385</td>\n",
       "      <td>840.0</td>\n",
       "      <td>...</td>\n",
       "      <td>940.49835</td>\n",
       "      <td>0.0</td>\n",
       "      <td>1.32843</td>\n",
       "      <td>15.17344</td>\n",
       "      <td>35.13183</td>\n",
       "      <td>11.79657</td>\n",
       "      <td>315.59247</td>\n",
       "      <td>296.15161</td>\n",
       "      <td>32.0000</td>\n",
       "      <td>6.3894</td>\n",
       "    </tr>\n",
       "    <tr>\n",
       "      <th>478798</th>\n",
       "      <td>2020-08-10 10:59:58</td>\n",
       "      <td>387.47665</td>\n",
       "      <td>12</td>\n",
       "      <td>10</td>\n",
       "      <td>66.72057</td>\n",
       "      <td>-1.2560</td>\n",
       "      <td>-1.84479</td>\n",
       "      <td>788.50256</td>\n",
       "      <td>28.03085</td>\n",
       "      <td>792.0</td>\n",
       "      <td>...</td>\n",
       "      <td>935.71472</td>\n",
       "      <td>0.0</td>\n",
       "      <td>1.32919</td>\n",
       "      <td>15.16443</td>\n",
       "      <td>35.13183</td>\n",
       "      <td>11.79657</td>\n",
       "      <td>313.92865</td>\n",
       "      <td>293.40277</td>\n",
       "      <td>32.0000</td>\n",
       "      <td>6.2584</td>\n",
       "    </tr>\n",
       "    <tr>\n",
       "      <th>478799</th>\n",
       "      <td>2020-08-10 10:59:59</td>\n",
       "      <td>387.73221</td>\n",
       "      <td>12</td>\n",
       "      <td>10</td>\n",
       "      <td>66.72057</td>\n",
       "      <td>-1.4912</td>\n",
       "      <td>-1.84479</td>\n",
       "      <td>785.80316</td>\n",
       "      <td>28.02649</td>\n",
       "      <td>752.0</td>\n",
       "      <td>...</td>\n",
       "      <td>944.84705</td>\n",
       "      <td>0.0</td>\n",
       "      <td>1.32843</td>\n",
       "      <td>15.09001</td>\n",
       "      <td>35.14710</td>\n",
       "      <td>11.79657</td>\n",
       "      <td>315.61054</td>\n",
       "      <td>302.58972</td>\n",
       "      <td>32.0000</td>\n",
       "      <td>6.4150</td>\n",
       "    </tr>\n",
       "    <tr>\n",
       "      <th>478800</th>\n",
       "      <td>2020-08-10 11:00:00</td>\n",
       "      <td>387.52774</td>\n",
       "      <td>12</td>\n",
       "      <td>10</td>\n",
       "      <td>66.72057</td>\n",
       "      <td>-1.5727</td>\n",
       "      <td>-1.84479</td>\n",
       "      <td>780.21381</td>\n",
       "      <td>28.02476</td>\n",
       "      <td>720.0</td>\n",
       "      <td>...</td>\n",
       "      <td>951.80505</td>\n",
       "      <td>0.0</td>\n",
       "      <td>1.32919</td>\n",
       "      <td>15.08672</td>\n",
       "      <td>35.14710</td>\n",
       "      <td>11.79657</td>\n",
       "      <td>317.23816</td>\n",
       "      <td>309.00964</td>\n",
       "      <td>32.0000</td>\n",
       "      <td>6.6288</td>\n",
       "    </tr>\n",
       "  </tbody>\n",
       "</table>\n",
       "<p>921603 rows × 80 columns</p>\n",
       "</div>"
      ],
      "text/plain": [
       "                       time        C01  C02  C03       C04     C05      C06  \\\n",
       "0       2020-07-11 00:00:00  395.19528   12   10  52.80456 -1.2648 -1.87531   \n",
       "1       2020-07-11 00:00:01  395.14420   12   10  52.78931 -1.3147 -1.88294   \n",
       "2       2020-07-11 00:00:02  395.14420   12   10  52.79694 -1.4032 -1.88294   \n",
       "3       2020-07-11 00:00:03  395.19528   12   10  52.79694 -1.6074 -1.88294   \n",
       "4       2020-07-11 00:00:04  395.34866   12   10  52.79694 -1.7811 -1.88294   \n",
       "...                     ...        ...  ...  ...       ...     ...      ...   \n",
       "478796  2020-08-10 10:59:56  387.27219   12   10  66.72057 -0.9331 -1.84479   \n",
       "478797  2020-08-10 10:59:57  387.52774   12   10  66.72057 -0.9996 -1.84479   \n",
       "478798  2020-08-10 10:59:58  387.47665   12   10  66.72057 -1.2560 -1.84479   \n",
       "478799  2020-08-10 10:59:59  387.73221   12   10  66.72057 -1.4912 -1.84479   \n",
       "478800  2020-08-10 11:00:00  387.52774   12   10  66.72057 -1.5727 -1.84479   \n",
       "\n",
       "              C07       C08      C09  ...        C70  C71      C72       C73  \\\n",
       "0       779.59595  28.02645  10832.0  ...  808.29620  0.0  1.36810   8.79882   \n",
       "1       780.67328  28.02473  10984.0  ...  819.16809  0.0  1.36810   8.78811   \n",
       "2       780.06574  28.02817  11120.0  ...  823.51697  0.0  1.36734   8.81787   \n",
       "3       780.15265  28.02301  11256.0  ...  823.95172  0.0  1.36734   8.87493   \n",
       "4       781.83160  28.03595  11384.0  ...  827.86560  0.0  1.36810   8.83838   \n",
       "...           ...       ...      ...  ...        ...  ...      ...       ...   \n",
       "478796  781.87915  28.02389    880.0  ...  944.84705  0.0  1.32843  15.17817   \n",
       "478797  787.65070  28.02385    840.0  ...  940.49835  0.0  1.32843  15.17344   \n",
       "478798  788.50256  28.03085    792.0  ...  935.71472  0.0  1.32919  15.16443   \n",
       "478799  785.80316  28.02649    752.0  ...  944.84705  0.0  1.32843  15.09001   \n",
       "478800  780.21381  28.02476    720.0  ...  951.80505  0.0  1.32919  15.08672   \n",
       "\n",
       "             C74       C75        C76        C77      C78     C79  \n",
       "0       35.43700  12.01782  305.03113  301.35992  33.6555  6.0951  \n",
       "1       35.45227  12.01782  304.27161  297.43567  33.6555  5.9262  \n",
       "2       35.45227  12.01782  303.89179  298.66534  33.6555  5.8101  \n",
       "3       35.43700  12.01782  303.67474  298.06860  33.6555  5.7509  \n",
       "4       35.45227  12.01782  303.22266  296.53137  33.6555  5.8547  \n",
       "...          ...       ...        ...        ...      ...     ...  \n",
       "478796  35.14710  11.79657  316.89453  296.54950  32.0000  6.6026  \n",
       "478797  35.13183  11.79657  315.59247  296.15161  32.0000  6.3894  \n",
       "478798  35.13183  11.79657  313.92865  293.40277  32.0000  6.2584  \n",
       "478799  35.14710  11.79657  315.61054  302.58972  32.0000  6.4150  \n",
       "478800  35.14710  11.79657  317.23816  309.00964  32.0000  6.6288  \n",
       "\n",
       "[921603 rows x 80 columns]"
      ]
     },
     "execution_count": 6,
     "metadata": {},
     "output_type": "execute_result"
    }
   ],
   "source": [
    "TRAIN_DF_RAW,len_Train = dataframe_from_csvs(TRAIN_DATASET)\n",
    "TRAIN_DF_RAW"
   ]
  },
  {
   "cell_type": "code",
   "execution_count": 7,
   "metadata": {},
   "outputs": [
    {
     "data": {
      "text/plain": [
       "[216001, 226801, 478801]"
      ]
     },
     "execution_count": 7,
     "metadata": {},
     "output_type": "execute_result"
    }
   ],
   "source": [
    "len_Train"
   ]
  },
  {
   "cell_type": "code",
   "execution_count": 8,
   "metadata": {},
   "outputs": [
    {
     "data": {
      "text/plain": [
       "Index(['C01', 'C02', 'C03', 'C04', 'C05', 'C06', 'C07', 'C08', 'C09', 'C10',\n",
       "       'C11', 'C12', 'C13', 'C14', 'C15', 'C16', 'C17', 'C18', 'C19', 'C20',\n",
       "       'C21', 'C22', 'C23', 'C24', 'C25', 'C26', 'C27', 'C28', 'C29', 'C30',\n",
       "       'C31', 'C32', 'C33', 'C34', 'C35', 'C36', 'C37', 'C38', 'C39', 'C40',\n",
       "       'C41', 'C42', 'C43', 'C44', 'C45', 'C46', 'C47', 'C48', 'C49', 'C50',\n",
       "       'C51', 'C52', 'C53', 'C54', 'C55', 'C56', 'C57', 'C58', 'C59', 'C60',\n",
       "       'C61', 'C62', 'C63', 'C64', 'C65', 'C66', 'C67', 'C68', 'C69', 'C70',\n",
       "       'C71', 'C72', 'C73', 'C74', 'C75', 'C76', 'C77', 'C78', 'C79'],\n",
       "      dtype='object')"
      ]
     },
     "execution_count": 8,
     "metadata": {},
     "output_type": "execute_result"
    }
   ],
   "source": [
    "TIMESTAMP_FIELD = \"time\"\n",
    "IDSTAMP_FIELD = 'id'\n",
    "ATTACK_FIELD = \"attack\"\n",
    "VALID_COLUMNS_IN_TRAIN_DATASET = TRAIN_DF_RAW.columns.drop([TIMESTAMP_FIELD])\n",
    "VALID_COLUMNS_IN_TRAIN_DATASET"
   ]
  },
  {
   "cell_type": "code",
   "execution_count": 9,
   "metadata": {},
   "outputs": [],
   "source": [
    "TAG_MIN = TRAIN_DF_RAW[VALID_COLUMNS_IN_TRAIN_DATASET].min()\n",
    "TAG_MAX = TRAIN_DF_RAW[VALID_COLUMNS_IN_TRAIN_DATASET].max()"
   ]
  },
  {
   "cell_type": "code",
   "execution_count": 10,
   "metadata": {},
   "outputs": [],
   "source": [
    "def normalize(df):\n",
    "    ndf = df.copy()\n",
    "    for c in df.columns:\n",
    "        if TAG_MIN[c] == TAG_MAX[c]:\n",
    "            ndf[c] = df[c] - TAG_MIN[c]\n",
    "        else:\n",
    "            ndf[c] = (df[c] - TAG_MIN[c]) / (TAG_MAX[c] - TAG_MIN[c])\n",
    "    return ndf"
   ]
  },
  {
   "cell_type": "code",
   "execution_count": 11,
   "metadata": {},
   "outputs": [],
   "source": [
    "TRAIN_np=TRAIN_DF_RAW[VALID_COLUMNS_IN_TRAIN_DATASET].values"
   ]
  },
  {
   "cell_type": "code",
   "execution_count": 12,
   "metadata": {},
   "outputs": [],
   "source": [
    "TRAIN_DF_norm = normalize(\n",
    "    TRAIN_DF_RAW[VALID_COLUMNS_IN_TRAIN_DATASET]).ewm(alpha=0.9).mean()\n"
   ]
  },
  {
   "cell_type": "code",
   "execution_count": 13,
   "metadata": {},
   "outputs": [],
   "source": [
    "TRAIN_np_norm=TRAIN_DF_norm.values"
   ]
  },
  {
   "cell_type": "code",
   "execution_count": 14,
   "metadata": {},
   "outputs": [],
   "source": [
    "def boundary_check(df):\n",
    "    x = np.array(df, dtype=np.float32)\n",
    "    return np.any(x > 1.0), np.any(x < 0), np.any(np.isnan(x))"
   ]
  },
  {
   "cell_type": "code",
   "execution_count": 15,
   "metadata": {},
   "outputs": [
    {
     "data": {
      "text/plain": [
       "(True, True, False)"
      ]
     },
     "execution_count": 15,
     "metadata": {},
     "output_type": "execute_result"
    }
   ],
   "source": [
    "boundary_check(TRAIN_np)"
   ]
  },
  {
   "cell_type": "code",
   "execution_count": 16,
   "metadata": {},
   "outputs": [
    {
     "data": {
      "text/plain": [
       "(False, False, False)"
      ]
     },
     "execution_count": 16,
     "metadata": {},
     "output_type": "execute_result"
    }
   ],
   "source": [
    "boundary_check(TRAIN_np_norm)"
   ]
  },
  {
   "cell_type": "code",
   "execution_count": 17,
   "metadata": {},
   "outputs": [
    {
     "data": {
      "text/plain": [
       "(921603, 79)"
      ]
     },
     "execution_count": 17,
     "metadata": {},
     "output_type": "execute_result"
    }
   ],
   "source": [
    "TRAIN_np_norm.shape"
   ]
  },
  {
   "cell_type": "code",
   "execution_count": 18,
   "metadata": {
    "scrolled": true
   },
   "outputs": [
    {
     "name": "stdout",
     "output_type": "stream",
     "text": [
      "0.0%\n",
      "1.0%\n",
      "2.0%\n",
      "3.0%\n",
      "4.0%\n",
      "5.0%\n",
      "6.0%\n",
      "7.0%\n",
      "8.0%\n",
      "9.0%\n",
      "10.0%\n",
      "11.0%\n",
      "12.0%\n",
      "13.0%\n",
      "14.0%\n",
      "15.0%\n",
      "16.0%\n",
      "17.0%\n",
      "18.0%\n",
      "19.0%\n",
      "20.0%\n",
      "21.0%\n",
      "22.0%\n",
      "23.0%\n",
      "24.0%\n",
      "25.0%\n",
      "26.0%\n",
      "27.0%\n",
      "28.0%\n",
      "29.0%\n",
      "30.0%\n",
      "31.0%\n",
      "32.0%\n",
      "33.0%\n",
      "34.0%\n",
      "35.0%\n",
      "36.0%\n",
      "37.0%\n",
      "38.0%\n",
      "39.0%\n",
      "40.0%\n",
      "41.0%\n",
      "42.0%\n",
      "43.0%\n",
      "44.0%\n",
      "45.0%\n",
      "46.0%\n",
      "47.0%\n",
      "48.0%\n",
      "49.0%\n",
      "50.0%\n",
      "51.0%\n",
      "52.0%\n",
      "53.0%\n",
      "54.0%\n",
      "55.0%\n",
      "56.0%\n",
      "57.0%\n",
      "58.0%\n",
      "59.0%\n",
      "60.0%\n",
      "61.0%\n",
      "62.0%\n",
      "63.0%\n",
      "64.0%\n",
      "65.0%\n",
      "66.0%\n",
      "67.0%\n",
      "68.0%\n",
      "69.0%\n",
      "70.0%\n",
      "71.0%\n",
      "72.0%\n",
      "73.0%\n",
      "74.0%\n",
      "75.0%\n",
      "76.0%\n",
      "77.0%\n",
      "78.0%\n",
      "79.0%\n",
      "80.0%\n",
      "81.0%\n",
      "82.0%\n",
      "83.0%\n",
      "84.0%\n",
      "85.0%\n",
      "86.0%\n",
      "87.0%\n",
      "88.0%\n",
      "89.0%\n",
      "90.0%\n",
      "91.0%\n",
      "92.0%\n",
      "93.0%\n",
      "94.0%\n",
      "95.0%\n",
      "96.0%\n",
      "97.0%\n",
      "98.0%\n",
      "99.0%\n",
      "100.0%\n",
      "0.0%\n",
      "1.0%\n",
      "2.0%\n",
      "3.0%\n",
      "4.0%\n",
      "5.0%\n",
      "6.0%\n",
      "7.0%\n",
      "8.0%\n",
      "9.0%\n",
      "10.0%\n",
      "11.0%\n",
      "12.0%\n",
      "13.0%\n",
      "14.0%\n",
      "15.0%\n",
      "16.0%\n",
      "17.0%\n",
      "18.0%\n",
      "19.0%\n",
      "20.0%\n",
      "21.0%\n",
      "22.0%\n",
      "23.0%\n",
      "24.0%\n",
      "25.0%\n",
      "26.0%\n",
      "27.0%\n",
      "28.0%\n",
      "29.0%\n",
      "30.0%\n",
      "31.0%\n",
      "32.0%\n",
      "33.0%\n",
      "34.0%\n",
      "35.0%\n",
      "36.0%\n",
      "37.0%\n",
      "38.0%\n",
      "39.0%\n",
      "40.0%\n",
      "41.0%\n",
      "42.0%\n",
      "43.0%\n",
      "44.0%\n",
      "45.0%\n",
      "46.0%\n",
      "47.0%\n",
      "48.0%\n",
      "49.0%\n",
      "50.0%\n",
      "51.0%\n",
      "52.0%\n",
      "53.0%\n",
      "54.0%\n",
      "55.0%\n",
      "56.0%\n",
      "57.0%\n",
      "58.0%\n",
      "59.0%\n",
      "60.0%\n",
      "61.0%\n",
      "62.0%\n",
      "63.0%\n",
      "64.0%\n",
      "65.0%\n",
      "66.0%\n",
      "67.0%\n",
      "68.0%\n",
      "69.0%\n",
      "70.0%\n",
      "71.0%\n",
      "72.0%\n",
      "73.0%\n",
      "74.0%\n",
      "75.0%\n",
      "76.0%\n",
      "77.0%\n",
      "78.0%\n",
      "79.0%\n",
      "80.0%\n",
      "81.0%\n",
      "82.0%\n",
      "83.0%\n",
      "84.0%\n",
      "85.0%\n",
      "86.0%\n",
      "87.0%\n",
      "88.0%\n",
      "89.0%\n",
      "90.0%\n",
      "91.0%\n",
      "92.0%\n",
      "93.0%\n",
      "94.0%\n",
      "95.0%\n",
      "96.0%\n",
      "97.0%\n",
      "98.0%\n",
      "99.0%\n",
      "100.0%\n",
      "0.0%\n",
      "1.0%\n",
      "2.0%\n",
      "3.0%\n",
      "4.0%\n",
      "5.0%\n",
      "6.0%\n",
      "7.0%\n",
      "8.0%\n",
      "9.0%\n",
      "10.0%\n",
      "11.0%\n",
      "12.0%\n",
      "13.0%\n",
      "14.0%\n",
      "15.0%\n",
      "16.0%\n",
      "17.0%\n",
      "18.0%\n",
      "19.0%\n",
      "20.0%\n",
      "21.0%\n",
      "22.0%\n",
      "23.0%\n",
      "24.0%\n",
      "25.0%\n",
      "26.0%\n",
      "27.0%\n",
      "28.0%\n",
      "29.0%\n",
      "30.0%\n",
      "31.0%\n",
      "32.0%\n",
      "33.0%\n",
      "34.0%\n",
      "35.0%\n",
      "36.0%\n",
      "37.0%\n",
      "38.0%\n",
      "39.0%\n",
      "40.0%\n",
      "41.0%\n",
      "42.0%\n",
      "43.0%\n",
      "44.0%\n",
      "45.0%\n",
      "46.0%\n",
      "47.0%\n",
      "48.0%\n",
      "49.0%\n",
      "50.0%\n",
      "51.0%\n",
      "52.0%\n",
      "53.0%\n",
      "54.0%\n",
      "55.0%\n",
      "56.0%\n",
      "57.0%\n",
      "58.0%\n",
      "59.0%\n",
      "60.0%\n",
      "61.0%\n",
      "62.0%\n",
      "63.0%\n",
      "64.0%\n",
      "65.0%\n",
      "66.0%\n",
      "67.0%\n",
      "68.0%\n",
      "69.0%\n",
      "70.0%\n",
      "71.0%\n",
      "72.0%\n",
      "73.0%\n",
      "74.0%\n",
      "75.0%\n",
      "76.0%\n",
      "77.0%\n",
      "78.0%\n",
      "79.0%\n",
      "80.0%\n",
      "81.0%\n",
      "82.0%\n",
      "83.0%\n",
      "84.0%\n",
      "85.0%\n",
      "86.0%\n",
      "87.0%\n",
      "88.0%\n",
      "89.0%\n",
      "90.0%\n",
      "91.0%\n",
      "92.0%\n",
      "93.0%\n",
      "94.0%\n",
      "95.0%\n",
      "96.0%\n",
      "97.0%\n",
      "98.0%\n",
      "99.0%\n",
      "100.0%\n",
      "Start list to array\n",
      "(921513, 30, 79) (921513, 79)\n",
      "Done\n"
     ]
    }
   ],
   "source": [
    "#train_data\n",
    "\n",
    "#editable parameter\n",
    "\n",
    "#window_size : Amount of data referenced for prediction\n",
    "\n",
    "#stride : skip parameter , A variable used because the value of the data does not change significantly.\n",
    "#If the stride is 10, parsing the data by skipping 10 times.\n",
    "\n",
    "window_size = 30\n",
    "stride= 1\n",
    "X, Y = [], []\n",
    "skip=0\n",
    "for i in len_Train:\n",
    "    n_window = i-window_size+1\n",
    "    per=int(n_window/100)\n",
    "    for w in range(int((n_window-1)/stride)):\n",
    "        X.append(TRAIN_np_norm[skip+w*stride :skip+ w*stride+window_size])\n",
    "        Y.append(TRAIN_np_norm[skip+w*stride+window_size])\n",
    "        if w%per==0:\n",
    "            print(str(int(w*stride/per * 100)/100)+\"%\")\n",
    "    skip=skip+i\n",
    "            \n",
    "print(\"Start list to array\")\n",
    "X, Y = np.asarray(X), np.asarray(Y)\n",
    "print(X.shape,Y.shape)\n",
    "print(\"Done\")"
   ]
  },
  {
   "cell_type": "code",
   "execution_count": 19,
   "metadata": {},
   "outputs": [],
   "source": [
    "VALIDATION_DF_RAW,len_Val = dataframe_from_csvs(VALIDATION_DATASET)"
   ]
  },
  {
   "cell_type": "code",
   "execution_count": 20,
   "metadata": {},
   "outputs": [
    {
     "data": {
      "text/plain": [
       "0        2020-07-07 15:00:00\n",
       "1        2020-07-07 15:00:01\n",
       "2        2020-07-07 15:00:02\n",
       "3        2020-07-07 15:00:03\n",
       "4        2020-07-07 15:00:04\n",
       "                ...         \n",
       "43196    2020-07-08 02:59:56\n",
       "43197    2020-07-08 02:59:57\n",
       "43198    2020-07-08 02:59:58\n",
       "43199    2020-07-08 02:59:59\n",
       "43200    2020-07-08 03:00:00\n",
       "Name: time, Length: 43201, dtype: object"
      ]
     },
     "execution_count": 20,
     "metadata": {},
     "output_type": "execute_result"
    }
   ],
   "source": [
    "VALIDATION_DF_RAW[\"time\"]"
   ]
  },
  {
   "cell_type": "code",
   "execution_count": 21,
   "metadata": {},
   "outputs": [],
   "source": [
    "VALIDATION_DF = normalize(VALIDATION_DF_RAW[VALID_COLUMNS_IN_TRAIN_DATASET])"
   ]
  },
  {
   "cell_type": "code",
   "execution_count": 22,
   "metadata": {},
   "outputs": [],
   "source": [
    "VALIDATION_np_norm=VALIDATION_DF.values"
   ]
  },
  {
   "cell_type": "code",
   "execution_count": 23,
   "metadata": {},
   "outputs": [
    {
     "data": {
      "text/plain": [
       "(True, True, False)"
      ]
     },
     "execution_count": 23,
     "metadata": {},
     "output_type": "execute_result"
    }
   ],
   "source": [
    "boundary_check(VALIDATION_np_norm)"
   ]
  },
  {
   "cell_type": "code",
   "execution_count": 24,
   "metadata": {
    "scrolled": true
   },
   "outputs": [
    {
     "name": "stdout",
     "output_type": "stream",
     "text": [
      "0.0%\n",
      "1.0%\n",
      "2.0%\n",
      "3.0%\n",
      "4.0%\n",
      "5.0%\n",
      "6.0%\n",
      "7.0%\n",
      "8.0%\n",
      "9.0%\n",
      "10.0%\n",
      "11.0%\n",
      "12.0%\n",
      "13.0%\n",
      "14.0%\n",
      "15.0%\n",
      "16.0%\n",
      "17.0%\n",
      "18.0%\n",
      "19.0%\n",
      "20.0%\n",
      "21.0%\n",
      "22.0%\n",
      "23.0%\n",
      "24.0%\n",
      "25.0%\n",
      "26.0%\n",
      "27.0%\n",
      "28.0%\n",
      "29.0%\n",
      "30.0%\n",
      "31.0%\n",
      "32.0%\n",
      "33.0%\n",
      "34.0%\n",
      "35.0%\n",
      "36.0%\n",
      "37.0%\n",
      "38.0%\n",
      "39.0%\n",
      "40.0%\n",
      "41.0%\n",
      "42.0%\n",
      "43.0%\n",
      "44.0%\n",
      "45.0%\n",
      "46.0%\n",
      "47.0%\n",
      "48.0%\n",
      "49.0%\n",
      "50.0%\n",
      "51.0%\n",
      "52.0%\n",
      "53.0%\n",
      "54.0%\n",
      "55.0%\n",
      "56.0%\n",
      "57.0%\n",
      "58.0%\n",
      "59.0%\n",
      "60.0%\n",
      "61.0%\n",
      "62.0%\n",
      "63.0%\n",
      "64.0%\n",
      "65.0%\n",
      "66.0%\n",
      "67.0%\n",
      "68.0%\n",
      "69.0%\n",
      "70.0%\n",
      "71.0%\n",
      "72.0%\n",
      "73.0%\n",
      "74.0%\n",
      "75.0%\n",
      "76.0%\n",
      "77.0%\n",
      "78.0%\n",
      "79.0%\n",
      "80.0%\n",
      "81.0%\n",
      "82.0%\n",
      "83.0%\n",
      "84.0%\n",
      "85.0%\n",
      "86.0%\n",
      "87.0%\n",
      "88.0%\n",
      "89.0%\n",
      "90.0%\n",
      "91.0%\n",
      "92.0%\n",
      "93.0%\n",
      "94.0%\n",
      "95.0%\n",
      "96.0%\n",
      "97.0%\n",
      "98.0%\n",
      "99.0%\n",
      "100.0%\n",
      "Start list to array\n",
      "(43171, 30, 79) (43171, 79)\n",
      "Done\n"
     ]
    }
   ],
   "source": [
    "#validation\n",
    "\n",
    "# Don't edit\n",
    "\n",
    "stride_val= 1\n",
    "n_window_val = VALIDATION_np_norm.shape[0]-window_size+1\n",
    "X_val, Y_val = [], []\n",
    "per_val=int(n_window_val/100)\n",
    "\n",
    "for j in len_Val:\n",
    "    n_window_val = j-window_size+1\n",
    "    per=int(n_window_val/100)\n",
    "    for w in range(int((n_window_val-1)/stride_val)):\n",
    "        X_val.append(VALIDATION_np_norm[w*stride_val : w*stride_val+window_size])\n",
    "        Y_val.append(VALIDATION_np_norm[w*stride_val+window_size])\n",
    "        if w%per_val==0:\n",
    "            print(str((int(w*stride_val/per_val * 100)/100))+\"%\")\n",
    "\n",
    "        \n",
    "print(\"Start list to array\")\n",
    "X_val, Y_val = np.asarray(X_val), np.asarray(Y_val)\n",
    "print(X_val.shape,Y_val.shape)\n",
    "print(\"Done\")"
   ]
  },
  {
   "cell_type": "markdown",
   "metadata": {},
   "source": [
    "# DATA preprocessing End"
   ]
  },
  {
   "cell_type": "markdown",
   "metadata": {},
   "source": [
    "#DATA Train Start"
   ]
  },
  {
   "cell_type": "code",
   "execution_count": 111,
   "metadata": {},
   "outputs": [],
   "source": [
    "b_input = Input(shape=(X[0].shape))\n",
    "\n",
    "H = LSTM(128, return_sequences=True)(b_input)\n",
    "H = LSTM(128, return_sequences=True)(H)\n",
    "H = LSTM(128, return_sequences=False)(H)\n",
    "\n",
    "H = Dense(256, activation='tanh', name='without_attention_layer')(H)\n",
    "H = Dense(128, activation='tanh')(H)\n",
    "b_output = Dense(79, activation='linear')(H)"
   ]
  },
  {
   "cell_type": "code",
   "execution_count": 112,
   "metadata": {
    "scrolled": true
   },
   "outputs": [
    {
     "name": "stdout",
     "output_type": "stream",
     "text": [
      "Model: \"model_5\"\n",
      "_________________________________________________________________\n",
      "Layer (type)                 Output Shape              Param #   \n",
      "=================================================================\n",
      "input_6 (InputLayer)         (None, 30, 79)            0         \n",
      "_________________________________________________________________\n",
      "lstm_13 (LSTM)               (None, 30, 128)           106496    \n",
      "_________________________________________________________________\n",
      "lstm_14 (LSTM)               (None, 30, 128)           131584    \n",
      "_________________________________________________________________\n",
      "lstm_15 (LSTM)               (None, 128)               131584    \n",
      "_________________________________________________________________\n",
      "without_attention_layer (Den (None, 256)               33024     \n",
      "_________________________________________________________________\n",
      "dense_9 (Dense)              (None, 128)               32896     \n",
      "_________________________________________________________________\n",
      "dense_10 (Dense)             (None, 79)                10191     \n",
      "=================================================================\n",
      "Total params: 445,775\n",
      "Trainable params: 445,775\n",
      "Non-trainable params: 0\n",
      "_________________________________________________________________\n",
      "Train on 921513 samples, validate on 43171 samples\n",
      "Epoch 1/200\n",
      "921513/921513 [==============================] - 93s 101us/step - loss: 0.0049 - mse: 0.0049 - kullback_leibler_divergence: 1.1692 - MAPE: 4835593.0000 - MAE: 0.0349 - val_loss: 0.0021 - val_mse: 0.0021 - val_kullback_leibler_divergence: 0.5954 - val_MAPE: 2634031.2500 - val_MAE: 0.0212\n",
      "Epoch 2/200\n",
      "921513/921513 [==============================] - 78s 85us/step - loss: 6.7950e-04 - mse: 6.7950e-04 - kullback_leibler_divergence: 0.1287 - MAPE: 1634973.0000 - MAE: 0.0136 - val_loss: 0.0017 - val_mse: 0.0017 - val_kullback_leibler_divergence: 0.3361 - val_MAPE: 1871843.6250 - val_MAE: 0.0171\n",
      "Epoch 3/200\n",
      "921513/921513 [==============================] - 78s 85us/step - loss: 5.5813e-04 - mse: 5.5813e-04 - kullback_leibler_divergence: 0.1041 - MAPE: 1262594.3750 - MAE: 0.0118 - val_loss: 0.0015 - val_mse: 0.0015 - val_kullback_leibler_divergence: 0.5572 - val_MAPE: 1560949.0000 - val_MAE: 0.0157\n",
      "Epoch 4/200\n",
      "921513/921513 [==============================] - 79s 85us/step - loss: 4.9056e-04 - mse: 4.9056e-04 - kullback_leibler_divergence: 0.0931 - MAPE: 1086114.0000 - MAE: 0.0108 - val_loss: 0.0013 - val_mse: 0.0013 - val_kullback_leibler_divergence: 0.4258 - val_MAPE: 1378185.5000 - val_MAE: 0.0143\n",
      "Epoch 5/200\n",
      "921513/921513 [==============================] - 78s 85us/step - loss: 4.5143e-04 - mse: 4.5143e-04 - kullback_leibler_divergence: 0.0852 - MAPE: 958351.2500 - MAE: 0.0102 - val_loss: 0.0013 - val_mse: 0.0013 - val_kullback_leibler_divergence: 0.4853 - val_MAPE: 1259586.5000 - val_MAE: 0.0139\n",
      "Epoch 6/200\n",
      "921513/921513 [==============================] - 78s 84us/step - loss: 4.2091e-04 - mse: 4.2091e-04 - kullback_leibler_divergence: 0.0791 - MAPE: 873687.3125 - MAE: 0.0096 - val_loss: 0.0012 - val_mse: 0.0012 - val_kullback_leibler_divergence: 0.2508 - val_MAPE: 1087851.8750 - val_MAE: 0.0121\n",
      "Epoch 7/200\n",
      "921513/921513 [==============================] - 78s 85us/step - loss: 3.9819e-04 - mse: 3.9819e-04 - kullback_leibler_divergence: 0.0751 - MAPE: 800978.1250 - MAE: 0.0092 - val_loss: 0.0012 - val_mse: 0.0012 - val_kullback_leibler_divergence: 0.4171 - val_MAPE: 1036877.1875 - val_MAE: 0.0119\n",
      "Epoch 8/200\n",
      "921513/921513 [==============================] - 78s 85us/step - loss: 3.7467e-04 - mse: 3.7467e-04 - kullback_leibler_divergence: 0.0707 - MAPE: 732384.5000 - MAE: 0.0088 - val_loss: 0.0011 - val_mse: 0.0011 - val_kullback_leibler_divergence: 0.2096 - val_MAPE: 946784.2500 - val_MAE: 0.0114\n",
      "Epoch 9/200\n",
      "921513/921513 [==============================] - 78s 85us/step - loss: 3.5967e-04 - mse: 3.5967e-04 - kullback_leibler_divergence: 0.0675 - MAPE: 661500.8750 - MAE: 0.0084 - val_loss: 0.0011 - val_mse: 0.0011 - val_kullback_leibler_divergence: 0.2067 - val_MAPE: 827304.6250 - val_MAE: 0.0105\n",
      "Epoch 10/200\n",
      "921513/921513 [==============================] - 78s 85us/step - loss: 3.4959e-04 - mse: 3.4959e-04 - kullback_leibler_divergence: 0.0649 - MAPE: 614612.8125 - MAE: 0.0082 - val_loss: 0.0011 - val_mse: 0.0011 - val_kullback_leibler_divergence: 0.3341 - val_MAPE: 790769.6875 - val_MAE: 0.0104\n",
      "Epoch 11/200\n",
      "921513/921513 [==============================] - 78s 84us/step - loss: 3.4294e-04 - mse: 3.4294e-04 - kullback_leibler_divergence: 0.0633 - MAPE: 571315.9375 - MAE: 0.0080 - val_loss: 0.0011 - val_mse: 0.0011 - val_kullback_leibler_divergence: 0.1730 - val_MAPE: 736751.8750 - val_MAE: 0.0105\n",
      "Epoch 12/200\n",
      "921513/921513 [==============================] - 78s 85us/step - loss: 3.3668e-04 - mse: 3.3668e-04 - kullback_leibler_divergence: 0.0612 - MAPE: 541032.3125 - MAE: 0.0078 - val_loss: 0.0011 - val_mse: 0.0011 - val_kullback_leibler_divergence: 0.3673 - val_MAPE: 680726.3125 - val_MAE: 0.0104\n",
      "Epoch 13/200\n",
      "921513/921513 [==============================] - 78s 85us/step - loss: 3.3206e-04 - mse: 3.3206e-04 - kullback_leibler_divergence: 0.0601 - MAPE: 505752.7188 - MAE: 0.0076 - val_loss: 0.0011 - val_mse: 0.0011 - val_kullback_leibler_divergence: 0.2491 - val_MAPE: 759257.8750 - val_MAE: 0.0103\n",
      "Epoch 14/200\n",
      "921513/921513 [==============================] - 76s 83us/step - loss: 3.2780e-04 - mse: 3.2780e-04 - kullback_leibler_divergence: 0.0586 - MAPE: 486328.7812 - MAE: 0.0075 - val_loss: 0.0010 - val_mse: 0.0010 - val_kullback_leibler_divergence: 0.1652 - val_MAPE: 647229.5000 - val_MAE: 0.0098\n",
      "Epoch 15/200\n",
      "921513/921513 [==============================] - 78s 84us/step - loss: 3.2406e-04 - mse: 3.2406e-04 - kullback_leibler_divergence: 0.0576 - MAPE: 459030.4375 - MAE: 0.0074 - val_loss: 0.0010 - val_mse: 0.0010 - val_kullback_leibler_divergence: 0.1838 - val_MAPE: 585066.9375 - val_MAE: 0.0096\n",
      "Epoch 16/200\n",
      "921513/921513 [==============================] - 79s 85us/step - loss: 3.2113e-04 - mse: 3.2113e-04 - kullback_leibler_divergence: 0.0570 - MAPE: 446170.7188 - MAE: 0.0073 - val_loss: 0.0010 - val_mse: 0.0010 - val_kullback_leibler_divergence: 0.2475 - val_MAPE: 594896.5000 - val_MAE: 0.0096\n",
      "Epoch 17/200\n",
      "921513/921513 [==============================] - 79s 85us/step - loss: 3.1785e-04 - mse: 3.1785e-04 - kullback_leibler_divergence: 0.0558 - MAPE: 426353.2188 - MAE: 0.0072 - val_loss: 9.9771e-04 - val_mse: 9.9771e-04 - val_kullback_leibler_divergence: 0.3566 - val_MAPE: 496432.4688 - val_MAE: 0.0097\n",
      "Epoch 18/200\n",
      "921513/921513 [==============================] - 78s 85us/step - loss: 3.1539e-04 - mse: 3.1539e-04 - kullback_leibler_divergence: 0.0554 - MAPE: 404828.6875 - MAE: 0.0071 - val_loss: 9.8924e-04 - val_mse: 9.8924e-04 - val_kullback_leibler_divergence: 0.2537 - val_MAPE: 524008.8125 - val_MAE: 0.0094\n",
      "Epoch 19/200\n",
      "921513/921513 [==============================] - 78s 85us/step - loss: 3.1287e-04 - mse: 3.1287e-04 - kullback_leibler_divergence: 0.0547 - MAPE: 393010.5312 - MAE: 0.0070 - val_loss: 9.9457e-04 - val_mse: 9.9457e-04 - val_kullback_leibler_divergence: 0.1647 - val_MAPE: 535016.4375 - val_MAE: 0.0093\n",
      "Epoch 20/200\n",
      "921513/921513 [==============================] - 76s 82us/step - loss: 3.1119e-04 - mse: 3.1119e-04 - kullback_leibler_divergence: 0.0542 - MAPE: 379093.1250 - MAE: 0.0070 - val_loss: 9.7858e-04 - val_mse: 9.7858e-04 - val_kullback_leibler_divergence: 0.2329 - val_MAPE: 490898.0625 - val_MAE: 0.0090\n",
      "Epoch 21/200\n",
      "921513/921513 [==============================] - 78s 84us/step - loss: 3.0873e-04 - mse: 3.0873e-04 - kullback_leibler_divergence: 0.0532 - MAPE: 361551.5000 - MAE: 0.0069 - val_loss: 0.0010 - val_mse: 0.0010 - val_kullback_leibler_divergence: 0.4485 - val_MAPE: 474756.5938 - val_MAE: 0.0103\n",
      "Epoch 22/200\n",
      "921513/921513 [==============================] - 78s 85us/step - loss: 3.0724e-04 - mse: 3.0724e-04 - kullback_leibler_divergence: 0.0532 - MAPE: 352158.9062 - MAE: 0.0069 - val_loss: 9.8143e-04 - val_mse: 9.8143e-04 - val_kullback_leibler_divergence: 0.2404 - val_MAPE: 447685.8125 - val_MAE: 0.0089\n",
      "Epoch 23/200\n"
     ]
    },
    {
     "name": "stdout",
     "output_type": "stream",
     "text": [
      "921513/921513 [==============================] - 78s 85us/step - loss: 3.0589e-04 - mse: 3.0589e-04 - kullback_leibler_divergence: 0.0525 - MAPE: 339018.2188 - MAE: 0.0068 - val_loss: 9.8230e-04 - val_mse: 9.8230e-04 - val_kullback_leibler_divergence: 0.1593 - val_MAPE: 459333.6875 - val_MAE: 0.0088\n",
      "Epoch 24/200\n",
      "921513/921513 [==============================] - 78s 85us/step - loss: 3.0484e-04 - mse: 3.0484e-04 - kullback_leibler_divergence: 0.0525 - MAPE: 334725.1875 - MAE: 0.0068 - val_loss: 0.0010 - val_mse: 0.0010 - val_kullback_leibler_divergence: 0.3124 - val_MAPE: 435267.2500 - val_MAE: 0.0092\n",
      "Epoch 25/200\n",
      "921513/921513 [==============================] - 78s 85us/step - loss: 3.0253e-04 - mse: 3.0253e-04 - kullback_leibler_divergence: 0.0513 - MAPE: 321561.1562 - MAE: 0.0067 - val_loss: 0.0010 - val_mse: 0.0010 - val_kullback_leibler_divergence: 0.4008 - val_MAPE: 464558.2812 - val_MAE: 0.0095\n",
      "Epoch 26/200\n",
      "921513/921513 [==============================] - 78s 85us/step - loss: 3.0159e-04 - mse: 3.0159e-04 - kullback_leibler_divergence: 0.0514 - MAPE: 318513.1875 - MAE: 0.0067 - val_loss: 9.9896e-04 - val_mse: 9.9896e-04 - val_kullback_leibler_divergence: 0.2320 - val_MAPE: 470034.5312 - val_MAE: 0.0089\n",
      "Epoch 27/200\n",
      "921513/921513 [==============================] - 78s 85us/step - loss: 2.9970e-04 - mse: 2.9970e-04 - kullback_leibler_divergence: 0.0505 - MAPE: 306462.0312 - MAE: 0.0066 - val_loss: 0.0010 - val_mse: 0.0010 - val_kullback_leibler_divergence: 0.2767 - val_MAPE: 479016.1562 - val_MAE: 0.0090\n",
      "Epoch 28/200\n",
      "921513/921513 [==============================] - 78s 85us/step - loss: 2.9902e-04 - mse: 2.9902e-04 - kullback_leibler_divergence: 0.0507 - MAPE: 303124.9375 - MAE: 0.0066 - val_loss: 9.9441e-04 - val_mse: 9.9441e-04 - val_kullback_leibler_divergence: 0.2273 - val_MAPE: 440877.0938 - val_MAE: 0.0089\n",
      "Epoch 29/200\n",
      "921513/921513 [==============================] - 77s 83us/step - loss: 2.9755e-04 - mse: 2.9755e-04 - kullback_leibler_divergence: 0.0504 - MAPE: 292509.4062 - MAE: 0.0066 - val_loss: 0.0010 - val_mse: 0.0010 - val_kullback_leibler_divergence: 0.2906 - val_MAPE: 420158.0000 - val_MAE: 0.0090\n",
      "Epoch 30/200\n",
      "921513/921513 [==============================] - 75s 82us/step - loss: 2.9668e-04 - mse: 2.9668e-04 - kullback_leibler_divergence: 0.0501 - MAPE: 288625.0625 - MAE: 0.0065 - val_loss: 0.0010 - val_mse: 0.0010 - val_kullback_leibler_divergence: 0.3738 - val_MAPE: 371974.8750 - val_MAE: 0.0095\n",
      "Epoch 31/200\n",
      "921513/921513 [==============================] - 76s 82us/step - loss: 2.9561e-04 - mse: 2.9561e-04 - kullback_leibler_divergence: 0.0499 - MAPE: 284586.4062 - MAE: 0.0065 - val_loss: 0.0010 - val_mse: 0.0010 - val_kullback_leibler_divergence: 0.2248 - val_MAPE: 406471.8438 - val_MAE: 0.0089\n",
      "Epoch 32/200\n",
      "921513/921513 [==============================] - 75s 82us/step - loss: 2.9428e-04 - mse: 2.9428e-04 - kullback_leibler_divergence: 0.0493 - MAPE: 276338.8125 - MAE: 0.0065 - val_loss: 9.9533e-04 - val_mse: 9.9533e-04 - val_kullback_leibler_divergence: 0.2506 - val_MAPE: 367683.4062 - val_MAE: 0.0087\n",
      "Epoch 33/200\n",
      "921513/921513 [==============================] - 75s 82us/step - loss: 2.9327e-04 - mse: 2.9327e-04 - kullback_leibler_divergence: 0.0491 - MAPE: 272917.6875 - MAE: 0.0065 - val_loss: 0.0010 - val_mse: 0.0010 - val_kullback_leibler_divergence: 0.2891 - val_MAPE: 348929.8438 - val_MAE: 0.0089\n",
      "Epoch 34/200\n",
      "921513/921513 [==============================] - 75s 82us/step - loss: 2.9235e-04 - mse: 2.9235e-04 - kullback_leibler_divergence: 0.0489 - MAPE: 268075.4375 - MAE: 0.0064 - val_loss: 0.0010 - val_mse: 0.0010 - val_kullback_leibler_divergence: 0.1053 - val_MAPE: 360404.8750 - val_MAE: 0.0089\n",
      "Epoch 35/200\n",
      "921513/921513 [==============================] - 78s 85us/step - loss: 2.9110e-04 - mse: 2.9110e-04 - kullback_leibler_divergence: 0.0484 - MAPE: 266422.5312 - MAE: 0.0064 - val_loss: 0.0010 - val_mse: 0.0010 - val_kullback_leibler_divergence: 0.2454 - val_MAPE: 377310.9375 - val_MAE: 0.0087\n",
      "Epoch 36/200\n",
      "921513/921513 [==============================] - 75s 82us/step - loss: 2.8996e-04 - mse: 2.8996e-04 - kullback_leibler_divergence: 0.0482 - MAPE: 254606.7344 - MAE: 0.0064 - val_loss: 0.0010 - val_mse: 0.0010 - val_kullback_leibler_divergence: 0.2116 - val_MAPE: 357153.5938 - val_MAE: 0.0085\n",
      "Epoch 37/200\n",
      "921513/921513 [==============================] - 75s 82us/step - loss: 2.8947e-04 - mse: 2.8947e-04 - kullback_leibler_divergence: 0.0480 - MAPE: 254220.4062 - MAE: 0.0064 - val_loss: 0.0010 - val_mse: 0.0010 - val_kullback_leibler_divergence: 0.2594 - val_MAPE: 358975.9688 - val_MAE: 0.0087\n",
      "Epoch 38/200\n",
      "921513/921513 [==============================] - 75s 82us/step - loss: 2.8838e-04 - mse: 2.8838e-04 - kullback_leibler_divergence: 0.0479 - MAPE: 250605.4844 - MAE: 0.0063 - val_loss: 0.0010 - val_mse: 0.0010 - val_kullback_leibler_divergence: 0.2442 - val_MAPE: 333510.2500 - val_MAE: 0.0085\n",
      "Epoch 39/200\n",
      "921513/921513 [==============================] - 75s 82us/step - loss: 2.8754e-04 - mse: 2.8754e-04 - kullback_leibler_divergence: 0.0476 - MAPE: 248676.4531 - MAE: 0.0063 - val_loss: 0.0010 - val_mse: 0.0010 - val_kullback_leibler_divergence: 0.2023 - val_MAPE: 376338.3438 - val_MAE: 0.0087\n",
      "Epoch 40/200\n",
      "921513/921513 [==============================] - 75s 82us/step - loss: 2.8665e-04 - mse: 2.8665e-04 - kullback_leibler_divergence: 0.0472 - MAPE: 242714.5000 - MAE: 0.0063 - val_loss: 0.0010 - val_mse: 0.0010 - val_kullback_leibler_divergence: 0.2607 - val_MAPE: 346595.5312 - val_MAE: 0.0089\n",
      "Epoch 41/200\n",
      "921513/921513 [==============================] - 79s 86us/step - loss: 2.8573e-04 - mse: 2.8573e-04 - kullback_leibler_divergence: 0.0468 - MAPE: 236952.1250 - MAE: 0.0063 - val_loss: 0.0010 - val_mse: 0.0010 - val_kullback_leibler_divergence: 0.3038 - val_MAPE: 331099.0000 - val_MAE: 0.0087\n",
      "Epoch 42/200\n",
      "339968/921513 [==========>...................] - ETA: 49s - loss: 2.8449e-04 - mse: 2.8449e-04 - kullback_leibler_divergence: 0.0467 - MAPE: 232553.2812 - MAE: 0.0062"
     ]
    },
    {
     "ename": "KeyboardInterrupt",
     "evalue": "",
     "output_type": "error",
     "traceback": [
      "\u001b[1;31m---------------------------------------------------------------------------\u001b[0m",
      "\u001b[1;31mKeyboardInterrupt\u001b[0m                         Traceback (most recent call last)",
      "\u001b[1;32m<ipython-input-112-dd0f45490c83>\u001b[0m in \u001b[0;36m<module>\u001b[1;34m\u001b[0m\n\u001b[0;32m      3\u001b[0m \u001b[0mmodel_cnn_lstm_base\u001b[0m\u001b[1;33m.\u001b[0m\u001b[0msummary\u001b[0m\u001b[1;33m(\u001b[0m\u001b[1;33m)\u001b[0m\u001b[1;33m\u001b[0m\u001b[1;33m\u001b[0m\u001b[0m\n\u001b[0;32m      4\u001b[0m \u001b[0mes\u001b[0m \u001b[1;33m=\u001b[0m \u001b[0mEarlyStopping\u001b[0m\u001b[1;33m(\u001b[0m\u001b[0mmonitor\u001b[0m\u001b[1;33m=\u001b[0m\u001b[1;34m'loss'\u001b[0m\u001b[1;33m,\u001b[0m \u001b[0mrestore_best_weights\u001b[0m\u001b[1;33m=\u001b[0m\u001b[1;32mTrue\u001b[0m\u001b[1;33m,\u001b[0m \u001b[0mpatience\u001b[0m\u001b[1;33m=\u001b[0m\u001b[1;36m10\u001b[0m\u001b[1;33m)\u001b[0m\u001b[1;33m\u001b[0m\u001b[1;33m\u001b[0m\u001b[0m\n\u001b[1;32m----> 5\u001b[1;33m \u001b[0mmodel_cnn_lstm_base\u001b[0m\u001b[1;33m.\u001b[0m\u001b[0mfit\u001b[0m\u001b[1;33m(\u001b[0m\u001b[0mX\u001b[0m\u001b[1;33m,\u001b[0m \u001b[0mY\u001b[0m\u001b[1;33m,\u001b[0m \u001b[0mvalidation_data\u001b[0m\u001b[1;33m=\u001b[0m\u001b[1;33m(\u001b[0m\u001b[0mX_val\u001b[0m\u001b[1;33m,\u001b[0m \u001b[0mY_val\u001b[0m\u001b[1;33m)\u001b[0m\u001b[1;33m,\u001b[0m \u001b[0mepochs\u001b[0m\u001b[1;33m=\u001b[0m\u001b[1;36m200\u001b[0m\u001b[1;33m,\u001b[0m \u001b[0mbatch_size\u001b[0m\u001b[1;33m=\u001b[0m\u001b[1;36m1024\u001b[0m\u001b[1;33m,\u001b[0m \u001b[0mshuffle\u001b[0m\u001b[1;33m=\u001b[0m\u001b[1;32mTrue\u001b[0m\u001b[1;33m,\u001b[0m \u001b[0mcallbacks\u001b[0m\u001b[1;33m=\u001b[0m\u001b[1;33m[\u001b[0m\u001b[0mes\u001b[0m\u001b[1;33m]\u001b[0m\u001b[1;33m)\u001b[0m\u001b[1;33m\u001b[0m\u001b[1;33m\u001b[0m\u001b[0m\n\u001b[0m",
      "\u001b[1;32m~\\anaconda3\\envs\\dacon_2\\lib\\site-packages\\keras\\engine\\training.py\u001b[0m in \u001b[0;36mfit\u001b[1;34m(self, x, y, batch_size, epochs, verbose, callbacks, validation_split, validation_data, shuffle, class_weight, sample_weight, initial_epoch, steps_per_epoch, validation_steps, validation_freq, max_queue_size, workers, use_multiprocessing, **kwargs)\u001b[0m\n\u001b[0;32m   1237\u001b[0m                                         \u001b[0msteps_per_epoch\u001b[0m\u001b[1;33m=\u001b[0m\u001b[0msteps_per_epoch\u001b[0m\u001b[1;33m,\u001b[0m\u001b[1;33m\u001b[0m\u001b[1;33m\u001b[0m\u001b[0m\n\u001b[0;32m   1238\u001b[0m                                         \u001b[0mvalidation_steps\u001b[0m\u001b[1;33m=\u001b[0m\u001b[0mvalidation_steps\u001b[0m\u001b[1;33m,\u001b[0m\u001b[1;33m\u001b[0m\u001b[1;33m\u001b[0m\u001b[0m\n\u001b[1;32m-> 1239\u001b[1;33m                                         validation_freq=validation_freq)\n\u001b[0m\u001b[0;32m   1240\u001b[0m \u001b[1;33m\u001b[0m\u001b[0m\n\u001b[0;32m   1241\u001b[0m     def evaluate(self,\n",
      "\u001b[1;32m~\\anaconda3\\envs\\dacon_2\\lib\\site-packages\\keras\\engine\\training_arrays.py\u001b[0m in \u001b[0;36mfit_loop\u001b[1;34m(model, fit_function, fit_inputs, out_labels, batch_size, epochs, verbose, callbacks, val_function, val_inputs, shuffle, initial_epoch, steps_per_epoch, validation_steps, validation_freq)\u001b[0m\n\u001b[0;32m    194\u001b[0m                     \u001b[0mins_batch\u001b[0m\u001b[1;33m[\u001b[0m\u001b[0mi\u001b[0m\u001b[1;33m]\u001b[0m \u001b[1;33m=\u001b[0m \u001b[0mins_batch\u001b[0m\u001b[1;33m[\u001b[0m\u001b[0mi\u001b[0m\u001b[1;33m]\u001b[0m\u001b[1;33m.\u001b[0m\u001b[0mtoarray\u001b[0m\u001b[1;33m(\u001b[0m\u001b[1;33m)\u001b[0m\u001b[1;33m\u001b[0m\u001b[1;33m\u001b[0m\u001b[0m\n\u001b[0;32m    195\u001b[0m \u001b[1;33m\u001b[0m\u001b[0m\n\u001b[1;32m--> 196\u001b[1;33m                 \u001b[0mouts\u001b[0m \u001b[1;33m=\u001b[0m \u001b[0mfit_function\u001b[0m\u001b[1;33m(\u001b[0m\u001b[0mins_batch\u001b[0m\u001b[1;33m)\u001b[0m\u001b[1;33m\u001b[0m\u001b[1;33m\u001b[0m\u001b[0m\n\u001b[0m\u001b[0;32m    197\u001b[0m                 \u001b[0mouts\u001b[0m \u001b[1;33m=\u001b[0m \u001b[0mto_list\u001b[0m\u001b[1;33m(\u001b[0m\u001b[0mouts\u001b[0m\u001b[1;33m)\u001b[0m\u001b[1;33m\u001b[0m\u001b[1;33m\u001b[0m\u001b[0m\n\u001b[0;32m    198\u001b[0m                 \u001b[1;32mfor\u001b[0m \u001b[0ml\u001b[0m\u001b[1;33m,\u001b[0m \u001b[0mo\u001b[0m \u001b[1;32min\u001b[0m \u001b[0mzip\u001b[0m\u001b[1;33m(\u001b[0m\u001b[0mout_labels\u001b[0m\u001b[1;33m,\u001b[0m \u001b[0mouts\u001b[0m\u001b[1;33m)\u001b[0m\u001b[1;33m:\u001b[0m\u001b[1;33m\u001b[0m\u001b[1;33m\u001b[0m\u001b[0m\n",
      "\u001b[1;32m~\\anaconda3\\envs\\dacon_2\\lib\\site-packages\\tensorflow_core\\python\\keras\\backend.py\u001b[0m in \u001b[0;36m__call__\u001b[1;34m(self, inputs)\u001b[0m\n\u001b[0;32m   3733\u001b[0m     return nest.pack_sequence_as(\n\u001b[0;32m   3734\u001b[0m         \u001b[0mself\u001b[0m\u001b[1;33m.\u001b[0m\u001b[0m_outputs_structure\u001b[0m\u001b[1;33m,\u001b[0m\u001b[1;33m\u001b[0m\u001b[1;33m\u001b[0m\u001b[0m\n\u001b[1;32m-> 3735\u001b[1;33m         \u001b[1;33m[\u001b[0m\u001b[0mx\u001b[0m\u001b[1;33m.\u001b[0m\u001b[0m_numpy\u001b[0m\u001b[1;33m(\u001b[0m\u001b[1;33m)\u001b[0m \u001b[1;32mfor\u001b[0m \u001b[0mx\u001b[0m \u001b[1;32min\u001b[0m \u001b[0moutputs\u001b[0m\u001b[1;33m]\u001b[0m\u001b[1;33m,\u001b[0m  \u001b[1;31m# pylint: disable=protected-access\u001b[0m\u001b[1;33m\u001b[0m\u001b[1;33m\u001b[0m\u001b[0m\n\u001b[0m\u001b[0;32m   3736\u001b[0m         expand_composites=True)\n\u001b[0;32m   3737\u001b[0m \u001b[1;33m\u001b[0m\u001b[0m\n",
      "\u001b[1;32m~\\anaconda3\\envs\\dacon_2\\lib\\site-packages\\tensorflow_core\\python\\keras\\backend.py\u001b[0m in \u001b[0;36m<listcomp>\u001b[1;34m(.0)\u001b[0m\n\u001b[0;32m   3733\u001b[0m     return nest.pack_sequence_as(\n\u001b[0;32m   3734\u001b[0m         \u001b[0mself\u001b[0m\u001b[1;33m.\u001b[0m\u001b[0m_outputs_structure\u001b[0m\u001b[1;33m,\u001b[0m\u001b[1;33m\u001b[0m\u001b[1;33m\u001b[0m\u001b[0m\n\u001b[1;32m-> 3735\u001b[1;33m         \u001b[1;33m[\u001b[0m\u001b[0mx\u001b[0m\u001b[1;33m.\u001b[0m\u001b[0m_numpy\u001b[0m\u001b[1;33m(\u001b[0m\u001b[1;33m)\u001b[0m \u001b[1;32mfor\u001b[0m \u001b[0mx\u001b[0m \u001b[1;32min\u001b[0m \u001b[0moutputs\u001b[0m\u001b[1;33m]\u001b[0m\u001b[1;33m,\u001b[0m  \u001b[1;31m# pylint: disable=protected-access\u001b[0m\u001b[1;33m\u001b[0m\u001b[1;33m\u001b[0m\u001b[0m\n\u001b[0m\u001b[0;32m   3736\u001b[0m         expand_composites=True)\n\u001b[0;32m   3737\u001b[0m \u001b[1;33m\u001b[0m\u001b[0m\n",
      "\u001b[1;32m~\\anaconda3\\envs\\dacon_2\\lib\\site-packages\\tensorflow_core\\python\\framework\\ops.py\u001b[0m in \u001b[0;36m_numpy\u001b[1;34m(self)\u001b[0m\n\u001b[0;32m    906\u001b[0m     \u001b[1;31m# pylint: disable=protected-access\u001b[0m\u001b[1;33m\u001b[0m\u001b[1;33m\u001b[0m\u001b[1;33m\u001b[0m\u001b[0m\n\u001b[0;32m    907\u001b[0m     \u001b[1;32mtry\u001b[0m\u001b[1;33m:\u001b[0m\u001b[1;33m\u001b[0m\u001b[1;33m\u001b[0m\u001b[0m\n\u001b[1;32m--> 908\u001b[1;33m       \u001b[1;32mreturn\u001b[0m \u001b[0mself\u001b[0m\u001b[1;33m.\u001b[0m\u001b[0m_numpy_internal\u001b[0m\u001b[1;33m(\u001b[0m\u001b[1;33m)\u001b[0m\u001b[1;33m\u001b[0m\u001b[1;33m\u001b[0m\u001b[0m\n\u001b[0m\u001b[0;32m    909\u001b[0m     \u001b[1;32mexcept\u001b[0m \u001b[0mcore\u001b[0m\u001b[1;33m.\u001b[0m\u001b[0m_NotOkStatusException\u001b[0m \u001b[1;32mas\u001b[0m \u001b[0me\u001b[0m\u001b[1;33m:\u001b[0m\u001b[1;33m\u001b[0m\u001b[1;33m\u001b[0m\u001b[0m\n\u001b[0;32m    910\u001b[0m       \u001b[0msix\u001b[0m\u001b[1;33m.\u001b[0m\u001b[0mraise_from\u001b[0m\u001b[1;33m(\u001b[0m\u001b[0mcore\u001b[0m\u001b[1;33m.\u001b[0m\u001b[0m_status_to_exception\u001b[0m\u001b[1;33m(\u001b[0m\u001b[0me\u001b[0m\u001b[1;33m.\u001b[0m\u001b[0mcode\u001b[0m\u001b[1;33m,\u001b[0m \u001b[0me\u001b[0m\u001b[1;33m.\u001b[0m\u001b[0mmessage\u001b[0m\u001b[1;33m)\u001b[0m\u001b[1;33m,\u001b[0m \u001b[1;32mNone\u001b[0m\u001b[1;33m)\u001b[0m\u001b[1;33m\u001b[0m\u001b[1;33m\u001b[0m\u001b[0m\n",
      "\u001b[1;31mKeyboardInterrupt\u001b[0m: "
     ]
    }
   ],
   "source": [
    "model_cnn_lstm_base = Model(b_input, b_output)\n",
    "model_cnn_lstm_base.compile(loss='mse', optimizer='adam', metrics=['mse', 'kullback_leibler_divergence','MAPE','MAE'])\n",
    "model_cnn_lstm_base.summary()\n",
    "es = EarlyStopping(monitor='loss', restore_best_weights=True, patience=10)\n",
    "model_cnn_lstm_base.fit(X, Y, validation_data=(X_val, Y_val), epochs=200, batch_size=1024, shuffle=True, callbacks=[es])"
   ]
  },
  {
   "cell_type": "code",
   "execution_count": 113,
   "metadata": {},
   "outputs": [],
   "source": [
    "y_val_predict = model_cnn_lstm_base.predict(X_val)"
   ]
  },
  {
   "cell_type": "code",
   "execution_count": 114,
   "metadata": {},
   "outputs": [],
   "source": [
    "DIST=np.abs(y_val_predict-Y_val)**2"
   ]
  },
  {
   "cell_type": "code",
   "execution_count": 115,
   "metadata": {},
   "outputs": [
    {
     "data": {
      "text/plain": [
       "(43171, 79)"
      ]
     },
     "execution_count": 115,
     "metadata": {},
     "output_type": "execute_result"
    }
   ],
   "source": [
    "DIST.shape"
   ]
  },
  {
   "cell_type": "code",
   "execution_count": 116,
   "metadata": {},
   "outputs": [],
   "source": [
    "CHECK_ATT=VALIDATION_DF_RAW[\"attack\"]"
   ]
  },
  {
   "cell_type": "code",
   "execution_count": 117,
   "metadata": {},
   "outputs": [],
   "source": [
    "def check_graph(xs, att, piece=2, THRESHOLD=None):\n",
    "    l = xs.shape[0]\n",
    "    chunk = l // piece\n",
    "    fig, axs = plt.subplots(piece, figsize=(20, 4 * piece))\n",
    "    for i in range(piece):\n",
    "        L = i * chunk\n",
    "        R = min(L + chunk, l)\n",
    "        xticks = range(L, R)\n",
    "        axs[i].plot(xticks, xs[L:R])\n",
    "        if len(xs[L:R]) > 0:\n",
    "            peak = max(xs[L:R])\n",
    "            axs[i].plot(xticks, att[L:R] * peak * 0.3)\n",
    "        if THRESHOLD!=None:\n",
    "            axs[i].axhline(y=THRESHOLD, color='r')\n",
    "    plt.show()"
   ]
  },
  {
   "cell_type": "code",
   "execution_count": 118,
   "metadata": {},
   "outputs": [],
   "source": [
    "ANOMALY_SCORE = np.max(DIST,axis=1)"
   ]
  },
  {
   "cell_type": "code",
   "execution_count": 119,
   "metadata": {},
   "outputs": [
    {
     "data": {
      "text/plain": [
       "array([0.01073046, 0.02141282, 0.02153086, ..., 0.01324076, 0.01492329,\n",
       "       0.01016793])"
      ]
     },
     "execution_count": 119,
     "metadata": {},
     "output_type": "execute_result"
    }
   ],
   "source": [
    "ANOMALY_SCORE"
   ]
  },
  {
   "cell_type": "code",
   "execution_count": 120,
   "metadata": {},
   "outputs": [],
   "source": [
    "blank_for_NAN=np.zeros(window_size)\n",
    "ANOMALY_SCORE_for_graph=np.concatenate((blank_for_NAN,ANOMALY_SCORE),axis=0)\n"
   ]
  },
  {
   "cell_type": "markdown",
   "metadata": {},
   "source": [
    "inference 함수는 데이터를 순차적으로 보면서 모델이 예측한 값과 실제 값의 차를 구해서 기록합니다."
   ]
  },
  {
   "cell_type": "code",
   "execution_count": 121,
   "metadata": {},
   "outputs": [
    {
     "data": {
      "image/png": "[encoded data removed]",
      "text/plain": [
       "<Figure size 1440x576 with 2 Axes>"
      ]
     },
     "metadata": {
      "needs_background": "light"
     },
     "output_type": "display_data"
    }
   ],
   "source": [
    "THRESHOLD = 1.5\n",
    "check_graph(ANOMALY_SCORE, CHECK_ATT, piece=2, THRESHOLD=THRESHOLD)"
   ]
  },
  {
   "cell_type": "markdown",
   "metadata": {},
   "source": [
    "주황색 선은 공격 위치를 나타내고, 파란색 선은 (평균) 오차의 크기를 나타냅니다.\n",
    "전반적으로 공격 위치에서 큰 오차를 보이고 있습니다.\n",
    "\n",
    "임의의 threshold(빨간색 선)가 넘어갈 경우 공격으로 간주합니다.\n",
    "공격은 1로 정상은 0으로 표기합니다."
   ]
  },
  {
   "cell_type": "code",
   "execution_count": 97,
   "metadata": {},
   "outputs": [],
   "source": [
    "def put_labels(distance, threshold):\n",
    "    xs = np.zeros_like(distance)\n",
    "    xs[distance > threshold] = 1\n",
    "    return xs"
   ]
  },
  {
   "cell_type": "markdown",
   "metadata": {},
   "source": [
    "위의 그래프를 보면 대략 0.04를 기준으로 설정할 수 있을 것으로 보입니다.\n",
    "여러 번의 실험을 통해 정밀하게 임계치를 선택하면 더 좋은 결과를 얻을 수 있을 것으로 예상합니다."
   ]
  },
  {
   "cell_type": "code",
   "execution_count": 98,
   "metadata": {
    "scrolled": true
   },
   "outputs": [
    {
     "data": {
      "text/plain": [
       "(array([0., 0., 0., ..., 0., 0., 0.]), (43171,))"
      ]
     },
     "execution_count": 98,
     "metadata": {},
     "output_type": "execute_result"
    }
   ],
   "source": [
    "LABELS = put_labels(ANOMALY_SCORE, THRESHOLD)\n",
    "LABELS, LABELS.shape"
   ]
  },
  {
   "cell_type": "code",
   "execution_count": 99,
   "metadata": {},
   "outputs": [
    {
     "data": {
      "text/plain": [
       "172"
      ]
     },
     "execution_count": 99,
     "metadata": {},
     "output_type": "execute_result"
    }
   ],
   "source": [
    "list(LABELS).count(1)"
   ]
  },
  {
   "cell_type": "markdown",
   "metadata": {},
   "source": [
    "정답지(ATTACK_LABELS)도 동일하게 추출합니다.\n",
    "검증 데이터셋에 공격 여부를 나타내는 필드에는 정상을 0으로 공격을 1로 표기하고 있습니다.\n",
    "위에 정의한 put_labels 함수를 이용해서 0.5를 기준으로 같은 방식으로 TaPR을 위한 label을 붙여줍니다."
   ]
  },
  {
   "cell_type": "code",
   "execution_count": 100,
   "metadata": {},
   "outputs": [
    {
     "data": {
      "text/plain": [
       "(array([0, 0, 0, ..., 0, 0, 0], dtype=int64), (43201,))"
      ]
     },
     "execution_count": 100,
     "metadata": {},
     "output_type": "execute_result"
    }
   ],
   "source": [
    "ATTACK_LABELS = put_labels(np.array(VALIDATION_DF_RAW[ATTACK_FIELD]), threshold=0.5)\n",
    "ATTACK_LABELS, ATTACK_LABELS.shape"
   ]
  },
  {
   "cell_type": "code",
   "execution_count": 101,
   "metadata": {},
   "outputs": [
    {
     "data": {
      "image/png": "[encoded data removed]",
      "text/plain": [
       "<Figure size 1440x576 with 2 Axes>"
      ]
     },
     "metadata": {
      "needs_background": "light"
     },
     "output_type": "display_data"
    }
   ],
   "source": [
    "check_graph(LABELS, ATTACK_LABELS, piece=2, THRESHOLD=THRESHOLD)"
   ]
  },
  {
   "cell_type": "code",
   "execution_count": 102,
   "metadata": {},
   "outputs": [],
   "source": [
    "blank_for_NAN=np.zeros(window_size)\n",
    "Final_Labels=np.concatenate((blank_for_NAN,LABELS),axis=0)\n"
   ]
  },
  {
   "cell_type": "markdown",
   "metadata": {},
   "source": [
    "## 평가\n",
    "\n",
    "평가는 TaPR을 사용합니다.\n",
    "정답(ATTACK_LABELS)과 모델의 결과(FINAL_LABELS)의 길이가 같은지 확인합니다."
   ]
  },
  {
   "cell_type": "code",
   "execution_count": 103,
   "metadata": {},
   "outputs": [
    {
     "data": {
      "text/plain": [
       "True"
      ]
     },
     "execution_count": 103,
     "metadata": {},
     "output_type": "execute_result"
    }
   ],
   "source": [
    "ATTACK_LABELS.shape[0] == Final_Labels.shape[0]"
   ]
  },
  {
   "cell_type": "markdown",
   "metadata": {},
   "source": [
    "TaPR 점수를 받습니다."
   ]
  },
  {
   "cell_type": "code",
   "execution_count": 104,
   "metadata": {},
   "outputs": [
    {
     "name": "stdout",
     "output_type": "stream",
     "text": [
      "F1: 0.667 (TaP: 1.000, TaR: 0.501)\n",
      "# of detected anomalies: 3\n",
      "Detected anomalies: ['1', '4', '5']\n"
     ]
    }
   ],
   "source": [
    "TaPR = etapr.evaluate(anomalies=ATTACK_LABELS, predictions=Final_Labels)\n",
    "print(f\"F1: {TaPR['f1']:.3f} (TaP: {TaPR['TaP']:.3f}, TaR: {TaPR['TaR']:.3f})\")\n",
    "print(f\"# of detected anomalies: {len(TaPR['Detected_Anomalies'])}\")\n",
    "print(f\"Detected anomalies: {TaPR['Detected_Anomalies']}\")"
   ]
  },
  {
   "cell_type": "code",
   "execution_count": null,
   "metadata": {},
   "outputs": [],
   "source": []
  },
  {
   "cell_type": "code",
   "execution_count": null,
   "metadata": {},
   "outputs": [],
   "source": []
  }
 ],
 "metadata": {
  "kernelspec": {
   "display_name": "Python 3",
   "language": "python",
   "name": "python3"
  },
  "language_info": {
   "codemirror_mode": {
    "name": "ipython",
    "version": 3
   },
   "file_extension": ".py",
   "mimetype": "text/x-python",
   "name": "python",
   "nbconvert_exporter": "python",
   "pygments_lexer": "ipython3",
   "version": "3.7.9"
  }
 },
 "nbformat": 4,
 "nbformat_minor": 4
}
