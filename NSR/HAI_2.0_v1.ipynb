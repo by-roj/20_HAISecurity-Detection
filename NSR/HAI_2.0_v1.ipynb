{
 "cells": [
  {
   "cell_type": "code",
   "execution_count": 1,
   "metadata": {},
   "outputs": [
    {
     "name": "stdout",
     "output_type": "stream",
     "text": [
      "Requirement already satisfied: eTaPR==1.12 from file:///C:/Users/sclab/A_Moon/DACON/NSR/eTaPR-1.12-py3-none-any.whl in c:\\users\\sclab\\anaconda3\\envs\\dacon_2\\lib\\site-packages (1.12)\n"
     ]
    }
   ],
   "source": [
    "!pip install eTaPR-1.12-py3-none-any.whl"
   ]
  },
  {
   "cell_type": "code",
   "execution_count": 206,
   "metadata": {},
   "outputs": [],
   "source": [
    "import sys\n",
    "\n",
    "from pathlib import Path\n",
    "from datetime import timedelta\n",
    "\n",
    "import dateutil\n",
    "import numpy as np\n",
    "import matplotlib.pyplot as plt\n",
    "import pandas as pd\n",
    "from tqdm.notebook import trange\n",
    "from TaPR_pkg import etapr\n",
    "from keras.callbacks import EarlyStopping\n",
    "from keras.models import Model, Sequential,load_model\n",
    "from keras.layers import Concatenate,GRU,LSTM,Dropout,TimeDistributed,Reshape,Input, Conv1D, Lambda, Dense, Flatten,MaxPooling1D, concatenate"
   ]
  },
  {
   "cell_type": "markdown",
   "metadata": {},
   "source": [
    "## 데이터 전처리\n",
    "\n",
    "학습 데이터와 테스트 데이터는 CSV로 제공됩니다.\n",
    "HAI 2.0은 단일 파일이 아니라 여러 파일로 제공되기 때문에 디렉토리 안에 있는 모든 CSV를 읽습니다."
   ]
  },
  {
   "cell_type": "code",
   "execution_count": 207,
   "metadata": {},
   "outputs": [
    {
     "data": {
      "text/plain": [
       "[WindowsPath('data/HAI_2.0/training/train1.csv'),\n",
       " WindowsPath('data/HAI_2.0/training/train2.csv'),\n",
       " WindowsPath('data/HAI_2.0/training/train3.csv')]"
      ]
     },
     "execution_count": 207,
     "metadata": {},
     "output_type": "execute_result"
    }
   ],
   "source": [
    "TRAIN_DATASET = sorted([x for x in Path(\"data/HAI_2.0/training/\").glob(\"*.csv\")])\n",
    "TRAIN_DATASET"
   ]
  },
  {
   "cell_type": "code",
   "execution_count": 208,
   "metadata": {},
   "outputs": [
    {
     "data": {
      "text/plain": [
       "[WindowsPath('data/HAI_2.0/validation/validation.csv')]"
      ]
     },
     "execution_count": 208,
     "metadata": {},
     "output_type": "execute_result"
    }
   ],
   "source": [
    "VALIDATION_DATASET = sorted([x for x in Path(\"data/HAI_2.0/validation/\").glob(\"*.csv\")])\n",
    "VALIDATION_DATASET"
   ]
  },
  {
   "cell_type": "code",
   "execution_count": 209,
   "metadata": {},
   "outputs": [],
   "source": [
    "def dataframe_from_csv(target):\n",
    "    return pd.read_csv(target).rename(columns=lambda x: x.strip())\n",
    "\n",
    "def dataframe_from_csvs(targets):\n",
    "    len_train=[]\n",
    "    for x in targets:\n",
    "        len_train.append(dataframe_from_csv(x).shape[0])\n",
    "    return pd.concat([dataframe_from_csv(x) for x in targets]),len_train"
   ]
  },
  {
   "cell_type": "code",
   "execution_count": 210,
   "metadata": {},
   "outputs": [
    {
     "data": {
      "text/html": [
       "<div>\n",
       "<style scoped>\n",
       "    .dataframe tbody tr th:only-of-type {\n",
       "        vertical-align: middle;\n",
       "    }\n",
       "\n",
       "    .dataframe tbody tr th {\n",
       "        vertical-align: top;\n",
       "    }\n",
       "\n",
       "    .dataframe thead th {\n",
       "        text-align: right;\n",
       "    }\n",
       "</style>\n",
       "<table border=\"1\" class=\"dataframe\">\n",
       "  <thead>\n",
       "    <tr style=\"text-align: right;\">\n",
       "      <th></th>\n",
       "      <th>time</th>\n",
       "      <th>C01</th>\n",
       "      <th>C02</th>\n",
       "      <th>C03</th>\n",
       "      <th>C04</th>\n",
       "      <th>C05</th>\n",
       "      <th>C06</th>\n",
       "      <th>C07</th>\n",
       "      <th>C08</th>\n",
       "      <th>C09</th>\n",
       "      <th>...</th>\n",
       "      <th>C70</th>\n",
       "      <th>C71</th>\n",
       "      <th>C72</th>\n",
       "      <th>C73</th>\n",
       "      <th>C74</th>\n",
       "      <th>C75</th>\n",
       "      <th>C76</th>\n",
       "      <th>C77</th>\n",
       "      <th>C78</th>\n",
       "      <th>C79</th>\n",
       "    </tr>\n",
       "  </thead>\n",
       "  <tbody>\n",
       "    <tr>\n",
       "      <th>0</th>\n",
       "      <td>2020-07-11 00:00:00</td>\n",
       "      <td>395.19528</td>\n",
       "      <td>12</td>\n",
       "      <td>10</td>\n",
       "      <td>52.80456</td>\n",
       "      <td>-1.2648</td>\n",
       "      <td>-1.87531</td>\n",
       "      <td>779.59595</td>\n",
       "      <td>28.02645</td>\n",
       "      <td>10832.0</td>\n",
       "      <td>...</td>\n",
       "      <td>808.29620</td>\n",
       "      <td>0.0</td>\n",
       "      <td>1.36810</td>\n",
       "      <td>8.79882</td>\n",
       "      <td>35.43700</td>\n",
       "      <td>12.01782</td>\n",
       "      <td>305.03113</td>\n",
       "      <td>301.35992</td>\n",
       "      <td>33.6555</td>\n",
       "      <td>6.0951</td>\n",
       "    </tr>\n",
       "    <tr>\n",
       "      <th>1</th>\n",
       "      <td>2020-07-11 00:00:01</td>\n",
       "      <td>395.14420</td>\n",
       "      <td>12</td>\n",
       "      <td>10</td>\n",
       "      <td>52.78931</td>\n",
       "      <td>-1.3147</td>\n",
       "      <td>-1.88294</td>\n",
       "      <td>780.67328</td>\n",
       "      <td>28.02473</td>\n",
       "      <td>10984.0</td>\n",
       "      <td>...</td>\n",
       "      <td>819.16809</td>\n",
       "      <td>0.0</td>\n",
       "      <td>1.36810</td>\n",
       "      <td>8.78811</td>\n",
       "      <td>35.45227</td>\n",
       "      <td>12.01782</td>\n",
       "      <td>304.27161</td>\n",
       "      <td>297.43567</td>\n",
       "      <td>33.6555</td>\n",
       "      <td>5.9262</td>\n",
       "    </tr>\n",
       "    <tr>\n",
       "      <th>2</th>\n",
       "      <td>2020-07-11 00:00:02</td>\n",
       "      <td>395.14420</td>\n",
       "      <td>12</td>\n",
       "      <td>10</td>\n",
       "      <td>52.79694</td>\n",
       "      <td>-1.4032</td>\n",
       "      <td>-1.88294</td>\n",
       "      <td>780.06574</td>\n",
       "      <td>28.02817</td>\n",
       "      <td>11120.0</td>\n",
       "      <td>...</td>\n",
       "      <td>823.51697</td>\n",
       "      <td>0.0</td>\n",
       "      <td>1.36734</td>\n",
       "      <td>8.81787</td>\n",
       "      <td>35.45227</td>\n",
       "      <td>12.01782</td>\n",
       "      <td>303.89179</td>\n",
       "      <td>298.66534</td>\n",
       "      <td>33.6555</td>\n",
       "      <td>5.8101</td>\n",
       "    </tr>\n",
       "    <tr>\n",
       "      <th>3</th>\n",
       "      <td>2020-07-11 00:00:03</td>\n",
       "      <td>395.19528</td>\n",
       "      <td>12</td>\n",
       "      <td>10</td>\n",
       "      <td>52.79694</td>\n",
       "      <td>-1.6074</td>\n",
       "      <td>-1.88294</td>\n",
       "      <td>780.15265</td>\n",
       "      <td>28.02301</td>\n",
       "      <td>11256.0</td>\n",
       "      <td>...</td>\n",
       "      <td>823.95172</td>\n",
       "      <td>0.0</td>\n",
       "      <td>1.36734</td>\n",
       "      <td>8.87493</td>\n",
       "      <td>35.43700</td>\n",
       "      <td>12.01782</td>\n",
       "      <td>303.67474</td>\n",
       "      <td>298.06860</td>\n",
       "      <td>33.6555</td>\n",
       "      <td>5.7509</td>\n",
       "    </tr>\n",
       "    <tr>\n",
       "      <th>4</th>\n",
       "      <td>2020-07-11 00:00:04</td>\n",
       "      <td>395.34866</td>\n",
       "      <td>12</td>\n",
       "      <td>10</td>\n",
       "      <td>52.79694</td>\n",
       "      <td>-1.7811</td>\n",
       "      <td>-1.88294</td>\n",
       "      <td>781.83160</td>\n",
       "      <td>28.03595</td>\n",
       "      <td>11384.0</td>\n",
       "      <td>...</td>\n",
       "      <td>827.86560</td>\n",
       "      <td>0.0</td>\n",
       "      <td>1.36810</td>\n",
       "      <td>8.83838</td>\n",
       "      <td>35.45227</td>\n",
       "      <td>12.01782</td>\n",
       "      <td>303.22266</td>\n",
       "      <td>296.53137</td>\n",
       "      <td>33.6555</td>\n",
       "      <td>5.8547</td>\n",
       "    </tr>\n",
       "    <tr>\n",
       "      <th>...</th>\n",
       "      <td>...</td>\n",
       "      <td>...</td>\n",
       "      <td>...</td>\n",
       "      <td>...</td>\n",
       "      <td>...</td>\n",
       "      <td>...</td>\n",
       "      <td>...</td>\n",
       "      <td>...</td>\n",
       "      <td>...</td>\n",
       "      <td>...</td>\n",
       "      <td>...</td>\n",
       "      <td>...</td>\n",
       "      <td>...</td>\n",
       "      <td>...</td>\n",
       "      <td>...</td>\n",
       "      <td>...</td>\n",
       "      <td>...</td>\n",
       "      <td>...</td>\n",
       "      <td>...</td>\n",
       "      <td>...</td>\n",
       "      <td>...</td>\n",
       "    </tr>\n",
       "    <tr>\n",
       "      <th>478796</th>\n",
       "      <td>2020-08-10 10:59:56</td>\n",
       "      <td>387.27219</td>\n",
       "      <td>12</td>\n",
       "      <td>10</td>\n",
       "      <td>66.72057</td>\n",
       "      <td>-0.9331</td>\n",
       "      <td>-1.84479</td>\n",
       "      <td>781.87915</td>\n",
       "      <td>28.02389</td>\n",
       "      <td>880.0</td>\n",
       "      <td>...</td>\n",
       "      <td>944.84705</td>\n",
       "      <td>0.0</td>\n",
       "      <td>1.32843</td>\n",
       "      <td>15.17817</td>\n",
       "      <td>35.14710</td>\n",
       "      <td>11.79657</td>\n",
       "      <td>316.89453</td>\n",
       "      <td>296.54950</td>\n",
       "      <td>32.0000</td>\n",
       "      <td>6.6026</td>\n",
       "    </tr>\n",
       "    <tr>\n",
       "      <th>478797</th>\n",
       "      <td>2020-08-10 10:59:57</td>\n",
       "      <td>387.52774</td>\n",
       "      <td>12</td>\n",
       "      <td>10</td>\n",
       "      <td>66.72057</td>\n",
       "      <td>-0.9996</td>\n",
       "      <td>-1.84479</td>\n",
       "      <td>787.65070</td>\n",
       "      <td>28.02385</td>\n",
       "      <td>840.0</td>\n",
       "      <td>...</td>\n",
       "      <td>940.49835</td>\n",
       "      <td>0.0</td>\n",
       "      <td>1.32843</td>\n",
       "      <td>15.17344</td>\n",
       "      <td>35.13183</td>\n",
       "      <td>11.79657</td>\n",
       "      <td>315.59247</td>\n",
       "      <td>296.15161</td>\n",
       "      <td>32.0000</td>\n",
       "      <td>6.3894</td>\n",
       "    </tr>\n",
       "    <tr>\n",
       "      <th>478798</th>\n",
       "      <td>2020-08-10 10:59:58</td>\n",
       "      <td>387.47665</td>\n",
       "      <td>12</td>\n",
       "      <td>10</td>\n",
       "      <td>66.72057</td>\n",
       "      <td>-1.2560</td>\n",
       "      <td>-1.84479</td>\n",
       "      <td>788.50256</td>\n",
       "      <td>28.03085</td>\n",
       "      <td>792.0</td>\n",
       "      <td>...</td>\n",
       "      <td>935.71472</td>\n",
       "      <td>0.0</td>\n",
       "      <td>1.32919</td>\n",
       "      <td>15.16443</td>\n",
       "      <td>35.13183</td>\n",
       "      <td>11.79657</td>\n",
       "      <td>313.92865</td>\n",
       "      <td>293.40277</td>\n",
       "      <td>32.0000</td>\n",
       "      <td>6.2584</td>\n",
       "    </tr>\n",
       "    <tr>\n",
       "      <th>478799</th>\n",
       "      <td>2020-08-10 10:59:59</td>\n",
       "      <td>387.73221</td>\n",
       "      <td>12</td>\n",
       "      <td>10</td>\n",
       "      <td>66.72057</td>\n",
       "      <td>-1.4912</td>\n",
       "      <td>-1.84479</td>\n",
       "      <td>785.80316</td>\n",
       "      <td>28.02649</td>\n",
       "      <td>752.0</td>\n",
       "      <td>...</td>\n",
       "      <td>944.84705</td>\n",
       "      <td>0.0</td>\n",
       "      <td>1.32843</td>\n",
       "      <td>15.09001</td>\n",
       "      <td>35.14710</td>\n",
       "      <td>11.79657</td>\n",
       "      <td>315.61054</td>\n",
       "      <td>302.58972</td>\n",
       "      <td>32.0000</td>\n",
       "      <td>6.4150</td>\n",
       "    </tr>\n",
       "    <tr>\n",
       "      <th>478800</th>\n",
       "      <td>2020-08-10 11:00:00</td>\n",
       "      <td>387.52774</td>\n",
       "      <td>12</td>\n",
       "      <td>10</td>\n",
       "      <td>66.72057</td>\n",
       "      <td>-1.5727</td>\n",
       "      <td>-1.84479</td>\n",
       "      <td>780.21381</td>\n",
       "      <td>28.02476</td>\n",
       "      <td>720.0</td>\n",
       "      <td>...</td>\n",
       "      <td>951.80505</td>\n",
       "      <td>0.0</td>\n",
       "      <td>1.32919</td>\n",
       "      <td>15.08672</td>\n",
       "      <td>35.14710</td>\n",
       "      <td>11.79657</td>\n",
       "      <td>317.23816</td>\n",
       "      <td>309.00964</td>\n",
       "      <td>32.0000</td>\n",
       "      <td>6.6288</td>\n",
       "    </tr>\n",
       "  </tbody>\n",
       "</table>\n",
       "<p>921603 rows × 80 columns</p>\n",
       "</div>"
      ],
      "text/plain": [
       "                       time        C01  C02  C03       C04     C05      C06  \\\n",
       "0       2020-07-11 00:00:00  395.19528   12   10  52.80456 -1.2648 -1.87531   \n",
       "1       2020-07-11 00:00:01  395.14420   12   10  52.78931 -1.3147 -1.88294   \n",
       "2       2020-07-11 00:00:02  395.14420   12   10  52.79694 -1.4032 -1.88294   \n",
       "3       2020-07-11 00:00:03  395.19528   12   10  52.79694 -1.6074 -1.88294   \n",
       "4       2020-07-11 00:00:04  395.34866   12   10  52.79694 -1.7811 -1.88294   \n",
       "...                     ...        ...  ...  ...       ...     ...      ...   \n",
       "478796  2020-08-10 10:59:56  387.27219   12   10  66.72057 -0.9331 -1.84479   \n",
       "478797  2020-08-10 10:59:57  387.52774   12   10  66.72057 -0.9996 -1.84479   \n",
       "478798  2020-08-10 10:59:58  387.47665   12   10  66.72057 -1.2560 -1.84479   \n",
       "478799  2020-08-10 10:59:59  387.73221   12   10  66.72057 -1.4912 -1.84479   \n",
       "478800  2020-08-10 11:00:00  387.52774   12   10  66.72057 -1.5727 -1.84479   \n",
       "\n",
       "              C07       C08      C09  ...        C70  C71      C72       C73  \\\n",
       "0       779.59595  28.02645  10832.0  ...  808.29620  0.0  1.36810   8.79882   \n",
       "1       780.67328  28.02473  10984.0  ...  819.16809  0.0  1.36810   8.78811   \n",
       "2       780.06574  28.02817  11120.0  ...  823.51697  0.0  1.36734   8.81787   \n",
       "3       780.15265  28.02301  11256.0  ...  823.95172  0.0  1.36734   8.87493   \n",
       "4       781.83160  28.03595  11384.0  ...  827.86560  0.0  1.36810   8.83838   \n",
       "...           ...       ...      ...  ...        ...  ...      ...       ...   \n",
       "478796  781.87915  28.02389    880.0  ...  944.84705  0.0  1.32843  15.17817   \n",
       "478797  787.65070  28.02385    840.0  ...  940.49835  0.0  1.32843  15.17344   \n",
       "478798  788.50256  28.03085    792.0  ...  935.71472  0.0  1.32919  15.16443   \n",
       "478799  785.80316  28.02649    752.0  ...  944.84705  0.0  1.32843  15.09001   \n",
       "478800  780.21381  28.02476    720.0  ...  951.80505  0.0  1.32919  15.08672   \n",
       "\n",
       "             C74       C75        C76        C77      C78     C79  \n",
       "0       35.43700  12.01782  305.03113  301.35992  33.6555  6.0951  \n",
       "1       35.45227  12.01782  304.27161  297.43567  33.6555  5.9262  \n",
       "2       35.45227  12.01782  303.89179  298.66534  33.6555  5.8101  \n",
       "3       35.43700  12.01782  303.67474  298.06860  33.6555  5.7509  \n",
       "4       35.45227  12.01782  303.22266  296.53137  33.6555  5.8547  \n",
       "...          ...       ...        ...        ...      ...     ...  \n",
       "478796  35.14710  11.79657  316.89453  296.54950  32.0000  6.6026  \n",
       "478797  35.13183  11.79657  315.59247  296.15161  32.0000  6.3894  \n",
       "478798  35.13183  11.79657  313.92865  293.40277  32.0000  6.2584  \n",
       "478799  35.14710  11.79657  315.61054  302.58972  32.0000  6.4150  \n",
       "478800  35.14710  11.79657  317.23816  309.00964  32.0000  6.6288  \n",
       "\n",
       "[921603 rows x 80 columns]"
      ]
     },
     "execution_count": 210,
     "metadata": {},
     "output_type": "execute_result"
    }
   ],
   "source": [
    "TRAIN_DF_RAW,len_Train = dataframe_from_csvs(TRAIN_DATASET)\n",
    "TRAIN_DF_RAW"
   ]
  },
  {
   "cell_type": "code",
   "execution_count": 211,
   "metadata": {},
   "outputs": [
    {
     "data": {
      "text/plain": [
       "[216001, 226801, 478801]"
      ]
     },
     "execution_count": 211,
     "metadata": {},
     "output_type": "execute_result"
    }
   ],
   "source": [
    "len_Train"
   ]
  },
  {
   "cell_type": "code",
   "execution_count": 212,
   "metadata": {},
   "outputs": [
    {
     "data": {
      "text/plain": [
       "Index(['C01', 'C02', 'C03', 'C04', 'C05', 'C06', 'C07', 'C08', 'C09', 'C10',\n",
       "       'C11', 'C12', 'C13', 'C14', 'C15', 'C16', 'C17', 'C18', 'C19', 'C20',\n",
       "       'C21', 'C22', 'C23', 'C24', 'C25', 'C26', 'C27', 'C28', 'C29', 'C30',\n",
       "       'C31', 'C32', 'C33', 'C34', 'C35', 'C36', 'C37', 'C38', 'C39', 'C40',\n",
       "       'C41', 'C42', 'C43', 'C44', 'C45', 'C46', 'C47', 'C48', 'C49', 'C50',\n",
       "       'C51', 'C52', 'C53', 'C54', 'C55', 'C56', 'C57', 'C58', 'C59', 'C60',\n",
       "       'C61', 'C62', 'C63', 'C64', 'C65', 'C66', 'C67', 'C68', 'C69', 'C70',\n",
       "       'C71', 'C72', 'C73', 'C74', 'C75', 'C76', 'C77', 'C78', 'C79'],\n",
       "      dtype='object')"
      ]
     },
     "execution_count": 212,
     "metadata": {},
     "output_type": "execute_result"
    }
   ],
   "source": [
    "TIMESTAMP_FIELD = \"time\"\n",
    "IDSTAMP_FIELD = 'id'\n",
    "ATTACK_FIELD = \"attack\"\n",
    "VALID_COLUMNS_IN_TRAIN_DATASET = TRAIN_DF_RAW.columns.drop([TIMESTAMP_FIELD])\n",
    "VALID_COLUMNS_IN_TRAIN_DATASET"
   ]
  },
  {
   "cell_type": "code",
   "execution_count": 213,
   "metadata": {},
   "outputs": [],
   "source": [
    "TAG_MIN = TRAIN_DF_RAW[VALID_COLUMNS_IN_TRAIN_DATASET].min()\n",
    "TAG_MAX = TRAIN_DF_RAW[VALID_COLUMNS_IN_TRAIN_DATASET].max()"
   ]
  },
  {
   "cell_type": "code",
   "execution_count": 214,
   "metadata": {},
   "outputs": [],
   "source": [
    "def normalize(df):\n",
    "    ndf = df.copy()\n",
    "    for c in df.columns:\n",
    "        if TAG_MIN[c] == TAG_MAX[c]:\n",
    "            ndf[c] = df[c] - TAG_MIN[c]\n",
    "        else:\n",
    "            ndf[c] = (df[c] - TAG_MIN[c]) / (TAG_MAX[c] - TAG_MIN[c])\n",
    "    return ndf"
   ]
  },
  {
   "cell_type": "code",
   "execution_count": 215,
   "metadata": {},
   "outputs": [],
   "source": [
    "TRAIN_np=TRAIN_DF_RAW[VALID_COLUMNS_IN_TRAIN_DATASET].values"
   ]
  },
  {
   "cell_type": "code",
   "execution_count": 216,
   "metadata": {},
   "outputs": [],
   "source": [
    "TRAIN_DF_norm = normalize(\n",
    "    TRAIN_DF_RAW[VALID_COLUMNS_IN_TRAIN_DATASET]).ewm(alpha=0.9).mean()\n"
   ]
  },
  {
   "cell_type": "code",
   "execution_count": 217,
   "metadata": {},
   "outputs": [],
   "source": [
    "TRAIN_np_norm=TRAIN_DF_norm.values"
   ]
  },
  {
   "cell_type": "code",
   "execution_count": 218,
   "metadata": {},
   "outputs": [],
   "source": [
    "def boundary_check(df):\n",
    "    x = np.array(df, dtype=np.float32)\n",
    "    return np.any(x > 1.0), np.any(x < 0), np.any(np.isnan(x))"
   ]
  },
  {
   "cell_type": "code",
   "execution_count": 219,
   "metadata": {},
   "outputs": [
    {
     "data": {
      "text/plain": [
       "(True, True, False)"
      ]
     },
     "execution_count": 219,
     "metadata": {},
     "output_type": "execute_result"
    }
   ],
   "source": [
    "boundary_check(TRAIN_np)"
   ]
  },
  {
   "cell_type": "code",
   "execution_count": 220,
   "metadata": {},
   "outputs": [
    {
     "data": {
      "text/plain": [
       "(False, False, False)"
      ]
     },
     "execution_count": 220,
     "metadata": {},
     "output_type": "execute_result"
    }
   ],
   "source": [
    "boundary_check(TRAIN_np_norm)"
   ]
  },
  {
   "cell_type": "code",
   "execution_count": 221,
   "metadata": {},
   "outputs": [
    {
     "data": {
      "text/plain": [
       "(921603, 79)"
      ]
     },
     "execution_count": 221,
     "metadata": {},
     "output_type": "execute_result"
    }
   ],
   "source": [
    "TRAIN_np_norm.shape"
   ]
  },
  {
   "cell_type": "code",
   "execution_count": 158,
   "metadata": {
    "scrolled": true
   },
   "outputs": [
    {
     "name": "stdout",
     "output_type": "stream",
     "text": [
      "0.0%\n",
      "10.0%\n",
      "20.0%\n",
      "30.0%\n",
      "40.0%\n",
      "50.0%\n",
      "60.0%\n",
      "70.0%\n",
      "80.0%\n",
      "90.0%\n",
      "100.0%\n",
      "0.0%\n",
      "10.0%\n",
      "20.0%\n",
      "30.0%\n",
      "40.0%\n",
      "50.0%\n",
      "60.0%\n",
      "70.0%\n",
      "80.0%\n",
      "90.0%\n",
      "100.0%\n",
      "0.0%\n",
      "10.0%\n",
      "20.0%\n",
      "30.0%\n",
      "40.0%\n",
      "50.0%\n",
      "60.0%\n",
      "70.0%\n",
      "80.0%\n",
      "90.0%\n",
      "100.0%\n",
      "Start list to array\n",
      "(92151, 30, 79) (92151, 79)\n",
      "Done\n"
     ]
    }
   ],
   "source": [
    "#train_data\n",
    "\n",
    "#editable parameter\n",
    "\n",
    "#window_size : Amount of data referenced for prediction\n",
    "\n",
    "#stride : skip parameter , A variable used because the value of the data does not change significantly.\n",
    "#If the stride is 10, parsing the data by skipping 10 times.\n",
    "\n",
    "window_size = 30\n",
    "stride= 10\n",
    "X, Y = [], []\n",
    "skip=0\n",
    "for i in len_Train:\n",
    "    n_window = i-window_size+1\n",
    "    per=int(n_window/100)\n",
    "    for w in range(int((n_window-1)/stride)):\n",
    "        X.append(TRAIN_np_norm[skip+w*stride : skip+ w*stride+window_size])\n",
    "        Y.append(TRAIN_np_norm[skip+w*stride+window_size])\n",
    "        if w%per==0:\n",
    "            print(str(int(w*stride/per * 100)/100)+\"%\")\n",
    "    skip=skip+i\n",
    "            \n",
    "print(\"Start list to array\")\n",
    "X, Y = np.asarray(X), np.asarray(Y)\n",
    "print(X.shape,Y.shape)\n",
    "print(\"Done\")"
   ]
  },
  {
   "cell_type": "code",
   "execution_count": 159,
   "metadata": {},
   "outputs": [],
   "source": [
    "VALIDATION_DF_RAW,len_Val = dataframe_from_csvs(VALIDATION_DATASET)"
   ]
  },
  {
   "cell_type": "code",
   "execution_count": 160,
   "metadata": {},
   "outputs": [
    {
     "data": {
      "text/plain": [
       "0        2020-07-07 15:00:00\n",
       "1        2020-07-07 15:00:01\n",
       "2        2020-07-07 15:00:02\n",
       "3        2020-07-07 15:00:03\n",
       "4        2020-07-07 15:00:04\n",
       "                ...         \n",
       "43196    2020-07-08 02:59:56\n",
       "43197    2020-07-08 02:59:57\n",
       "43198    2020-07-08 02:59:58\n",
       "43199    2020-07-08 02:59:59\n",
       "43200    2020-07-08 03:00:00\n",
       "Name: time, Length: 43201, dtype: object"
      ]
     },
     "execution_count": 160,
     "metadata": {},
     "output_type": "execute_result"
    }
   ],
   "source": [
    "VALIDATION_DF_RAW[\"time\"]"
   ]
  },
  {
   "cell_type": "code",
   "execution_count": 161,
   "metadata": {},
   "outputs": [],
   "source": [
    "VALIDATION_DF = normalize(VALIDATION_DF_RAW[VALID_COLUMNS_IN_TRAIN_DATASET])"
   ]
  },
  {
   "cell_type": "code",
   "execution_count": 162,
   "metadata": {},
   "outputs": [],
   "source": [
    "VALIDATION_np_norm=VALIDATION_DF.values"
   ]
  },
  {
   "cell_type": "code",
   "execution_count": 163,
   "metadata": {},
   "outputs": [
    {
     "data": {
      "text/plain": [
       "(True, True, False)"
      ]
     },
     "execution_count": 163,
     "metadata": {},
     "output_type": "execute_result"
    }
   ],
   "source": [
    "boundary_check(VALIDATION_np_norm)"
   ]
  },
  {
   "cell_type": "code",
   "execution_count": 164,
   "metadata": {
    "scrolled": true
   },
   "outputs": [
    {
     "name": "stdout",
     "output_type": "stream",
     "text": [
      "0.0%\n",
      "1.0%\n",
      "2.0%\n",
      "3.0%\n",
      "4.0%\n",
      "5.0%\n",
      "6.0%\n",
      "7.0%\n",
      "8.0%\n",
      "9.0%\n",
      "10.0%\n",
      "11.0%\n",
      "12.0%\n",
      "13.0%\n",
      "14.0%\n",
      "15.0%\n",
      "16.0%\n",
      "17.0%\n",
      "18.0%\n",
      "19.0%\n",
      "20.0%\n",
      "21.0%\n",
      "22.0%\n",
      "23.0%\n",
      "24.0%\n",
      "25.0%\n",
      "26.0%\n",
      "27.0%\n",
      "28.0%\n",
      "29.0%\n",
      "30.0%\n",
      "31.0%\n",
      "32.0%\n",
      "33.0%\n",
      "34.0%\n",
      "35.0%\n",
      "36.0%\n",
      "37.0%\n",
      "38.0%\n",
      "39.0%\n",
      "40.0%\n",
      "41.0%\n",
      "42.0%\n",
      "43.0%\n",
      "44.0%\n",
      "45.0%\n",
      "46.0%\n",
      "47.0%\n",
      "48.0%\n",
      "49.0%\n",
      "50.0%\n",
      "51.0%\n",
      "52.0%\n",
      "53.0%\n",
      "54.0%\n",
      "55.0%\n",
      "56.0%\n",
      "57.0%\n",
      "58.0%\n",
      "59.0%\n",
      "60.0%\n",
      "61.0%\n",
      "62.0%\n",
      "63.0%\n",
      "64.0%\n",
      "65.0%\n",
      "66.0%\n",
      "67.0%\n",
      "68.0%\n",
      "69.0%\n",
      "70.0%\n",
      "71.0%\n",
      "72.0%\n",
      "73.0%\n",
      "74.0%\n",
      "75.0%\n",
      "76.0%\n",
      "77.0%\n",
      "78.0%\n",
      "79.0%\n",
      "80.0%\n",
      "81.0%\n",
      "82.0%\n",
      "83.0%\n",
      "84.0%\n",
      "85.0%\n",
      "86.0%\n",
      "87.0%\n",
      "88.0%\n",
      "89.0%\n",
      "90.0%\n",
      "91.0%\n",
      "92.0%\n",
      "93.0%\n",
      "94.0%\n",
      "95.0%\n",
      "96.0%\n",
      "97.0%\n",
      "98.0%\n",
      "99.0%\n",
      "100.0%\n",
      "Start list to array\n",
      "(43171, 30, 79) (43171, 79)\n",
      "Done\n"
     ]
    }
   ],
   "source": [
    "#validation\n",
    "\n",
    "# Don't edit\n",
    "\n",
    "stride_val= 1\n",
    "n_window_val = VALIDATION_np_norm.shape[0]-window_size+1\n",
    "X_val, Y_val = [], []\n",
    "per_val=int(n_window_val/100)\n",
    "\n",
    "for j in len_Val:\n",
    "    n_window_val = j-window_size+1\n",
    "    per=int(n_window_val/100)\n",
    "    for w in range(int((n_window_val-1)/stride_val)):\n",
    "        X_val.append(VALIDATION_np_norm[w*stride_val : w*stride_val+window_size])\n",
    "        Y_val.append(VALIDATION_np_norm[w*stride_val+window_size])\n",
    "        if w%per_val==0:\n",
    "            print(str((int(w*stride_val/per_val * 100)/100))+\"%\")\n",
    "\n",
    "        \n",
    "print(\"Start list to array\")\n",
    "X_val, Y_val = np.asarray(X_val), np.asarray(Y_val)\n",
    "print(X_val.shape,Y_val.shape)\n",
    "print(\"Done\")"
   ]
  },
  {
   "cell_type": "code",
   "execution_count": null,
   "metadata": {},
   "outputs": [],
   "source": []
  },
  {
   "cell_type": "markdown",
   "metadata": {},
   "source": [
    "# DATA preprocessing End"
   ]
  },
  {
   "cell_type": "markdown",
   "metadata": {},
   "source": [
    "#DATA Train Start"
   ]
  },
  {
   "cell_type": "code",
   "execution_count": 165,
   "metadata": {},
   "outputs": [],
   "source": [
    "b_input = Input(shape=(X[0].shape))\n",
    "H = LSTM(64, return_sequences=True)(b_input)\n",
    "#H = LSTM(256, return_sequences=True)(H)\n",
    "#H = LSTM(256, return_sequences=True)(H)\n",
    "#H = LSTM(256, return_sequences=True)(H)\n",
    "#H = LSTM(256, return_sequences=True)(H)\n",
    "#H = LSTM(256, return_sequences=True)(H)\n",
    "#H = LSTM(256, return_sequences=True)(H)\n",
    "H = LSTM(64, return_sequences=False)(H)\n",
    "H = Dense(128, activation='tanh')(H)\n",
    "H = Dense(128, activation='tanh')(H)\n",
    "b_output = Dense(79, activation='linear')(H)"
   ]
  },
  {
   "cell_type": "code",
   "execution_count": 166,
   "metadata": {
    "scrolled": true
   },
   "outputs": [
    {
     "name": "stdout",
     "output_type": "stream",
     "text": [
      "Model: \"model_21\"\n",
      "_________________________________________________________________\n",
      "Layer (type)                 Output Shape              Param #   \n",
      "=================================================================\n",
      "input_21 (InputLayer)        (None, 30, 79)            0         \n",
      "_________________________________________________________________\n",
      "lstm_52 (LSTM)               (None, 30, 64)            36864     \n",
      "_________________________________________________________________\n",
      "lstm_53 (LSTM)               (None, 64)                33024     \n",
      "_________________________________________________________________\n",
      "dense_56 (Dense)             (None, 128)               8320      \n",
      "_________________________________________________________________\n",
      "dense_57 (Dense)             (None, 128)               16512     \n",
      "_________________________________________________________________\n",
      "dense_58 (Dense)             (None, 79)                10191     \n",
      "=================================================================\n",
      "Total params: 104,911\n",
      "Trainable params: 104,911\n",
      "Non-trainable params: 0\n",
      "_________________________________________________________________\n",
      "Train on 92151 samples, validate on 43171 samples\n",
      "Epoch 1/20000\n",
      "92151/92151 [==============================] - 5s 52us/step - loss: 0.0481 - mse: 0.0481 - kullback_leibler_divergence: 15.2426 - MAPE: 23180174.0000 - MAE: 0.1482 - val_loss: 0.0279 - val_mse: 0.0279 - val_kullback_leibler_divergence: 3.8773 - val_MAPE: 14646214.0000 - val_MAE: 0.1042\n",
      "Epoch 2/20000\n",
      "92151/92151 [==============================] - 4s 46us/step - loss: 0.0147 - mse: 0.0147 - kullback_leibler_divergence: 1.8290 - MAPE: 12406615.0000 - MAE: 0.0802 - val_loss: 0.0151 - val_mse: 0.0151 - val_kullback_leibler_divergence: 2.3868 - val_MAPE: 11582260.0000 - val_MAE: 0.0799\n",
      "Epoch 3/20000\n",
      "92151/92151 [==============================] - 4s 45us/step - loss: 0.0084 - mse: 0.0084 - kullback_leibler_divergence: 1.2199 - MAPE: 9370575.0000 - MAE: 0.0604 - val_loss: 0.0096 - val_mse: 0.0096 - val_kullback_leibler_divergence: 1.6963 - val_MAPE: 8860379.0000 - val_MAE: 0.0626\n",
      "Epoch 4/20000\n",
      "92151/92151 [==============================] - 4s 45us/step - loss: 0.0056 - mse: 0.0056 - kullback_leibler_divergence: 0.8860 - MAPE: 6990222.0000 - MAE: 0.0480 - val_loss: 0.0078 - val_mse: 0.0078 - val_kullback_leibler_divergence: 1.5382 - val_MAPE: 6361194.0000 - val_MAE: 0.0531\n",
      "Epoch 5/20000\n",
      "92151/92151 [==============================] - 4s 44us/step - loss: 0.0045 - mse: 0.0045 - kullback_leibler_divergence: 0.6984 - MAPE: 5420986.0000 - MAE: 0.0410 - val_loss: 0.0069 - val_mse: 0.0069 - val_kullback_leibler_divergence: 1.3070 - val_MAPE: 5646345.0000 - val_MAE: 0.0481\n",
      "Epoch 6/20000\n",
      "92151/92151 [==============================] - 4s 45us/step - loss: 0.0039 - mse: 0.0039 - kullback_leibler_divergence: 0.5970 - MAPE: 4688450.5000 - MAE: 0.0371 - val_loss: 0.0064 - val_mse: 0.0064 - val_kullback_leibler_divergence: 1.3546 - val_MAPE: 5278731.0000 - val_MAE: 0.0453\n",
      "Epoch 7/20000\n",
      "92151/92151 [==============================] - 4s 45us/step - loss: 0.0036 - mse: 0.0036 - kullback_leibler_divergence: 0.5520 - MAPE: 4277446.0000 - MAE: 0.0346 - val_loss: 0.0059 - val_mse: 0.0059 - val_kullback_leibler_divergence: 0.7459 - val_MAPE: 5141667.5000 - val_MAE: 0.0424\n",
      "Epoch 8/20000\n",
      "92151/92151 [==============================] - 4s 45us/step - loss: 0.0032 - mse: 0.0032 - kullback_leibler_divergence: 0.4938 - MAPE: 3991935.7500 - MAE: 0.0323 - val_loss: 0.0054 - val_mse: 0.0054 - val_kullback_leibler_divergence: 1.0665 - val_MAPE: 5028997.5000 - val_MAE: 0.0404\n",
      "Epoch 9/20000\n",
      "92151/92151 [==============================] - 4s 45us/step - loss: 0.0029 - mse: 0.0029 - kullback_leibler_divergence: 0.4619 - MAPE: 3797829.0000 - MAE: 0.0307 - val_loss: 0.0049 - val_mse: 0.0049 - val_kullback_leibler_divergence: 1.0793 - val_MAPE: 4899867.5000 - val_MAE: 0.0383\n",
      "Epoch 10/20000\n",
      "92151/92151 [==============================] - 4s 46us/step - loss: 0.0027 - mse: 0.0027 - kullback_leibler_divergence: 0.4322 - MAPE: 3699418.7500 - MAE: 0.0294 - val_loss: 0.0045 - val_mse: 0.0045 - val_kullback_leibler_divergence: 0.9701 - val_MAPE: 4715276.5000 - val_MAE: 0.0366\n",
      "Epoch 11/20000\n",
      "92151/92151 [==============================] - 4s 45us/step - loss: 0.0023 - mse: 0.0023 - kullback_leibler_divergence: 0.4015 - MAPE: 3706911.7500 - MAE: 0.0280 - val_loss: 0.0041 - val_mse: 0.0041 - val_kullback_leibler_divergence: 0.9638 - val_MAPE: 4749912.0000 - val_MAE: 0.0352\n",
      "Epoch 12/20000\n",
      "92151/92151 [==============================] - 4s 45us/step - loss: 0.0020 - mse: 0.0020 - kullback_leibler_divergence: 0.3646 - MAPE: 3513366.5000 - MAE: 0.0262 - val_loss: 0.0038 - val_mse: 0.0038 - val_kullback_leibler_divergence: 0.7731 - val_MAPE: 4540968.5000 - val_MAE: 0.0332\n",
      "Epoch 13/20000\n",
      "92151/92151 [==============================] - 4s 45us/step - loss: 0.0017 - mse: 0.0017 - kullback_leibler_divergence: 0.3133 - MAPE: 3207014.2500 - MAE: 0.0241 - val_loss: 0.0035 - val_mse: 0.0035 - val_kullback_leibler_divergence: 1.0328 - val_MAPE: 4375619.5000 - val_MAE: 0.0325\n",
      "Epoch 14/20000\n",
      "92151/92151 [==============================] - 4s 45us/step - loss: 0.0016 - mse: 0.0016 - kullback_leibler_divergence: 0.3073 - MAPE: 3107201.5000 - MAE: 0.0234 - val_loss: 0.0033 - val_mse: 0.0033 - val_kullback_leibler_divergence: 0.8980 - val_MAPE: 4561847.5000 - val_MAE: 0.0311\n",
      "Epoch 15/20000\n",
      "92151/92151 [==============================] - 4s 45us/step - loss: 0.0014 - mse: 0.0014 - kullback_leibler_divergence: 0.2644 - MAPE: 3007112.5000 - MAE: 0.0219 - val_loss: 0.0030 - val_mse: 0.0030 - val_kullback_leibler_divergence: 0.5435 - val_MAPE: 4209175.5000 - val_MAE: 0.0290\n",
      "Epoch 16/20000\n",
      "92151/92151 [==============================] - 4s 45us/step - loss: 0.0012 - mse: 0.0012 - kullback_leibler_divergence: 0.2328 - MAPE: 2917984.0000 - MAE: 0.0211 - val_loss: 0.0028 - val_mse: 0.0028 - val_kullback_leibler_divergence: 1.0384 - val_MAPE: 4065659.7500 - val_MAE: 0.0283\n",
      "Epoch 17/20000\n",
      "92151/92151 [==============================] - 4s 45us/step - loss: 0.0011 - mse: 0.0011 - kullback_leibler_divergence: 0.2182 - MAPE: 2789982.2500 - MAE: 0.0201 - val_loss: 0.0026 - val_mse: 0.0026 - val_kullback_leibler_divergence: 0.9865 - val_MAPE: 3824646.0000 - val_MAE: 0.0271\n",
      "Epoch 18/20000\n",
      "92151/92151 [==============================] - 4s 46us/step - loss: 0.0010 - mse: 0.0010 - kullback_leibler_divergence: 0.2040 - MAPE: 2649660.7500 - MAE: 0.0193 - val_loss: 0.0025 - val_mse: 0.0025 - val_kullback_leibler_divergence: 0.8209 - val_MAPE: 3601552.5000 - val_MAE: 0.0259\n",
      "Epoch 19/20000\n",
      "92151/92151 [==============================] - 4s 45us/step - loss: 9.6705e-04 - mse: 9.6705e-04 - kullback_leibler_divergence: 0.1924 - MAPE: 2519283.2500 - MAE: 0.0186 - val_loss: 0.0024 - val_mse: 0.0024 - val_kullback_leibler_divergence: 0.6016 - val_MAPE: 3443994.5000 - val_MAE: 0.0244\n",
      "Epoch 20/20000\n",
      "92151/92151 [==============================] - 4s 45us/step - loss: 9.2464e-04 - mse: 9.2464e-04 - kullback_leibler_divergence: 0.1799 - MAPE: 2418502.0000 - MAE: 0.0180 - val_loss: 0.0023 - val_mse: 0.0023 - val_kullback_leibler_divergence: 0.7395 - val_MAPE: 3199372.0000 - val_MAE: 0.0234\n",
      "Epoch 21/20000\n",
      "92151/92151 [==============================] - 4s 45us/step - loss: 8.7904e-04 - mse: 8.7904e-04 - kullback_leibler_divergence: 0.1715 - MAPE: 2306099.7500 - MAE: 0.0173 - val_loss: 0.0023 - val_mse: 0.0023 - val_kullback_leibler_divergence: 0.8357 - val_MAPE: 3135035.5000 - val_MAE: 0.0236\n",
      "Epoch 22/20000\n",
      "92151/92151 [==============================] - 4s 45us/step - loss: 8.4959e-04 - mse: 8.4959e-04 - kullback_leibler_divergence: 0.1685 - MAPE: 2201072.7500 - MAE: 0.0168 - val_loss: 0.0022 - val_mse: 0.0022 - val_kullback_leibler_divergence: 0.5192 - val_MAPE: 2946734.2500 - val_MAE: 0.0221\n",
      "Epoch 23/20000\n",
      "92151/92151 [==============================] - 4s 45us/step - loss: 8.3021e-04 - mse: 8.3021e-04 - kullback_leibler_divergence: 0.1597 - MAPE: 2117005.7500 - MAE: 0.0165 - val_loss: 0.0022 - val_mse: 0.0022 - val_kullback_leibler_divergence: 0.4756 - val_MAPE: 2983722.7500 - val_MAE: 0.0220\n",
      "Epoch 24/20000\n"
     ]
    },
    {
     "name": "stdout",
     "output_type": "stream",
     "text": [
      "92151/92151 [==============================] - 4s 46us/step - loss: 8.0562e-04 - mse: 8.0562e-04 - kullback_leibler_divergence: 0.1563 - MAPE: 2038513.8750 - MAE: 0.0161 - val_loss: 0.0022 - val_mse: 0.0022 - val_kullback_leibler_divergence: 0.6461 - val_MAPE: 2619755.2500 - val_MAE: 0.0217\n",
      "Epoch 25/20000\n",
      "92151/92151 [==============================] - 4s 46us/step - loss: 7.8073e-04 - mse: 7.8073e-04 - kullback_leibler_divergence: 0.1513 - MAPE: 1945323.1250 - MAE: 0.0157 - val_loss: 0.0021 - val_mse: 0.0021 - val_kullback_leibler_divergence: 0.7367 - val_MAPE: 2451712.7500 - val_MAE: 0.0212\n",
      "Epoch 26/20000\n",
      "92151/92151 [==============================] - 4s 45us/step - loss: 7.5488e-04 - mse: 7.5488e-04 - kullback_leibler_divergence: 0.1452 - MAPE: 1870188.0000 - MAE: 0.0152 - val_loss: 0.0021 - val_mse: 0.0021 - val_kullback_leibler_divergence: 0.7447 - val_MAPE: 2527364.0000 - val_MAE: 0.0214\n",
      "Epoch 27/20000\n",
      "92151/92151 [==============================] - 4s 45us/step - loss: 7.3905e-04 - mse: 7.3905e-04 - kullback_leibler_divergence: 0.1396 - MAPE: 1810269.6250 - MAE: 0.0149 - val_loss: 0.0021 - val_mse: 0.0021 - val_kullback_leibler_divergence: 0.7900 - val_MAPE: 2300659.2500 - val_MAE: 0.0206\n",
      "Epoch 28/20000\n",
      "92151/92151 [==============================] - 4s 45us/step - loss: 7.5048e-04 - mse: 7.5048e-04 - kullback_leibler_divergence: 0.1504 - MAPE: 1838105.2500 - MAE: 0.0152 - val_loss: 0.0020 - val_mse: 0.0020 - val_kullback_leibler_divergence: 0.6347 - val_MAPE: 2375574.0000 - val_MAE: 0.0204\n",
      "Epoch 29/20000\n",
      "92151/92151 [==============================] - 4s 45us/step - loss: 7.1134e-04 - mse: 7.1134e-04 - kullback_leibler_divergence: 0.1338 - MAPE: 1694488.1250 - MAE: 0.0144 - val_loss: 0.0020 - val_mse: 0.0020 - val_kullback_leibler_divergence: 0.7645 - val_MAPE: 2289046.7500 - val_MAE: 0.0203\n",
      "Epoch 30/20000\n",
      "92151/92151 [==============================] - 4s 45us/step - loss: 7.0028e-04 - mse: 7.0028e-04 - kullback_leibler_divergence: 0.1327 - MAPE: 1642903.8750 - MAE: 0.0142 - val_loss: 0.0020 - val_mse: 0.0020 - val_kullback_leibler_divergence: 0.7874 - val_MAPE: 2240181.5000 - val_MAE: 0.0200\n",
      "Epoch 31/20000\n",
      "92151/92151 [==============================] - 4s 45us/step - loss: 7.0949e-04 - mse: 7.0949e-04 - kullback_leibler_divergence: 0.1426 - MAPE: 1634177.8750 - MAE: 0.0145 - val_loss: 0.0020 - val_mse: 0.0020 - val_kullback_leibler_divergence: 0.5422 - val_MAPE: 2209815.5000 - val_MAE: 0.0194\n",
      "Epoch 32/20000\n",
      "92151/92151 [==============================] - 4s 46us/step - loss: 6.8547e-04 - mse: 6.8547e-04 - kullback_leibler_divergence: 0.1288 - MAPE: 1582332.8750 - MAE: 0.0139 - val_loss: 0.0020 - val_mse: 0.0020 - val_kullback_leibler_divergence: 0.6385 - val_MAPE: 2005547.3750 - val_MAE: 0.0192\n",
      "Epoch 33/20000\n",
      "92151/92151 [==============================] - 4s 45us/step - loss: 6.8723e-04 - mse: 6.8723e-04 - kullback_leibler_divergence: 0.1342 - MAPE: 1573268.5000 - MAE: 0.0140 - val_loss: 0.0019 - val_mse: 0.0019 - val_kullback_leibler_divergence: 0.6036 - val_MAPE: 1993983.2500 - val_MAE: 0.0189\n",
      "Epoch 34/20000\n",
      "92151/92151 [==============================] - 4s 45us/step - loss: 6.6546e-04 - mse: 6.6546e-04 - kullback_leibler_divergence: 0.1231 - MAPE: 1466487.7500 - MAE: 0.0135 - val_loss: 0.0019 - val_mse: 0.0019 - val_kullback_leibler_divergence: 0.6638 - val_MAPE: 2049143.6250 - val_MAE: 0.0190\n",
      "Epoch 35/20000\n",
      "92151/92151 [==============================] - 4s 45us/step - loss: 6.7193e-04 - mse: 6.7193e-04 - kullback_leibler_divergence: 0.1287 - MAPE: 1511638.2500 - MAE: 0.0137 - val_loss: 0.0019 - val_mse: 0.0019 - val_kullback_leibler_divergence: 0.6466 - val_MAPE: 1931643.8750 - val_MAE: 0.0195\n",
      "Epoch 36/20000\n",
      "92151/92151 [==============================] - 4s 45us/step - loss: 6.5319e-04 - mse: 6.5319e-04 - kullback_leibler_divergence: 0.1238 - MAPE: 1421669.7500 - MAE: 0.0132 - val_loss: 0.0019 - val_mse: 0.0019 - val_kullback_leibler_divergence: 0.4322 - val_MAPE: 1922328.6250 - val_MAE: 0.0184\n",
      "Epoch 37/20000\n",
      "92151/92151 [==============================] - 4s 45us/step - loss: 6.5202e-04 - mse: 6.5202e-04 - kullback_leibler_divergence: 0.1211 - MAPE: 1407048.7500 - MAE: 0.0132 - val_loss: 0.0019 - val_mse: 0.0019 - val_kullback_leibler_divergence: 0.6022 - val_MAPE: 1839071.2500 - val_MAE: 0.0183\n",
      "Epoch 38/20000\n",
      "92151/92151 [==============================] - 4s 45us/step - loss: 6.4515e-04 - mse: 6.4515e-04 - kullback_leibler_divergence: 0.1222 - MAPE: 1393939.6250 - MAE: 0.0132 - val_loss: 0.0019 - val_mse: 0.0019 - val_kullback_leibler_divergence: 0.4995 - val_MAPE: 2048811.0000 - val_MAE: 0.0186\n",
      "Epoch 39/20000\n",
      "92151/92151 [==============================] - 4s 45us/step - loss: 6.4538e-04 - mse: 6.4538e-04 - kullback_leibler_divergence: 0.1234 - MAPE: 1367745.2500 - MAE: 0.0132 - val_loss: 0.0018 - val_mse: 0.0018 - val_kullback_leibler_divergence: 0.4736 - val_MAPE: 1771540.5000 - val_MAE: 0.0179\n",
      "Epoch 40/20000\n",
      "92151/92151 [==============================] - 4s 46us/step - loss: 6.2833e-04 - mse: 6.2833e-04 - kullback_leibler_divergence: 0.1130 - MAPE: 1329399.1250 - MAE: 0.0128 - val_loss: 0.0019 - val_mse: 0.0019 - val_kullback_leibler_divergence: 0.6898 - val_MAPE: 1794981.6250 - val_MAE: 0.0181\n",
      "Epoch 41/20000\n",
      "92151/92151 [==============================] - 4s 45us/step - loss: 6.3141e-04 - mse: 6.3141e-04 - kullback_leibler_divergence: 0.1195 - MAPE: 1380770.8750 - MAE: 0.0129 - val_loss: 0.0018 - val_mse: 0.0018 - val_kullback_leibler_divergence: 0.5690 - val_MAPE: 1881123.0000 - val_MAE: 0.0180\n",
      "Epoch 42/20000\n",
      "92151/92151 [==============================] - 4s 45us/step - loss: 6.2277e-04 - mse: 6.2277e-04 - kullback_leibler_divergence: 0.1183 - MAPE: 1323229.2500 - MAE: 0.0127 - val_loss: 0.0018 - val_mse: 0.0018 - val_kullback_leibler_divergence: 0.4139 - val_MAPE: 1915294.2500 - val_MAE: 0.0179\n",
      "Epoch 43/20000\n",
      "92151/92151 [==============================] - 4s 45us/step - loss: 6.1799e-04 - mse: 6.1799e-04 - kullback_leibler_divergence: 0.1100 - MAPE: 1293876.2500 - MAE: 0.0126 - val_loss: 0.0018 - val_mse: 0.0018 - val_kullback_leibler_divergence: 0.7654 - val_MAPE: 1725407.6250 - val_MAE: 0.0183\n",
      "Epoch 44/20000\n",
      "92151/92151 [==============================] - 4s 45us/step - loss: 6.1257e-04 - mse: 6.1257e-04 - kullback_leibler_divergence: 0.1145 - MAPE: 1271960.7500 - MAE: 0.0125 - val_loss: 0.0018 - val_mse: 0.0018 - val_kullback_leibler_divergence: 0.7109 - val_MAPE: 1750335.3750 - val_MAE: 0.0181\n",
      "Epoch 45/20000\n",
      "92151/92151 [==============================] - 4s 45us/step - loss: 6.1479e-04 - mse: 6.1479e-04 - kullback_leibler_divergence: 0.1119 - MAPE: 1262384.7500 - MAE: 0.0126 - val_loss: 0.0020 - val_mse: 0.0020 - val_kullback_leibler_divergence: 1.0711 - val_MAPE: 1842612.7500 - val_MAE: 0.0207\n",
      "Epoch 46/20000\n",
      "92151/92151 [==============================] - 4s 45us/step - loss: 6.2476e-04 - mse: 6.2476e-04 - kullback_leibler_divergence: 0.1247 - MAPE: 1287600.5000 - MAE: 0.0129 - val_loss: 0.0018 - val_mse: 0.0018 - val_kullback_leibler_divergence: 0.6704 - val_MAPE: 1652544.2500 - val_MAE: 0.0174\n",
      "Epoch 47/20000\n",
      "92151/92151 [==============================] - 4s 46us/step - loss: 5.9439e-04 - mse: 5.9439e-04 - kullback_leibler_divergence: 0.1086 - MAPE: 1211089.0000 - MAE: 0.0121 - val_loss: 0.0018 - val_mse: 0.0018 - val_kullback_leibler_divergence: 0.5792 - val_MAPE: 1602323.0000 - val_MAE: 0.0170\n",
      "Epoch 48/20000\n",
      "92151/92151 [==============================] - 4s 45us/step - loss: 5.8898e-04 - mse: 5.8898e-04 - kullback_leibler_divergence: 0.1069 - MAPE: 1184934.7500 - MAE: 0.0120 - val_loss: 0.0018 - val_mse: 0.0018 - val_kullback_leibler_divergence: 0.5487 - val_MAPE: 1745031.5000 - val_MAE: 0.0173\n",
      "Epoch 49/20000\n",
      "92151/92151 [==============================] - 4s 45us/step - loss: 6.0266e-04 - mse: 6.0266e-04 - kullback_leibler_divergence: 0.1105 - MAPE: 1267160.1250 - MAE: 0.0122 - val_loss: 0.0018 - val_mse: 0.0018 - val_kullback_leibler_divergence: 0.5495 - val_MAPE: 1875110.1250 - val_MAE: 0.0176\n",
      "Epoch 50/20000\n",
      "92151/92151 [==============================] - 4s 45us/step - loss: 5.9527e-04 - mse: 5.9527e-04 - kullback_leibler_divergence: 0.1103 - MAPE: 1194038.2500 - MAE: 0.0122 - val_loss: 0.0017 - val_mse: 0.0017 - val_kullback_leibler_divergence: 0.5225 - val_MAPE: 1573960.1250 - val_MAE: 0.0167\n"
     ]
    },
    {
     "name": "stdout",
     "output_type": "stream",
     "text": [
      "Epoch 51/20000\n",
      "92151/92151 [==============================] - 4s 45us/step - loss: 5.8119e-04 - mse: 5.8119e-04 - kullback_leibler_divergence: 0.1037 - MAPE: 1156667.8750 - MAE: 0.0118 - val_loss: 0.0017 - val_mse: 0.0017 - val_kullback_leibler_divergence: 0.6106 - val_MAPE: 1634410.8750 - val_MAE: 0.0169\n",
      "Epoch 52/20000\n",
      "92151/92151 [==============================] - 4s 46us/step - loss: 5.7791e-04 - mse: 5.7791e-04 - kullback_leibler_divergence: 0.1047 - MAPE: 1148068.5000 - MAE: 0.0118 - val_loss: 0.0017 - val_mse: 0.0017 - val_kullback_leibler_divergence: 0.6879 - val_MAPE: 1539287.7500 - val_MAE: 0.0168\n",
      "Epoch 53/20000\n",
      "92151/92151 [==============================] - 4s 45us/step - loss: 5.8322e-04 - mse: 5.8322e-04 - kullback_leibler_divergence: 0.1098 - MAPE: 1157903.7500 - MAE: 0.0120 - val_loss: 0.0017 - val_mse: 0.0017 - val_kullback_leibler_divergence: 0.4848 - val_MAPE: 1626864.1250 - val_MAE: 0.0164\n",
      "Epoch 54/20000\n",
      "92151/92151 [==============================] - 4s 46us/step - loss: 5.8241e-04 - mse: 5.8241e-04 - kullback_leibler_divergence: 0.1085 - MAPE: 1185313.6250 - MAE: 0.0120 - val_loss: 0.0017 - val_mse: 0.0017 - val_kullback_leibler_divergence: 0.4665 - val_MAPE: 1630335.3750 - val_MAE: 0.0167\n",
      "Epoch 55/20000\n",
      "92151/92151 [==============================] - 4s 44us/step - loss: 5.7791e-04 - mse: 5.7791e-04 - kullback_leibler_divergence: 0.1086 - MAPE: 1180261.3750 - MAE: 0.0119 - val_loss: 0.0017 - val_mse: 0.0017 - val_kullback_leibler_divergence: 0.3237 - val_MAPE: 1777194.3750 - val_MAE: 0.0167\n",
      "Epoch 56/20000\n",
      "92151/92151 [==============================] - 4s 45us/step - loss: 5.6594e-04 - mse: 5.6594e-04 - kullback_leibler_divergence: 0.0983 - MAPE: 1111111.5000 - MAE: 0.0116 - val_loss: 0.0017 - val_mse: 0.0017 - val_kullback_leibler_divergence: 0.7010 - val_MAPE: 1634944.1250 - val_MAE: 0.0168\n",
      "Epoch 57/20000\n",
      "92151/92151 [==============================] - 4s 45us/step - loss: 5.7492e-04 - mse: 5.7492e-04 - kullback_leibler_divergence: 0.1094 - MAPE: 1141719.1250 - MAE: 0.0119 - val_loss: 0.0017 - val_mse: 0.0017 - val_kullback_leibler_divergence: 0.5113 - val_MAPE: 1496058.6250 - val_MAE: 0.0160\n",
      "Epoch 58/20000\n",
      "92151/92151 [==============================] - 4s 45us/step - loss: 5.6591e-04 - mse: 5.6591e-04 - kullback_leibler_divergence: 0.1027 - MAPE: 1131407.8750 - MAE: 0.0115 - val_loss: 0.0017 - val_mse: 0.0017 - val_kullback_leibler_divergence: 0.5409 - val_MAPE: 1542214.5000 - val_MAE: 0.0162\n",
      "Epoch 59/20000\n",
      "92151/92151 [==============================] - 4s 45us/step - loss: 5.6011e-04 - mse: 5.6011e-04 - kullback_leibler_divergence: 0.1008 - MAPE: 1082155.5000 - MAE: 0.0115 - val_loss: 0.0017 - val_mse: 0.0017 - val_kullback_leibler_divergence: 0.6794 - val_MAPE: 1701881.8750 - val_MAE: 0.0170\n",
      "Epoch 60/20000\n",
      "92151/92151 [==============================] - 4s 45us/step - loss: 5.6808e-04 - mse: 5.6808e-04 - kullback_leibler_divergence: 0.1055 - MAPE: 1134428.8750 - MAE: 0.0117 - val_loss: 0.0017 - val_mse: 0.0017 - val_kullback_leibler_divergence: 0.5490 - val_MAPE: 1611074.3750 - val_MAE: 0.0162\n",
      "Epoch 61/20000\n",
      "92151/92151 [==============================] - 4s 44us/step - loss: 5.5041e-04 - mse: 5.5041e-04 - kullback_leibler_divergence: 0.1003 - MAPE: 1058575.7500 - MAE: 0.0112 - val_loss: 0.0017 - val_mse: 0.0017 - val_kullback_leibler_divergence: 0.4151 - val_MAPE: 1528095.7500 - val_MAE: 0.0161\n",
      "Epoch 62/20000\n",
      "92151/92151 [==============================] - 4s 45us/step - loss: 5.6195e-04 - mse: 5.6195e-04 - kullback_leibler_divergence: 0.1039 - MAPE: 1089916.1250 - MAE: 0.0117 - val_loss: 0.0017 - val_mse: 0.0017 - val_kullback_leibler_divergence: 0.5419 - val_MAPE: 1711416.2500 - val_MAE: 0.0165\n",
      "Epoch 63/20000\n",
      "92151/92151 [==============================] - 4s 45us/step - loss: 5.5427e-04 - mse: 5.5427e-04 - kullback_leibler_divergence: 0.1032 - MAPE: 1097191.5000 - MAE: 0.0114 - val_loss: 0.0016 - val_mse: 0.0016 - val_kullback_leibler_divergence: 0.3592 - val_MAPE: 1538818.7500 - val_MAE: 0.0159\n",
      "Epoch 64/20000\n",
      "92151/92151 [==============================] - 4s 45us/step - loss: 5.4677e-04 - mse: 5.4677e-04 - kullback_leibler_divergence: 0.0959 - MAPE: 1024094.1250 - MAE: 0.0112 - val_loss: 0.0016 - val_mse: 0.0016 - val_kullback_leibler_divergence: 0.5890 - val_MAPE: 1394196.2500 - val_MAE: 0.0157\n",
      "Epoch 65/20000\n",
      "92151/92151 [==============================] - 4s 45us/step - loss: 5.4815e-04 - mse: 5.4815e-04 - kullback_leibler_divergence: 0.1000 - MAPE: 1048916.6250 - MAE: 0.0113 - val_loss: 0.0016 - val_mse: 0.0016 - val_kullback_leibler_divergence: 0.5949 - val_MAPE: 1606687.7500 - val_MAE: 0.0162\n",
      "Epoch 66/20000\n",
      "92151/92151 [==============================] - 4s 45us/step - loss: 5.5145e-04 - mse: 5.5145e-04 - kullback_leibler_divergence: 0.1023 - MAPE: 1091985.2500 - MAE: 0.0115 - val_loss: 0.0016 - val_mse: 0.0016 - val_kullback_leibler_divergence: 0.4960 - val_MAPE: 1401113.7500 - val_MAE: 0.0161\n",
      "Epoch 67/20000\n",
      "92151/92151 [==============================] - 4s 45us/step - loss: 5.4757e-04 - mse: 5.4757e-04 - kullback_leibler_divergence: 0.1023 - MAPE: 1028541.4375 - MAE: 0.0113 - val_loss: 0.0016 - val_mse: 0.0016 - val_kullback_leibler_divergence: 0.4601 - val_MAPE: 1454135.7500 - val_MAE: 0.0157\n",
      "Epoch 68/20000\n",
      "92151/92151 [==============================] - 4s 45us/step - loss: 5.4296e-04 - mse: 5.4296e-04 - kullback_leibler_divergence: 0.1001 - MAPE: 1058204.1250 - MAE: 0.0112 - val_loss: 0.0016 - val_mse: 0.0016 - val_kullback_leibler_divergence: 0.4016 - val_MAPE: 1390121.7500 - val_MAE: 0.0156\n",
      "Epoch 69/20000\n",
      "92151/92151 [==============================] - 4s 45us/step - loss: 5.3111e-04 - mse: 5.3111e-04 - kullback_leibler_divergence: 0.0932 - MAPE: 1005196.7500 - MAE: 0.0109 - val_loss: 0.0016 - val_mse: 0.0016 - val_kullback_leibler_divergence: 0.5767 - val_MAPE: 1404304.2500 - val_MAE: 0.0155\n",
      "Epoch 70/20000\n",
      "92151/92151 [==============================] - 4s 46us/step - loss: 5.4174e-04 - mse: 5.4174e-04 - kullback_leibler_divergence: 0.1054 - MAPE: 1034310.6250 - MAE: 0.0113 - val_loss: 0.0016 - val_mse: 0.0016 - val_kullback_leibler_divergence: 0.2455 - val_MAPE: 1502454.2500 - val_MAE: 0.0167\n",
      "Epoch 71/20000\n",
      "92151/92151 [==============================] - 4s 45us/step - loss: 5.3350e-04 - mse: 5.3350e-04 - kullback_leibler_divergence: 0.0946 - MAPE: 1023646.1875 - MAE: 0.0111 - val_loss: 0.0016 - val_mse: 0.0016 - val_kullback_leibler_divergence: 0.4722 - val_MAPE: 1473311.0000 - val_MAE: 0.0151\n",
      "Epoch 72/20000\n",
      "92151/92151 [==============================] - 4s 45us/step - loss: 5.2939e-04 - mse: 5.2939e-04 - kullback_leibler_divergence: 0.0955 - MAPE: 1064723.7500 - MAE: 0.0109 - val_loss: 0.0016 - val_mse: 0.0016 - val_kullback_leibler_divergence: 0.3624 - val_MAPE: 1526207.5000 - val_MAE: 0.0156\n",
      "Epoch 73/20000\n",
      "92151/92151 [==============================] - 4s 45us/step - loss: 5.3050e-04 - mse: 5.3050e-04 - kullback_leibler_divergence: 0.0966 - MAPE: 1017871.1250 - MAE: 0.0111 - val_loss: 0.0015 - val_mse: 0.0015 - val_kullback_leibler_divergence: 0.4136 - val_MAPE: 1447556.8750 - val_MAE: 0.0156\n",
      "Epoch 74/20000\n",
      "92151/92151 [==============================] - 4s 45us/step - loss: 5.2197e-04 - mse: 5.2197e-04 - kullback_leibler_divergence: 0.0965 - MAPE: 1008605.1875 - MAE: 0.0108 - val_loss: 0.0015 - val_mse: 0.0015 - val_kullback_leibler_divergence: 0.1399 - val_MAPE: 1443622.6250 - val_MAE: 0.0155\n",
      "Epoch 75/20000\n",
      "92151/92151 [==============================] - 4s 45us/step - loss: 5.2740e-04 - mse: 5.2740e-04 - kullback_leibler_divergence: 0.0944 - MAPE: 1051585.0000 - MAE: 0.0111 - val_loss: 0.0015 - val_mse: 0.0015 - val_kullback_leibler_divergence: 0.3775 - val_MAPE: 1355990.0000 - val_MAE: 0.0148\n",
      "Epoch 76/20000\n",
      "92151/92151 [==============================] - 4s 45us/step - loss: 5.1975e-04 - mse: 5.1975e-04 - kullback_leibler_divergence: 0.0954 - MAPE: 1000474.7500 - MAE: 0.0109 - val_loss: 0.0015 - val_mse: 0.0015 - val_kullback_leibler_divergence: 0.2742 - val_MAPE: 1366946.5000 - val_MAE: 0.0150\n",
      "Epoch 77/20000\n",
      "92151/92151 [==============================] - 4s 45us/step - loss: 5.2060e-04 - mse: 5.2060e-04 - kullback_leibler_divergence: 0.0942 - MAPE: 1053767.6250 - MAE: 0.0109 - val_loss: 0.0015 - val_mse: 0.0015 - val_kullback_leibler_divergence: 0.2258 - val_MAPE: 1618763.7500 - val_MAE: 0.0150\n"
     ]
    },
    {
     "name": "stdout",
     "output_type": "stream",
     "text": [
      "Epoch 78/20000\n",
      "92151/92151 [==============================] - 4s 45us/step - loss: 5.1929e-04 - mse: 5.1929e-04 - kullback_leibler_divergence: 0.0966 - MAPE: 1013669.1250 - MAE: 0.0110 - val_loss: 0.0015 - val_mse: 0.0015 - val_kullback_leibler_divergence: 0.2239 - val_MAPE: 1604404.2500 - val_MAE: 0.0155\n",
      "Epoch 79/20000\n",
      "92151/92151 [==============================] - 4s 45us/step - loss: 5.1364e-04 - mse: 5.1364e-04 - kullback_leibler_divergence: 0.0880 - MAPE: 984415.5000 - MAE: 0.0107 - val_loss: 0.0015 - val_mse: 0.0015 - val_kullback_leibler_divergence: 0.5386 - val_MAPE: 1289676.5000 - val_MAE: 0.0151\n",
      "Epoch 80/20000\n",
      "92151/92151 [==============================] - 4s 45us/step - loss: 5.1256e-04 - mse: 5.1256e-04 - kullback_leibler_divergence: 0.0948 - MAPE: 972123.5625 - MAE: 0.0108 - val_loss: 0.0015 - val_mse: 0.0015 - val_kullback_leibler_divergence: 0.4064 - val_MAPE: 1283227.8750 - val_MAE: 0.0147\n",
      "Epoch 81/20000\n",
      "92151/92151 [==============================] - 4s 45us/step - loss: 5.1009e-04 - mse: 5.1009e-04 - kullback_leibler_divergence: 0.0914 - MAPE: 992725.3125 - MAE: 0.0107 - val_loss: 0.0015 - val_mse: 0.0015 - val_kullback_leibler_divergence: 0.5756 - val_MAPE: 1242560.7500 - val_MAE: 0.0153\n",
      "Epoch 82/20000\n",
      "92151/92151 [==============================] - 4s 46us/step - loss: 5.1074e-04 - mse: 5.1074e-04 - kullback_leibler_divergence: 0.0948 - MAPE: 1034078.7500 - MAE: 0.0108 - val_loss: 0.0015 - val_mse: 0.0015 - val_kullback_leibler_divergence: 0.4527 - val_MAPE: 1229920.8750 - val_MAE: 0.0145\n",
      "Epoch 83/20000\n",
      "92151/92151 [==============================] - 4s 45us/step - loss: 5.0535e-04 - mse: 5.0535e-04 - kullback_leibler_divergence: 0.0940 - MAPE: 952035.1875 - MAE: 0.0107 - val_loss: 0.0015 - val_mse: 0.0015 - val_kullback_leibler_divergence: 0.3974 - val_MAPE: 1334381.1250 - val_MAE: 0.0144\n",
      "Epoch 84/20000\n",
      "92151/92151 [==============================] - 4s 45us/step - loss: 5.0389e-04 - mse: 5.0389e-04 - kullback_leibler_divergence: 0.0915 - MAPE: 964436.2500 - MAE: 0.0106 - val_loss: 0.0015 - val_mse: 0.0015 - val_kullback_leibler_divergence: 0.3832 - val_MAPE: 1534344.5000 - val_MAE: 0.0149\n",
      "Epoch 85/20000\n",
      "92151/92151 [==============================] - 4s 47us/step - loss: 5.0085e-04 - mse: 5.0085e-04 - kullback_leibler_divergence: 0.0901 - MAPE: 957862.8750 - MAE: 0.0106 - val_loss: 0.0014 - val_mse: 0.0014 - val_kullback_leibler_divergence: 0.4681 - val_MAPE: 1380761.1250 - val_MAE: 0.0145\n",
      "Epoch 86/20000\n",
      "92151/92151 [==============================] - 4s 45us/step - loss: 5.0169e-04 - mse: 5.0169e-04 - kullback_leibler_divergence: 0.0927 - MAPE: 963294.2500 - MAE: 0.0106 - val_loss: 0.0014 - val_mse: 0.0014 - val_kullback_leibler_divergence: 0.3571 - val_MAPE: 1329508.2500 - val_MAE: 0.0146\n",
      "Epoch 87/20000\n",
      "92151/92151 [==============================] - 4s 45us/step - loss: 5.0091e-04 - mse: 5.0091e-04 - kullback_leibler_divergence: 0.0921 - MAPE: 967400.0625 - MAE: 0.0107 - val_loss: 0.0014 - val_mse: 0.0014 - val_kullback_leibler_divergence: 0.3690 - val_MAPE: 1478154.3750 - val_MAE: 0.0145\n",
      "Epoch 88/20000\n",
      "92151/92151 [==============================] - 4s 45us/step - loss: 4.9411e-04 - mse: 4.9411e-04 - kullback_leibler_divergence: 0.0903 - MAPE: 938065.7500 - MAE: 0.0105 - val_loss: 0.0014 - val_mse: 0.0014 - val_kullback_leibler_divergence: 0.2606 - val_MAPE: 1236962.8750 - val_MAE: 0.0147\n",
      "Epoch 89/20000\n",
      "92151/92151 [==============================] - 4s 45us/step - loss: 4.9009e-04 - mse: 4.9009e-04 - kullback_leibler_divergence: 0.0890 - MAPE: 914344.5000 - MAE: 0.0104 - val_loss: 0.0014 - val_mse: 0.0014 - val_kullback_leibler_divergence: 0.2900 - val_MAPE: 1225901.7500 - val_MAE: 0.0141\n",
      "Epoch 90/20000\n",
      "92151/92151 [==============================] - 4s 45us/step - loss: 4.9062e-04 - mse: 4.9062e-04 - kullback_leibler_divergence: 0.0886 - MAPE: 890525.1875 - MAE: 0.0104 - val_loss: 0.0014 - val_mse: 0.0014 - val_kullback_leibler_divergence: 0.2795 - val_MAPE: 1200238.3750 - val_MAE: 0.0139\n",
      "Epoch 91/20000\n",
      "92151/92151 [==============================] - 4s 45us/step - loss: 4.9319e-04 - mse: 4.9319e-04 - kullback_leibler_divergence: 0.0874 - MAPE: 929444.0000 - MAE: 0.0105 - val_loss: 0.0014 - val_mse: 0.0014 - val_kullback_leibler_divergence: 0.5709 - val_MAPE: 1172840.1250 - val_MAE: 0.0145\n",
      "Epoch 92/20000\n",
      "92151/92151 [==============================] - 4s 45us/step - loss: 4.8411e-04 - mse: 4.8411e-04 - kullback_leibler_divergence: 0.0875 - MAPE: 912302.6875 - MAE: 0.0103 - val_loss: 0.0014 - val_mse: 0.0014 - val_kullback_leibler_divergence: 0.5883 - val_MAPE: 1142286.0000 - val_MAE: 0.0149\n",
      "Epoch 93/20000\n",
      "92151/92151 [==============================] - 4s 45us/step - loss: 4.9118e-04 - mse: 4.9118e-04 - kullback_leibler_divergence: 0.0927 - MAPE: 894725.1250 - MAE: 0.0106 - val_loss: 0.0014 - val_mse: 0.0014 - val_kullback_leibler_divergence: 0.5314 - val_MAPE: 1244686.3750 - val_MAE: 0.0145\n",
      "Epoch 94/20000\n",
      "92151/92151 [==============================] - 4s 46us/step - loss: 4.8192e-04 - mse: 4.8192e-04 - kullback_leibler_divergence: 0.0889 - MAPE: 892657.3125 - MAE: 0.0102 - val_loss: 0.0014 - val_mse: 0.0014 - val_kullback_leibler_divergence: 0.3519 - val_MAPE: 1173351.5000 - val_MAE: 0.0139\n",
      "Epoch 95/20000\n",
      "92151/92151 [==============================] - 4s 46us/step - loss: 4.7883e-04 - mse: 4.7883e-04 - kullback_leibler_divergence: 0.0845 - MAPE: 900321.8750 - MAE: 0.0102 - val_loss: 0.0014 - val_mse: 0.0014 - val_kullback_leibler_divergence: 0.4602 - val_MAPE: 1243186.3750 - val_MAE: 0.0141\n",
      "Epoch 96/20000\n",
      "92151/92151 [==============================] - 4s 45us/step - loss: 4.8555e-04 - mse: 4.8555e-04 - kullback_leibler_divergence: 0.0921 - MAPE: 901392.3125 - MAE: 0.0105 - val_loss: 0.0014 - val_mse: 0.0014 - val_kullback_leibler_divergence: 0.2303 - val_MAPE: 1275669.7500 - val_MAE: 0.0139\n",
      "Epoch 97/20000\n",
      "92151/92151 [==============================] - 4s 46us/step - loss: 4.7676e-04 - mse: 4.7676e-04 - kullback_leibler_divergence: 0.0847 - MAPE: 897901.5625 - MAE: 0.0102 - val_loss: 0.0014 - val_mse: 0.0014 - val_kullback_leibler_divergence: 0.4028 - val_MAPE: 1155255.2500 - val_MAE: 0.0141\n",
      "Epoch 98/20000\n",
      "92151/92151 [==============================] - 4s 46us/step - loss: 4.7691e-04 - mse: 4.7691e-04 - kullback_leibler_divergence: 0.0872 - MAPE: 877102.6250 - MAE: 0.0102 - val_loss: 0.0014 - val_mse: 0.0014 - val_kullback_leibler_divergence: 0.3806 - val_MAPE: 1211541.7500 - val_MAE: 0.0138\n",
      "Epoch 99/20000\n",
      "92151/92151 [==============================] - 4s 45us/step - loss: 4.6746e-04 - mse: 4.6746e-04 - kullback_leibler_divergence: 0.0806 - MAPE: 837970.8125 - MAE: 0.0099 - val_loss: 0.0014 - val_mse: 0.0014 - val_kullback_leibler_divergence: 0.5378 - val_MAPE: 1125500.0000 - val_MAE: 0.0142\n",
      "Epoch 100/20000\n",
      "92151/92151 [==============================] - 4s 46us/step - loss: 4.8244e-04 - mse: 4.8244e-04 - kullback_leibler_divergence: 0.0940 - MAPE: 898855.1875 - MAE: 0.0105 - val_loss: 0.0014 - val_mse: 0.0014 - val_kullback_leibler_divergence: 0.1690 - val_MAPE: 1325782.3750 - val_MAE: 0.0145\n",
      "Epoch 101/20000\n",
      "92151/92151 [==============================] - 4s 46us/step - loss: 4.7463e-04 - mse: 4.7463e-04 - kullback_leibler_divergence: 0.0841 - MAPE: 905323.8125 - MAE: 0.0102 - val_loss: 0.0014 - val_mse: 0.0014 - val_kullback_leibler_divergence: 0.4327 - val_MAPE: 1131294.6250 - val_MAE: 0.0142\n",
      "Epoch 102/20000\n",
      "92151/92151 [==============================] - 4s 45us/step - loss: 4.6565e-04 - mse: 4.6565e-04 - kullback_leibler_divergence: 0.0841 - MAPE: 880715.6875 - MAE: 0.0100 - val_loss: 0.0013 - val_mse: 0.0013 - val_kullback_leibler_divergence: 0.3710 - val_MAPE: 1148196.5000 - val_MAE: 0.0139\n",
      "Epoch 103/20000\n",
      "92151/92151 [==============================] - 4s 46us/step - loss: 4.5990e-04 - mse: 4.5990e-04 - kullback_leibler_divergence: 0.0812 - MAPE: 852032.5625 - MAE: 0.0098 - val_loss: 0.0013 - val_mse: 0.0013 - val_kullback_leibler_divergence: 0.3450 - val_MAPE: 1160390.6250 - val_MAE: 0.0135\n",
      "Epoch 104/20000\n",
      "86016/92151 [===========================>..] - ETA: 0s - loss: 4.7443e-04 - mse: 4.7443e-04 - kullback_leibler_divergence: 0.0880 - MAPE: 880923.2500 - MAE: 0.0103"
     ]
    },
    {
     "ename": "KeyboardInterrupt",
     "evalue": "",
     "output_type": "error",
     "traceback": [
      "\u001b[1;31m---------------------------------------------------------------------------\u001b[0m",
      "\u001b[1;31mKeyboardInterrupt\u001b[0m                         Traceback (most recent call last)",
      "\u001b[1;32m<ipython-input-166-8e67c8fa4f10>\u001b[0m in \u001b[0;36m<module>\u001b[1;34m\u001b[0m\n\u001b[0;32m      3\u001b[0m \u001b[0mmodel_cnn_lstm_base\u001b[0m\u001b[1;33m.\u001b[0m\u001b[0msummary\u001b[0m\u001b[1;33m(\u001b[0m\u001b[1;33m)\u001b[0m\u001b[1;33m\u001b[0m\u001b[1;33m\u001b[0m\u001b[0m\n\u001b[0;32m      4\u001b[0m \u001b[0mes\u001b[0m \u001b[1;33m=\u001b[0m \u001b[0mEarlyStopping\u001b[0m\u001b[1;33m(\u001b[0m\u001b[0mmonitor\u001b[0m\u001b[1;33m=\u001b[0m\u001b[1;34m'loss'\u001b[0m\u001b[1;33m,\u001b[0m \u001b[0mrestore_best_weights\u001b[0m\u001b[1;33m=\u001b[0m\u001b[1;32mTrue\u001b[0m\u001b[1;33m,\u001b[0m \u001b[0mpatience\u001b[0m\u001b[1;33m=\u001b[0m\u001b[1;36m20\u001b[0m\u001b[1;33m)\u001b[0m\u001b[1;33m\u001b[0m\u001b[1;33m\u001b[0m\u001b[0m\n\u001b[1;32m----> 5\u001b[1;33m \u001b[0mmodel_cnn_lstm_base\u001b[0m\u001b[1;33m.\u001b[0m\u001b[0mfit\u001b[0m\u001b[1;33m(\u001b[0m\u001b[0mX\u001b[0m\u001b[1;33m,\u001b[0m \u001b[0mY\u001b[0m\u001b[1;33m,\u001b[0m \u001b[0mvalidation_data\u001b[0m\u001b[1;33m=\u001b[0m\u001b[1;33m(\u001b[0m\u001b[0mX_val\u001b[0m\u001b[1;33m,\u001b[0m \u001b[0mY_val\u001b[0m\u001b[1;33m)\u001b[0m\u001b[1;33m,\u001b[0m \u001b[0mepochs\u001b[0m\u001b[1;33m=\u001b[0m\u001b[1;36m20000\u001b[0m\u001b[1;33m,\u001b[0m \u001b[0mbatch_size\u001b[0m\u001b[1;33m=\u001b[0m\u001b[1;36m2048\u001b[0m\u001b[1;33m,\u001b[0m \u001b[0mshuffle\u001b[0m\u001b[1;33m=\u001b[0m\u001b[1;32mTrue\u001b[0m\u001b[1;33m,\u001b[0m \u001b[0mcallbacks\u001b[0m\u001b[1;33m=\u001b[0m\u001b[1;33m[\u001b[0m\u001b[0mes\u001b[0m\u001b[1;33m]\u001b[0m\u001b[1;33m)\u001b[0m\u001b[1;33m\u001b[0m\u001b[1;33m\u001b[0m\u001b[0m\n\u001b[0m",
      "\u001b[1;32m~\\anaconda3\\envs\\dacon_2\\lib\\site-packages\\keras\\engine\\training.py\u001b[0m in \u001b[0;36mfit\u001b[1;34m(self, x, y, batch_size, epochs, verbose, callbacks, validation_split, validation_data, shuffle, class_weight, sample_weight, initial_epoch, steps_per_epoch, validation_steps, validation_freq, max_queue_size, workers, use_multiprocessing, **kwargs)\u001b[0m\n\u001b[0;32m   1237\u001b[0m                                         \u001b[0msteps_per_epoch\u001b[0m\u001b[1;33m=\u001b[0m\u001b[0msteps_per_epoch\u001b[0m\u001b[1;33m,\u001b[0m\u001b[1;33m\u001b[0m\u001b[1;33m\u001b[0m\u001b[0m\n\u001b[0;32m   1238\u001b[0m                                         \u001b[0mvalidation_steps\u001b[0m\u001b[1;33m=\u001b[0m\u001b[0mvalidation_steps\u001b[0m\u001b[1;33m,\u001b[0m\u001b[1;33m\u001b[0m\u001b[1;33m\u001b[0m\u001b[0m\n\u001b[1;32m-> 1239\u001b[1;33m                                         validation_freq=validation_freq)\n\u001b[0m\u001b[0;32m   1240\u001b[0m \u001b[1;33m\u001b[0m\u001b[0m\n\u001b[0;32m   1241\u001b[0m     def evaluate(self,\n",
      "\u001b[1;32m~\\anaconda3\\envs\\dacon_2\\lib\\site-packages\\keras\\engine\\training_arrays.py\u001b[0m in \u001b[0;36mfit_loop\u001b[1;34m(model, fit_function, fit_inputs, out_labels, batch_size, epochs, verbose, callbacks, val_function, val_inputs, shuffle, initial_epoch, steps_per_epoch, validation_steps, validation_freq)\u001b[0m\n\u001b[0;32m    194\u001b[0m                     \u001b[0mins_batch\u001b[0m\u001b[1;33m[\u001b[0m\u001b[0mi\u001b[0m\u001b[1;33m]\u001b[0m \u001b[1;33m=\u001b[0m \u001b[0mins_batch\u001b[0m\u001b[1;33m[\u001b[0m\u001b[0mi\u001b[0m\u001b[1;33m]\u001b[0m\u001b[1;33m.\u001b[0m\u001b[0mtoarray\u001b[0m\u001b[1;33m(\u001b[0m\u001b[1;33m)\u001b[0m\u001b[1;33m\u001b[0m\u001b[1;33m\u001b[0m\u001b[0m\n\u001b[0;32m    195\u001b[0m \u001b[1;33m\u001b[0m\u001b[0m\n\u001b[1;32m--> 196\u001b[1;33m                 \u001b[0mouts\u001b[0m \u001b[1;33m=\u001b[0m \u001b[0mfit_function\u001b[0m\u001b[1;33m(\u001b[0m\u001b[0mins_batch\u001b[0m\u001b[1;33m)\u001b[0m\u001b[1;33m\u001b[0m\u001b[1;33m\u001b[0m\u001b[0m\n\u001b[0m\u001b[0;32m    197\u001b[0m                 \u001b[0mouts\u001b[0m \u001b[1;33m=\u001b[0m \u001b[0mto_list\u001b[0m\u001b[1;33m(\u001b[0m\u001b[0mouts\u001b[0m\u001b[1;33m)\u001b[0m\u001b[1;33m\u001b[0m\u001b[1;33m\u001b[0m\u001b[0m\n\u001b[0;32m    198\u001b[0m                 \u001b[1;32mfor\u001b[0m \u001b[0ml\u001b[0m\u001b[1;33m,\u001b[0m \u001b[0mo\u001b[0m \u001b[1;32min\u001b[0m \u001b[0mzip\u001b[0m\u001b[1;33m(\u001b[0m\u001b[0mout_labels\u001b[0m\u001b[1;33m,\u001b[0m \u001b[0mouts\u001b[0m\u001b[1;33m)\u001b[0m\u001b[1;33m:\u001b[0m\u001b[1;33m\u001b[0m\u001b[1;33m\u001b[0m\u001b[0m\n",
      "\u001b[1;32m~\\anaconda3\\envs\\dacon_2\\lib\\site-packages\\tensorflow_core\\python\\keras\\backend.py\u001b[0m in \u001b[0;36m__call__\u001b[1;34m(self, inputs)\u001b[0m\n\u001b[0;32m   3725\u001b[0m         \u001b[0mvalue\u001b[0m \u001b[1;33m=\u001b[0m \u001b[0mmath_ops\u001b[0m\u001b[1;33m.\u001b[0m\u001b[0mcast\u001b[0m\u001b[1;33m(\u001b[0m\u001b[0mvalue\u001b[0m\u001b[1;33m,\u001b[0m \u001b[0mtensor\u001b[0m\u001b[1;33m.\u001b[0m\u001b[0mdtype\u001b[0m\u001b[1;33m)\u001b[0m\u001b[1;33m\u001b[0m\u001b[1;33m\u001b[0m\u001b[0m\n\u001b[0;32m   3726\u001b[0m       \u001b[0mconverted_inputs\u001b[0m\u001b[1;33m.\u001b[0m\u001b[0mappend\u001b[0m\u001b[1;33m(\u001b[0m\u001b[0mvalue\u001b[0m\u001b[1;33m)\u001b[0m\u001b[1;33m\u001b[0m\u001b[1;33m\u001b[0m\u001b[0m\n\u001b[1;32m-> 3727\u001b[1;33m     \u001b[0moutputs\u001b[0m \u001b[1;33m=\u001b[0m \u001b[0mself\u001b[0m\u001b[1;33m.\u001b[0m\u001b[0m_graph_fn\u001b[0m\u001b[1;33m(\u001b[0m\u001b[1;33m*\u001b[0m\u001b[0mconverted_inputs\u001b[0m\u001b[1;33m)\u001b[0m\u001b[1;33m\u001b[0m\u001b[1;33m\u001b[0m\u001b[0m\n\u001b[0m\u001b[0;32m   3728\u001b[0m \u001b[1;33m\u001b[0m\u001b[0m\n\u001b[0;32m   3729\u001b[0m     \u001b[1;31m# EagerTensor.numpy() will often make a copy to ensure memory safety.\u001b[0m\u001b[1;33m\u001b[0m\u001b[1;33m\u001b[0m\u001b[1;33m\u001b[0m\u001b[0m\n",
      "\u001b[1;32m~\\anaconda3\\envs\\dacon_2\\lib\\site-packages\\tensorflow_core\\python\\eager\\function.py\u001b[0m in \u001b[0;36m__call__\u001b[1;34m(self, *args, **kwargs)\u001b[0m\n\u001b[0;32m   1549\u001b[0m       \u001b[0mTypeError\u001b[0m\u001b[1;33m:\u001b[0m \u001b[0mFor\u001b[0m \u001b[0minvalid\u001b[0m \u001b[0mpositional\u001b[0m\u001b[1;33m/\u001b[0m\u001b[0mkeyword\u001b[0m \u001b[0margument\u001b[0m \u001b[0mcombinations\u001b[0m\u001b[1;33m.\u001b[0m\u001b[1;33m\u001b[0m\u001b[1;33m\u001b[0m\u001b[0m\n\u001b[0;32m   1550\u001b[0m     \"\"\"\n\u001b[1;32m-> 1551\u001b[1;33m     \u001b[1;32mreturn\u001b[0m \u001b[0mself\u001b[0m\u001b[1;33m.\u001b[0m\u001b[0m_call_impl\u001b[0m\u001b[1;33m(\u001b[0m\u001b[0margs\u001b[0m\u001b[1;33m,\u001b[0m \u001b[0mkwargs\u001b[0m\u001b[1;33m)\u001b[0m\u001b[1;33m\u001b[0m\u001b[1;33m\u001b[0m\u001b[0m\n\u001b[0m\u001b[0;32m   1552\u001b[0m \u001b[1;33m\u001b[0m\u001b[0m\n\u001b[0;32m   1553\u001b[0m   \u001b[1;32mdef\u001b[0m \u001b[0m_call_impl\u001b[0m\u001b[1;33m(\u001b[0m\u001b[0mself\u001b[0m\u001b[1;33m,\u001b[0m \u001b[0margs\u001b[0m\u001b[1;33m,\u001b[0m \u001b[0mkwargs\u001b[0m\u001b[1;33m,\u001b[0m \u001b[0mcancellation_manager\u001b[0m\u001b[1;33m=\u001b[0m\u001b[1;32mNone\u001b[0m\u001b[1;33m)\u001b[0m\u001b[1;33m:\u001b[0m\u001b[1;33m\u001b[0m\u001b[1;33m\u001b[0m\u001b[0m\n",
      "\u001b[1;32m~\\anaconda3\\envs\\dacon_2\\lib\\site-packages\\tensorflow_core\\python\\eager\\function.py\u001b[0m in \u001b[0;36m_call_impl\u001b[1;34m(self, args, kwargs, cancellation_manager)\u001b[0m\n\u001b[0;32m   1589\u001b[0m       raise TypeError(\"Keyword arguments {} unknown. Expected {}.\".format(\n\u001b[0;32m   1590\u001b[0m           list(kwargs.keys()), list(self._arg_keywords)))\n\u001b[1;32m-> 1591\u001b[1;33m     \u001b[1;32mreturn\u001b[0m \u001b[0mself\u001b[0m\u001b[1;33m.\u001b[0m\u001b[0m_call_flat\u001b[0m\u001b[1;33m(\u001b[0m\u001b[0margs\u001b[0m\u001b[1;33m,\u001b[0m \u001b[0mself\u001b[0m\u001b[1;33m.\u001b[0m\u001b[0mcaptured_inputs\u001b[0m\u001b[1;33m,\u001b[0m \u001b[0mcancellation_manager\u001b[0m\u001b[1;33m)\u001b[0m\u001b[1;33m\u001b[0m\u001b[1;33m\u001b[0m\u001b[0m\n\u001b[0m\u001b[0;32m   1592\u001b[0m \u001b[1;33m\u001b[0m\u001b[0m\n\u001b[0;32m   1593\u001b[0m   \u001b[1;32mdef\u001b[0m \u001b[0m_filtered_call\u001b[0m\u001b[1;33m(\u001b[0m\u001b[0mself\u001b[0m\u001b[1;33m,\u001b[0m \u001b[0margs\u001b[0m\u001b[1;33m,\u001b[0m \u001b[0mkwargs\u001b[0m\u001b[1;33m)\u001b[0m\u001b[1;33m:\u001b[0m\u001b[1;33m\u001b[0m\u001b[1;33m\u001b[0m\u001b[0m\n",
      "\u001b[1;32m~\\anaconda3\\envs\\dacon_2\\lib\\site-packages\\tensorflow_core\\python\\eager\\function.py\u001b[0m in \u001b[0;36m_call_flat\u001b[1;34m(self, args, captured_inputs, cancellation_manager)\u001b[0m\n\u001b[0;32m   1690\u001b[0m       \u001b[1;31m# No tape is watching; skip to running the function.\u001b[0m\u001b[1;33m\u001b[0m\u001b[1;33m\u001b[0m\u001b[1;33m\u001b[0m\u001b[0m\n\u001b[0;32m   1691\u001b[0m       return self._build_call_outputs(self._inference_function.call(\n\u001b[1;32m-> 1692\u001b[1;33m           ctx, args, cancellation_manager=cancellation_manager))\n\u001b[0m\u001b[0;32m   1693\u001b[0m     forward_backward = self._select_forward_and_backward_functions(\n\u001b[0;32m   1694\u001b[0m         \u001b[0margs\u001b[0m\u001b[1;33m,\u001b[0m\u001b[1;33m\u001b[0m\u001b[1;33m\u001b[0m\u001b[0m\n",
      "\u001b[1;32m~\\anaconda3\\envs\\dacon_2\\lib\\site-packages\\tensorflow_core\\python\\eager\\function.py\u001b[0m in \u001b[0;36mcall\u001b[1;34m(self, ctx, args, cancellation_manager)\u001b[0m\n\u001b[0;32m    543\u001b[0m               \u001b[0minputs\u001b[0m\u001b[1;33m=\u001b[0m\u001b[0margs\u001b[0m\u001b[1;33m,\u001b[0m\u001b[1;33m\u001b[0m\u001b[1;33m\u001b[0m\u001b[0m\n\u001b[0;32m    544\u001b[0m               \u001b[0mattrs\u001b[0m\u001b[1;33m=\u001b[0m\u001b[1;33m(\u001b[0m\u001b[1;34m\"executor_type\"\u001b[0m\u001b[1;33m,\u001b[0m \u001b[0mexecutor_type\u001b[0m\u001b[1;33m,\u001b[0m \u001b[1;34m\"config_proto\"\u001b[0m\u001b[1;33m,\u001b[0m \u001b[0mconfig\u001b[0m\u001b[1;33m)\u001b[0m\u001b[1;33m,\u001b[0m\u001b[1;33m\u001b[0m\u001b[1;33m\u001b[0m\u001b[0m\n\u001b[1;32m--> 545\u001b[1;33m               ctx=ctx)\n\u001b[0m\u001b[0;32m    546\u001b[0m         \u001b[1;32melse\u001b[0m\u001b[1;33m:\u001b[0m\u001b[1;33m\u001b[0m\u001b[1;33m\u001b[0m\u001b[0m\n\u001b[0;32m    547\u001b[0m           outputs = execute.execute_with_cancellation(\n",
      "\u001b[1;32m~\\anaconda3\\envs\\dacon_2\\lib\\site-packages\\tensorflow_core\\python\\eager\\execute.py\u001b[0m in \u001b[0;36mquick_execute\u001b[1;34m(op_name, num_outputs, inputs, attrs, ctx, name)\u001b[0m\n\u001b[0;32m     59\u001b[0m     tensors = pywrap_tensorflow.TFE_Py_Execute(ctx._handle, device_name,\n\u001b[0;32m     60\u001b[0m                                                \u001b[0mop_name\u001b[0m\u001b[1;33m,\u001b[0m \u001b[0minputs\u001b[0m\u001b[1;33m,\u001b[0m \u001b[0mattrs\u001b[0m\u001b[1;33m,\u001b[0m\u001b[1;33m\u001b[0m\u001b[1;33m\u001b[0m\u001b[0m\n\u001b[1;32m---> 61\u001b[1;33m                                                num_outputs)\n\u001b[0m\u001b[0;32m     62\u001b[0m   \u001b[1;32mexcept\u001b[0m \u001b[0mcore\u001b[0m\u001b[1;33m.\u001b[0m\u001b[0m_NotOkStatusException\u001b[0m \u001b[1;32mas\u001b[0m \u001b[0me\u001b[0m\u001b[1;33m:\u001b[0m\u001b[1;33m\u001b[0m\u001b[1;33m\u001b[0m\u001b[0m\n\u001b[0;32m     63\u001b[0m     \u001b[1;32mif\u001b[0m \u001b[0mname\u001b[0m \u001b[1;32mis\u001b[0m \u001b[1;32mnot\u001b[0m \u001b[1;32mNone\u001b[0m\u001b[1;33m:\u001b[0m\u001b[1;33m\u001b[0m\u001b[1;33m\u001b[0m\u001b[0m\n",
      "\u001b[1;31mKeyboardInterrupt\u001b[0m: "
     ]
    }
   ],
   "source": [
    "model_cnn_lstm_base = Model(b_input, b_output)\n",
    "model_cnn_lstm_base.compile(loss='mse', optimizer='adam', metrics=['mse', 'kullback_leibler_divergence','MAPE','MAE'])\n",
    "model_cnn_lstm_base.summary()\n",
    "es = EarlyStopping(monitor='loss', restore_best_weights=True, patience=20)\n",
    "model_cnn_lstm_base.fit(X, Y, validation_data=(X_val, Y_val), epochs=20000, batch_size=2048, shuffle=True, callbacks=[es])"
   ]
  },
  {
   "cell_type": "code",
   "execution_count": 167,
   "metadata": {},
   "outputs": [],
   "source": [
    "y_val_predict = model_cnn_lstm_base.predict(X_val)"
   ]
  },
  {
   "cell_type": "code",
   "execution_count": 168,
   "metadata": {},
   "outputs": [],
   "source": [
    "DIST=np.abs(y_val_predict-Y_val)"
   ]
  },
  {
   "cell_type": "code",
   "execution_count": 169,
   "metadata": {},
   "outputs": [
    {
     "data": {
      "text/plain": [
       "(43171, 79)"
      ]
     },
     "execution_count": 169,
     "metadata": {},
     "output_type": "execute_result"
    }
   ],
   "source": [
    "DIST.shape"
   ]
  },
  {
   "cell_type": "code",
   "execution_count": 170,
   "metadata": {},
   "outputs": [],
   "source": [
    "CHECK_ATT=VALIDATION_DF_RAW[\"attack\"]"
   ]
  },
  {
   "cell_type": "code",
   "execution_count": 171,
   "metadata": {},
   "outputs": [],
   "source": [
    "def check_graph(xs, att, piece=2, THRESHOLD=None):\n",
    "    l = xs.shape[0]\n",
    "    chunk = l // piece\n",
    "    fig, axs = plt.subplots(piece, figsize=(20, 4 * piece))\n",
    "    for i in range(piece):\n",
    "        L = i * chunk\n",
    "        R = min(L + chunk, l)\n",
    "        xticks = range(L, R)\n",
    "        axs[i].plot(xticks, xs[L:R])\n",
    "        if len(xs[L:R]) > 0:\n",
    "            peak = max(xs[L:R])\n",
    "            axs[i].plot(xticks, att[L:R] * peak * 0.3)\n",
    "        if THRESHOLD!=None:\n",
    "            axs[i].axhline(y=THRESHOLD, color='r')\n",
    "    plt.show()"
   ]
  },
  {
   "cell_type": "code",
   "execution_count": 172,
   "metadata": {},
   "outputs": [],
   "source": [
    "ANOMALY_SCORE = np.max(DIST,axis=1)"
   ]
  },
  {
   "cell_type": "code",
   "execution_count": 173,
   "metadata": {},
   "outputs": [
    {
     "data": {
      "text/plain": [
       "array([0.11278514, 0.14862037, 0.16305911, ..., 0.0838848 , 0.12133086,\n",
       "       0.10213593])"
      ]
     },
     "execution_count": 173,
     "metadata": {},
     "output_type": "execute_result"
    }
   ],
   "source": [
    "ANOMALY_SCORE"
   ]
  },
  {
   "cell_type": "code",
   "execution_count": 174,
   "metadata": {},
   "outputs": [],
   "source": [
    "blank_for_NAN=np.zeros(window_size)\n",
    "ANOMALY_SCORE_for_graph=np.concatenate((blank_for_NAN,ANOMALY_SCORE),axis=0)\n"
   ]
  },
  {
   "cell_type": "markdown",
   "metadata": {},
   "source": [
    "inference 함수는 데이터를 순차적으로 보면서 모델이 예측한 값과 실제 값의 차를 구해서 기록합니다."
   ]
  },
  {
   "cell_type": "code",
   "execution_count": 176,
   "metadata": {},
   "outputs": [
    {
     "data": {
      "image/png": "[encoded data removed]",
      "text/plain": [
       "<Figure size 1440x576 with 2 Axes>"
      ]
     },
     "metadata": {
      "needs_background": "light"
     },
     "output_type": "display_data"
    }
   ],
   "source": [
    "THRESHOLD = 0.8\n",
    "check_graph(ANOMALY_SCORE, CHECK_ATT, piece=2, THRESHOLD=THRESHOLD)"
   ]
  },
  {
   "cell_type": "markdown",
   "metadata": {},
   "source": [
    "주황색 선은 공격 위치를 나타내고, 파란색 선은 (평균) 오차의 크기를 나타냅니다.\n",
    "전반적으로 공격 위치에서 큰 오차를 보이고 있습니다.\n",
    "\n",
    "임의의 threshold(빨간색 선)가 넘어갈 경우 공격으로 간주합니다.\n",
    "공격은 1로 정상은 0으로 표기합니다."
   ]
  },
  {
   "cell_type": "code",
   "execution_count": 177,
   "metadata": {},
   "outputs": [],
   "source": [
    "def put_labels(distance, threshold):\n",
    "    xs = np.zeros_like(distance)\n",
    "    xs[distance > threshold] = 1\n",
    "    return xs"
   ]
  },
  {
   "cell_type": "markdown",
   "metadata": {},
   "source": [
    "위의 그래프를 보면 대략 0.04를 기준으로 설정할 수 있을 것으로 보입니다.\n",
    "여러 번의 실험을 통해 정밀하게 임계치를 선택하면 더 좋은 결과를 얻을 수 있을 것으로 예상합니다."
   ]
  },
  {
   "cell_type": "code",
   "execution_count": 178,
   "metadata": {
    "scrolled": true
   },
   "outputs": [
    {
     "data": {
      "text/plain": [
       "(array([0., 0., 0., ..., 0., 0., 0.]), (43171,))"
      ]
     },
     "execution_count": 178,
     "metadata": {},
     "output_type": "execute_result"
    }
   ],
   "source": [
    "LABELS = put_labels(ANOMALY_SCORE, THRESHOLD)\n",
    "LABELS, LABELS.shape"
   ]
  },
  {
   "cell_type": "code",
   "execution_count": 179,
   "metadata": {},
   "outputs": [
    {
     "data": {
      "text/plain": [
       "241"
      ]
     },
     "execution_count": 179,
     "metadata": {},
     "output_type": "execute_result"
    }
   ],
   "source": [
    "list(LABELS).count(1)"
   ]
  },
  {
   "cell_type": "markdown",
   "metadata": {},
   "source": [
    "정답지(ATTACK_LABELS)도 동일하게 추출합니다.\n",
    "검증 데이터셋에 공격 여부를 나타내는 필드에는 정상을 0으로 공격을 1로 표기하고 있습니다.\n",
    "위에 정의한 put_labels 함수를 이용해서 0.5를 기준으로 같은 방식으로 TaPR을 위한 label을 붙여줍니다."
   ]
  },
  {
   "cell_type": "code",
   "execution_count": 180,
   "metadata": {},
   "outputs": [
    {
     "data": {
      "text/plain": [
       "(array([0, 0, 0, ..., 0, 0, 0], dtype=int64), (43201,))"
      ]
     },
     "execution_count": 180,
     "metadata": {},
     "output_type": "execute_result"
    }
   ],
   "source": [
    "ATTACK_LABELS = put_labels(np.array(VALIDATION_DF_RAW[ATTACK_FIELD]), threshold=0.5)\n",
    "ATTACK_LABELS, ATTACK_LABELS.shape"
   ]
  },
  {
   "cell_type": "code",
   "execution_count": 181,
   "metadata": {},
   "outputs": [
    {
     "data": {
      "image/png": "[encoded data removed]",
      "text/plain": [
       "<Figure size 1440x576 with 2 Axes>"
      ]
     },
     "metadata": {
      "needs_background": "light"
     },
     "output_type": "display_data"
    }
   ],
   "source": [
    "check_graph(LABELS, ATTACK_LABELS, piece=2, THRESHOLD=THRESHOLD)"
   ]
  },
  {
   "cell_type": "code",
   "execution_count": 182,
   "metadata": {},
   "outputs": [],
   "source": [
    "blank_for_NAN=np.zeros(window_size)\n",
    "Final_Labels=np.concatenate((blank_for_NAN,LABELS),axis=0)\n"
   ]
  },
  {
   "cell_type": "markdown",
   "metadata": {},
   "source": [
    "## 평가\n",
    "\n",
    "평가는 TaPR을 사용합니다.\n",
    "정답(ATTACK_LABELS)과 모델의 결과(FINAL_LABELS)의 길이가 같은지 확인합니다."
   ]
  },
  {
   "cell_type": "code",
   "execution_count": 185,
   "metadata": {},
   "outputs": [
    {
     "data": {
      "text/plain": [
       "True"
      ]
     },
     "execution_count": 185,
     "metadata": {},
     "output_type": "execute_result"
    }
   ],
   "source": [
    "ATTACK_LABELS.shape[0] == Final_Labels.shape[0]"
   ]
  },
  {
   "cell_type": "markdown",
   "metadata": {},
   "source": [
    "TaPR 점수를 받습니다."
   ]
  },
  {
   "cell_type": "code",
   "execution_count": 186,
   "metadata": {},
   "outputs": [
    {
     "name": "stdout",
     "output_type": "stream",
     "text": [
      "F1: 0.770 (TaP: 0.969, TaR: 0.639)\n",
      "# of detected anomalies: 4\n",
      "Detected anomalies: ['1', '3', '4', '5']\n"
     ]
    }
   ],
   "source": [
    "TaPR = etapr.evaluate(anomalies=ATTACK_LABELS, predictions=Final_Labels)\n",
    "print(f\"F1: {TaPR['f1']:.3f} (TaP: {TaPR['TaP']:.3f}, TaR: {TaPR['TaR']:.3f})\")\n",
    "print(f\"# of detected anomalies: {len(TaPR['Detected_Anomalies'])}\")\n",
    "print(f\"Detected anomalies: {TaPR['Detected_Anomalies']}\")"
   ]
  },
  {
   "cell_type": "code",
   "execution_count": 187,
   "metadata": {},
   "outputs": [
    {
     "data": {
      "text/plain": [
       "[WindowsPath('data/HAI_2.0/testing/test1.csv'),\n",
       " WindowsPath('data/HAI_2.0/testing/test2.csv'),\n",
       " WindowsPath('data/HAI_2.0/testing/test3.csv'),\n",
       " WindowsPath('data/HAI_2.0/testing/test4.csv')]"
      ]
     },
     "execution_count": 187,
     "metadata": {},
     "output_type": "execute_result"
    }
   ],
   "source": [
    "TEST_DATASET = sorted([x for x in Path(\"data/HAI_2.0/testing/\").glob(\"*.csv\")])\n",
    "TEST_DATASET"
   ]
  },
  {
   "cell_type": "code",
   "execution_count": 188,
   "metadata": {},
   "outputs": [
    {
     "data": {
      "text/html": [
       "<div>\n",
       "<style scoped>\n",
       "    .dataframe tbody tr th:only-of-type {\n",
       "        vertical-align: middle;\n",
       "    }\n",
       "\n",
       "    .dataframe tbody tr th {\n",
       "        vertical-align: top;\n",
       "    }\n",
       "\n",
       "    .dataframe thead th {\n",
       "        text-align: right;\n",
       "    }\n",
       "</style>\n",
       "<table border=\"1\" class=\"dataframe\">\n",
       "  <thead>\n",
       "    <tr style=\"text-align: right;\">\n",
       "      <th></th>\n",
       "      <th>time</th>\n",
       "      <th>C01</th>\n",
       "      <th>C02</th>\n",
       "      <th>C03</th>\n",
       "      <th>C04</th>\n",
       "      <th>C05</th>\n",
       "      <th>C06</th>\n",
       "      <th>C07</th>\n",
       "      <th>C08</th>\n",
       "      <th>C09</th>\n",
       "      <th>...</th>\n",
       "      <th>C70</th>\n",
       "      <th>C71</th>\n",
       "      <th>C72</th>\n",
       "      <th>C73</th>\n",
       "      <th>C74</th>\n",
       "      <th>C75</th>\n",
       "      <th>C76</th>\n",
       "      <th>C77</th>\n",
       "      <th>C78</th>\n",
       "      <th>C79</th>\n",
       "    </tr>\n",
       "  </thead>\n",
       "  <tbody>\n",
       "    <tr>\n",
       "      <th>0</th>\n",
       "      <td>2020-07-09 15:00:00</td>\n",
       "      <td>384.30737</td>\n",
       "      <td>12.0</td>\n",
       "      <td>10</td>\n",
       "      <td>70.35980</td>\n",
       "      <td>-1.6171</td>\n",
       "      <td>-1.79901</td>\n",
       "      <td>774.20752</td>\n",
       "      <td>28.02385</td>\n",
       "      <td>136</td>\n",
       "      <td>...</td>\n",
       "      <td>936.58447</td>\n",
       "      <td>0.0</td>\n",
       "      <td>1.35437</td>\n",
       "      <td>13.97231</td>\n",
       "      <td>35.22338</td>\n",
       "      <td>12.02545</td>\n",
       "      <td>293.51129</td>\n",
       "      <td>283.92651</td>\n",
       "      <td>32.0</td>\n",
       "      <td>6.5059</td>\n",
       "    </tr>\n",
       "    <tr>\n",
       "      <th>1</th>\n",
       "      <td>2020-07-09 15:00:01</td>\n",
       "      <td>384.30737</td>\n",
       "      <td>12.0</td>\n",
       "      <td>10</td>\n",
       "      <td>70.35980</td>\n",
       "      <td>-1.7606</td>\n",
       "      <td>-1.79901</td>\n",
       "      <td>772.58758</td>\n",
       "      <td>28.02730</td>\n",
       "      <td>136</td>\n",
       "      <td>...</td>\n",
       "      <td>940.93317</td>\n",
       "      <td>0.0</td>\n",
       "      <td>1.35437</td>\n",
       "      <td>13.93358</td>\n",
       "      <td>35.20813</td>\n",
       "      <td>12.02545</td>\n",
       "      <td>292.67938</td>\n",
       "      <td>283.36591</td>\n",
       "      <td>32.0</td>\n",
       "      <td>6.3079</td>\n",
       "    </tr>\n",
       "    <tr>\n",
       "      <th>2</th>\n",
       "      <td>2020-07-09 15:00:02</td>\n",
       "      <td>384.20517</td>\n",
       "      <td>12.0</td>\n",
       "      <td>10</td>\n",
       "      <td>70.35980</td>\n",
       "      <td>-1.7606</td>\n",
       "      <td>-1.80664</td>\n",
       "      <td>772.58758</td>\n",
       "      <td>28.02730</td>\n",
       "      <td>136</td>\n",
       "      <td>...</td>\n",
       "      <td>936.58447</td>\n",
       "      <td>0.0</td>\n",
       "      <td>1.35513</td>\n",
       "      <td>13.95248</td>\n",
       "      <td>35.20813</td>\n",
       "      <td>12.02545</td>\n",
       "      <td>291.90179</td>\n",
       "      <td>282.93189</td>\n",
       "      <td>32.0</td>\n",
       "      <td>6.3079</td>\n",
       "    </tr>\n",
       "    <tr>\n",
       "      <th>3</th>\n",
       "      <td>2020-07-09 15:00:03</td>\n",
       "      <td>384.25626</td>\n",
       "      <td>12.0</td>\n",
       "      <td>10</td>\n",
       "      <td>70.35980</td>\n",
       "      <td>-1.7814</td>\n",
       "      <td>-1.79901</td>\n",
       "      <td>777.48810</td>\n",
       "      <td>28.02905</td>\n",
       "      <td>136</td>\n",
       "      <td>...</td>\n",
       "      <td>933.54034</td>\n",
       "      <td>0.0</td>\n",
       "      <td>1.35513</td>\n",
       "      <td>13.89971</td>\n",
       "      <td>35.20813</td>\n",
       "      <td>12.02545</td>\n",
       "      <td>291.59430</td>\n",
       "      <td>282.06378</td>\n",
       "      <td>32.0</td>\n",
       "      <td>6.1203</td>\n",
       "    </tr>\n",
       "    <tr>\n",
       "      <th>4</th>\n",
       "      <td>2020-07-09 15:00:04</td>\n",
       "      <td>384.20517</td>\n",
       "      <td>12.0</td>\n",
       "      <td>10</td>\n",
       "      <td>70.35980</td>\n",
       "      <td>-1.7370</td>\n",
       "      <td>-1.79901</td>\n",
       "      <td>778.42212</td>\n",
       "      <td>28.03169</td>\n",
       "      <td>136</td>\n",
       "      <td>...</td>\n",
       "      <td>944.41223</td>\n",
       "      <td>0.0</td>\n",
       "      <td>1.35437</td>\n",
       "      <td>13.94603</td>\n",
       "      <td>35.20813</td>\n",
       "      <td>12.02545</td>\n",
       "      <td>289.87628</td>\n",
       "      <td>283.67334</td>\n",
       "      <td>32.0</td>\n",
       "      <td>5.9543</td>\n",
       "    </tr>\n",
       "    <tr>\n",
       "      <th>...</th>\n",
       "      <td>...</td>\n",
       "      <td>...</td>\n",
       "      <td>...</td>\n",
       "      <td>...</td>\n",
       "      <td>...</td>\n",
       "      <td>...</td>\n",
       "      <td>...</td>\n",
       "      <td>...</td>\n",
       "      <td>...</td>\n",
       "      <td>...</td>\n",
       "      <td>...</td>\n",
       "      <td>...</td>\n",
       "      <td>...</td>\n",
       "      <td>...</td>\n",
       "      <td>...</td>\n",
       "      <td>...</td>\n",
       "      <td>...</td>\n",
       "      <td>...</td>\n",
       "      <td>...</td>\n",
       "      <td>...</td>\n",
       "      <td>...</td>\n",
       "    </tr>\n",
       "    <tr>\n",
       "      <th>92396</th>\n",
       "      <td>2020-07-31 12:29:56</td>\n",
       "      <td>420.08923</td>\n",
       "      <td>12.0</td>\n",
       "      <td>10</td>\n",
       "      <td>48.31848</td>\n",
       "      <td>-0.8706</td>\n",
       "      <td>97.19238</td>\n",
       "      <td>786.54382</td>\n",
       "      <td>28.03253</td>\n",
       "      <td>232</td>\n",
       "      <td>...</td>\n",
       "      <td>824.82147</td>\n",
       "      <td>100.0</td>\n",
       "      <td>1.35666</td>\n",
       "      <td>9.62203</td>\n",
       "      <td>36.47460</td>\n",
       "      <td>11.78894</td>\n",
       "      <td>357.27722</td>\n",
       "      <td>361.14728</td>\n",
       "      <td>32.0</td>\n",
       "      <td>6.2809</td>\n",
       "    </tr>\n",
       "    <tr>\n",
       "      <th>92397</th>\n",
       "      <td>2020-07-31 12:29:57</td>\n",
       "      <td>420.08923</td>\n",
       "      <td>12.0</td>\n",
       "      <td>10</td>\n",
       "      <td>48.31848</td>\n",
       "      <td>-0.7498</td>\n",
       "      <td>97.19238</td>\n",
       "      <td>784.07184</td>\n",
       "      <td>28.03598</td>\n",
       "      <td>224</td>\n",
       "      <td>...</td>\n",
       "      <td>823.51697</td>\n",
       "      <td>100.0</td>\n",
       "      <td>1.35513</td>\n",
       "      <td>9.48747</td>\n",
       "      <td>36.47460</td>\n",
       "      <td>11.78894</td>\n",
       "      <td>357.29529</td>\n",
       "      <td>359.84521</td>\n",
       "      <td>32.0</td>\n",
       "      <td>6.3602</td>\n",
       "    </tr>\n",
       "    <tr>\n",
       "      <th>92398</th>\n",
       "      <td>2020-07-31 12:29:58</td>\n",
       "      <td>420.24258</td>\n",
       "      <td>12.0</td>\n",
       "      <td>10</td>\n",
       "      <td>48.31848</td>\n",
       "      <td>-0.6076</td>\n",
       "      <td>97.19238</td>\n",
       "      <td>786.83881</td>\n",
       "      <td>28.02642</td>\n",
       "      <td>208</td>\n",
       "      <td>...</td>\n",
       "      <td>824.82147</td>\n",
       "      <td>100.0</td>\n",
       "      <td>1.35666</td>\n",
       "      <td>9.57787</td>\n",
       "      <td>36.48986</td>\n",
       "      <td>11.78894</td>\n",
       "      <td>357.27722</td>\n",
       "      <td>360.60474</td>\n",
       "      <td>32.0</td>\n",
       "      <td>6.3742</td>\n",
       "    </tr>\n",
       "    <tr>\n",
       "      <th>92399</th>\n",
       "      <td>2020-07-31 12:29:59</td>\n",
       "      <td>420.24258</td>\n",
       "      <td>12.0</td>\n",
       "      <td>10</td>\n",
       "      <td>48.31848</td>\n",
       "      <td>-0.4618</td>\n",
       "      <td>97.19238</td>\n",
       "      <td>786.66138</td>\n",
       "      <td>28.03341</td>\n",
       "      <td>200</td>\n",
       "      <td>...</td>\n",
       "      <td>833.51904</td>\n",
       "      <td>100.0</td>\n",
       "      <td>1.35513</td>\n",
       "      <td>9.56291</td>\n",
       "      <td>36.48986</td>\n",
       "      <td>11.78894</td>\n",
       "      <td>357.80170</td>\n",
       "      <td>357.42188</td>\n",
       "      <td>32.0</td>\n",
       "      <td>6.2864</td>\n",
       "    </tr>\n",
       "    <tr>\n",
       "      <th>92400</th>\n",
       "      <td>2020-07-31 12:30:00</td>\n",
       "      <td>420.29373</td>\n",
       "      <td>12.0</td>\n",
       "      <td>10</td>\n",
       "      <td>48.31848</td>\n",
       "      <td>-0.3661</td>\n",
       "      <td>97.20001</td>\n",
       "      <td>785.72290</td>\n",
       "      <td>28.03247</td>\n",
       "      <td>192</td>\n",
       "      <td>...</td>\n",
       "      <td>827.43085</td>\n",
       "      <td>100.0</td>\n",
       "      <td>1.35590</td>\n",
       "      <td>9.53689</td>\n",
       "      <td>36.47460</td>\n",
       "      <td>11.78894</td>\n",
       "      <td>357.07825</td>\n",
       "      <td>358.65161</td>\n",
       "      <td>32.0</td>\n",
       "      <td>6.0371</td>\n",
       "    </tr>\n",
       "  </tbody>\n",
       "</table>\n",
       "<p>358804 rows × 80 columns</p>\n",
       "</div>"
      ],
      "text/plain": [
       "                      time        C01   C02  C03       C04     C05       C06  \\\n",
       "0      2020-07-09 15:00:00  384.30737  12.0   10  70.35980 -1.6171  -1.79901   \n",
       "1      2020-07-09 15:00:01  384.30737  12.0   10  70.35980 -1.7606  -1.79901   \n",
       "2      2020-07-09 15:00:02  384.20517  12.0   10  70.35980 -1.7606  -1.80664   \n",
       "3      2020-07-09 15:00:03  384.25626  12.0   10  70.35980 -1.7814  -1.79901   \n",
       "4      2020-07-09 15:00:04  384.20517  12.0   10  70.35980 -1.7370  -1.79901   \n",
       "...                    ...        ...   ...  ...       ...     ...       ...   \n",
       "92396  2020-07-31 12:29:56  420.08923  12.0   10  48.31848 -0.8706  97.19238   \n",
       "92397  2020-07-31 12:29:57  420.08923  12.0   10  48.31848 -0.7498  97.19238   \n",
       "92398  2020-07-31 12:29:58  420.24258  12.0   10  48.31848 -0.6076  97.19238   \n",
       "92399  2020-07-31 12:29:59  420.24258  12.0   10  48.31848 -0.4618  97.19238   \n",
       "92400  2020-07-31 12:30:00  420.29373  12.0   10  48.31848 -0.3661  97.20001   \n",
       "\n",
       "             C07       C08  C09  ...        C70    C71      C72       C73  \\\n",
       "0      774.20752  28.02385  136  ...  936.58447    0.0  1.35437  13.97231   \n",
       "1      772.58758  28.02730  136  ...  940.93317    0.0  1.35437  13.93358   \n",
       "2      772.58758  28.02730  136  ...  936.58447    0.0  1.35513  13.95248   \n",
       "3      777.48810  28.02905  136  ...  933.54034    0.0  1.35513  13.89971   \n",
       "4      778.42212  28.03169  136  ...  944.41223    0.0  1.35437  13.94603   \n",
       "...          ...       ...  ...  ...        ...    ...      ...       ...   \n",
       "92396  786.54382  28.03253  232  ...  824.82147  100.0  1.35666   9.62203   \n",
       "92397  784.07184  28.03598  224  ...  823.51697  100.0  1.35513   9.48747   \n",
       "92398  786.83881  28.02642  208  ...  824.82147  100.0  1.35666   9.57787   \n",
       "92399  786.66138  28.03341  200  ...  833.51904  100.0  1.35513   9.56291   \n",
       "92400  785.72290  28.03247  192  ...  827.43085  100.0  1.35590   9.53689   \n",
       "\n",
       "            C74       C75        C76        C77   C78     C79  \n",
       "0      35.22338  12.02545  293.51129  283.92651  32.0  6.5059  \n",
       "1      35.20813  12.02545  292.67938  283.36591  32.0  6.3079  \n",
       "2      35.20813  12.02545  291.90179  282.93189  32.0  6.3079  \n",
       "3      35.20813  12.02545  291.59430  282.06378  32.0  6.1203  \n",
       "4      35.20813  12.02545  289.87628  283.67334  32.0  5.9543  \n",
       "...         ...       ...        ...        ...   ...     ...  \n",
       "92396  36.47460  11.78894  357.27722  361.14728  32.0  6.2809  \n",
       "92397  36.47460  11.78894  357.29529  359.84521  32.0  6.3602  \n",
       "92398  36.48986  11.78894  357.27722  360.60474  32.0  6.3742  \n",
       "92399  36.48986  11.78894  357.80170  357.42188  32.0  6.2864  \n",
       "92400  36.47460  11.78894  357.07825  358.65161  32.0  6.0371  \n",
       "\n",
       "[358804 rows x 80 columns]"
      ]
     },
     "execution_count": 188,
     "metadata": {},
     "output_type": "execute_result"
    }
   ],
   "source": [
    "TEST_DF_RAW, len_test = dataframe_from_csvs(TEST_DATASET)\n",
    "TEST_DF_RAW"
   ]
  },
  {
   "cell_type": "code",
   "execution_count": 189,
   "metadata": {},
   "outputs": [
    {
     "data": {
      "text/plain": [
       "[118801, 108001, 39601, 92401]"
      ]
     },
     "execution_count": 189,
     "metadata": {},
     "output_type": "execute_result"
    }
   ],
   "source": [
    "len_test"
   ]
  },
  {
   "cell_type": "code",
   "execution_count": 190,
   "metadata": {},
   "outputs": [
    {
     "data": {
      "text/html": [
       "<div>\n",
       "<style scoped>\n",
       "    .dataframe tbody tr th:only-of-type {\n",
       "        vertical-align: middle;\n",
       "    }\n",
       "\n",
       "    .dataframe tbody tr th {\n",
       "        vertical-align: top;\n",
       "    }\n",
       "\n",
       "    .dataframe thead th {\n",
       "        text-align: right;\n",
       "    }\n",
       "</style>\n",
       "<table border=\"1\" class=\"dataframe\">\n",
       "  <thead>\n",
       "    <tr style=\"text-align: right;\">\n",
       "      <th></th>\n",
       "      <th>C01</th>\n",
       "      <th>C02</th>\n",
       "      <th>C03</th>\n",
       "      <th>C04</th>\n",
       "      <th>C05</th>\n",
       "      <th>C06</th>\n",
       "      <th>C07</th>\n",
       "      <th>C08</th>\n",
       "      <th>C09</th>\n",
       "      <th>C10</th>\n",
       "      <th>...</th>\n",
       "      <th>C70</th>\n",
       "      <th>C71</th>\n",
       "      <th>C72</th>\n",
       "      <th>C73</th>\n",
       "      <th>C74</th>\n",
       "      <th>C75</th>\n",
       "      <th>C76</th>\n",
       "      <th>C77</th>\n",
       "      <th>C78</th>\n",
       "      <th>C79</th>\n",
       "    </tr>\n",
       "  </thead>\n",
       "  <tbody>\n",
       "    <tr>\n",
       "      <th>0</th>\n",
       "      <td>0.273715</td>\n",
       "      <td>0.0</td>\n",
       "      <td>0.0</td>\n",
       "      <td>0.828325</td>\n",
       "      <td>0.225882</td>\n",
       "      <td>0.000999</td>\n",
       "      <td>0.318761</td>\n",
       "      <td>0.333825</td>\n",
       "      <td>0.010417</td>\n",
       "      <td>0.139867</td>\n",
       "      <td>...</td>\n",
       "      <td>0.677723</td>\n",
       "      <td>0.0</td>\n",
       "      <td>0.317842</td>\n",
       "      <td>0.452044</td>\n",
       "      <td>0.236483</td>\n",
       "      <td>0.944440</td>\n",
       "      <td>0.225971</td>\n",
       "      <td>0.200389</td>\n",
       "      <td>0.26162</td>\n",
       "      <td>0.714722</td>\n",
       "    </tr>\n",
       "    <tr>\n",
       "      <th>1</th>\n",
       "      <td>0.273715</td>\n",
       "      <td>0.0</td>\n",
       "      <td>0.0</td>\n",
       "      <td>0.828325</td>\n",
       "      <td>0.171634</td>\n",
       "      <td>0.000999</td>\n",
       "      <td>0.300187</td>\n",
       "      <td>0.426398</td>\n",
       "      <td>0.010417</td>\n",
       "      <td>0.137445</td>\n",
       "      <td>...</td>\n",
       "      <td>0.680584</td>\n",
       "      <td>0.0</td>\n",
       "      <td>0.317842</td>\n",
       "      <td>0.450701</td>\n",
       "      <td>0.230344</td>\n",
       "      <td>0.944440</td>\n",
       "      <td>0.223121</td>\n",
       "      <td>0.198499</td>\n",
       "      <td>0.26162</td>\n",
       "      <td>0.650106</td>\n",
       "    </tr>\n",
       "    <tr>\n",
       "      <th>2</th>\n",
       "      <td>0.272825</td>\n",
       "      <td>0.0</td>\n",
       "      <td>0.0</td>\n",
       "      <td>0.828325</td>\n",
       "      <td>0.166747</td>\n",
       "      <td>0.000930</td>\n",
       "      <td>0.298514</td>\n",
       "      <td>0.434738</td>\n",
       "      <td>0.010417</td>\n",
       "      <td>0.137227</td>\n",
       "      <td>...</td>\n",
       "      <td>0.678007</td>\n",
       "      <td>0.0</td>\n",
       "      <td>0.318290</td>\n",
       "      <td>0.451229</td>\n",
       "      <td>0.229791</td>\n",
       "      <td>0.944440</td>\n",
       "      <td>0.220223</td>\n",
       "      <td>0.196880</td>\n",
       "      <td>0.26162</td>\n",
       "      <td>0.644285</td>\n",
       "    </tr>\n",
       "    <tr>\n",
       "      <th>3</th>\n",
       "      <td>0.273182</td>\n",
       "      <td>0.0</td>\n",
       "      <td>0.0</td>\n",
       "      <td>0.828325</td>\n",
       "      <td>0.158478</td>\n",
       "      <td>0.000992</td>\n",
       "      <td>0.353980</td>\n",
       "      <td>0.482056</td>\n",
       "      <td>0.010417</td>\n",
       "      <td>0.190063</td>\n",
       "      <td>...</td>\n",
       "      <td>0.675769</td>\n",
       "      <td>0.0</td>\n",
       "      <td>0.318335</td>\n",
       "      <td>0.449470</td>\n",
       "      <td>0.229736</td>\n",
       "      <td>0.944440</td>\n",
       "      <td>0.218893</td>\n",
       "      <td>0.193823</td>\n",
       "      <td>0.26162</td>\n",
       "      <td>0.583093</td>\n",
       "    </tr>\n",
       "    <tr>\n",
       "      <th>4</th>\n",
       "      <td>0.272773</td>\n",
       "      <td>0.0</td>\n",
       "      <td>0.0</td>\n",
       "      <td>0.828325</td>\n",
       "      <td>0.174269</td>\n",
       "      <td>0.000998</td>\n",
       "      <td>0.370123</td>\n",
       "      <td>0.556914</td>\n",
       "      <td>0.010417</td>\n",
       "      <td>0.266280</td>\n",
       "      <td>...</td>\n",
       "      <td>0.682626</td>\n",
       "      <td>0.0</td>\n",
       "      <td>0.317891</td>\n",
       "      <td>0.450884</td>\n",
       "      <td>0.229731</td>\n",
       "      <td>0.944440</td>\n",
       "      <td>0.212932</td>\n",
       "      <td>0.198888</td>\n",
       "      <td>0.26162</td>\n",
       "      <td>0.523348</td>\n",
       "    </tr>\n",
       "    <tr>\n",
       "      <th>...</th>\n",
       "      <td>...</td>\n",
       "      <td>...</td>\n",
       "      <td>...</td>\n",
       "      <td>...</td>\n",
       "      <td>...</td>\n",
       "      <td>...</td>\n",
       "      <td>...</td>\n",
       "      <td>...</td>\n",
       "      <td>...</td>\n",
       "      <td>...</td>\n",
       "      <td>...</td>\n",
       "      <td>...</td>\n",
       "      <td>...</td>\n",
       "      <td>...</td>\n",
       "      <td>...</td>\n",
       "      <td>...</td>\n",
       "      <td>...</td>\n",
       "      <td>...</td>\n",
       "      <td>...</td>\n",
       "      <td>...</td>\n",
       "      <td>...</td>\n",
       "    </tr>\n",
       "    <tr>\n",
       "      <th>92396</th>\n",
       "      <td>0.619520</td>\n",
       "      <td>0.0</td>\n",
       "      <td>0.0</td>\n",
       "      <td>0.073426</td>\n",
       "      <td>0.532147</td>\n",
       "      <td>0.998079</td>\n",
       "      <td>0.476720</td>\n",
       "      <td>0.581066</td>\n",
       "      <td>0.017489</td>\n",
       "      <td>0.358745</td>\n",
       "      <td>...</td>\n",
       "      <td>0.596406</td>\n",
       "      <td>1.0</td>\n",
       "      <td>0.319337</td>\n",
       "      <td>0.285888</td>\n",
       "      <td>0.790598</td>\n",
       "      <td>0.083339</td>\n",
       "      <td>0.466152</td>\n",
       "      <td>0.485809</td>\n",
       "      <td>0.26162</td>\n",
       "      <td>0.622130</td>\n",
       "    </tr>\n",
       "    <tr>\n",
       "      <th>92397</th>\n",
       "      <td>0.619561</td>\n",
       "      <td>0.0</td>\n",
       "      <td>0.0</td>\n",
       "      <td>0.073426</td>\n",
       "      <td>0.581096</td>\n",
       "      <td>0.998079</td>\n",
       "      <td>0.446527</td>\n",
       "      <td>0.680775</td>\n",
       "      <td>0.016853</td>\n",
       "      <td>0.386044</td>\n",
       "      <td>...</td>\n",
       "      <td>0.595956</td>\n",
       "      <td>1.0</td>\n",
       "      <td>0.318439</td>\n",
       "      <td>0.281450</td>\n",
       "      <td>0.790543</td>\n",
       "      <td>0.083339</td>\n",
       "      <td>0.466370</td>\n",
       "      <td>0.482229</td>\n",
       "      <td>0.26162</td>\n",
       "      <td>0.658390</td>\n",
       "    </tr>\n",
       "    <tr>\n",
       "      <th>92398</th>\n",
       "      <td>0.620899</td>\n",
       "      <td>0.0</td>\n",
       "      <td>0.0</td>\n",
       "      <td>0.073426</td>\n",
       "      <td>0.639210</td>\n",
       "      <td>0.998079</td>\n",
       "      <td>0.474916</td>\n",
       "      <td>0.436791</td>\n",
       "      <td>0.015748</td>\n",
       "      <td>0.453718</td>\n",
       "      <td>...</td>\n",
       "      <td>0.596761</td>\n",
       "      <td>1.0</td>\n",
       "      <td>0.319252</td>\n",
       "      <td>0.284110</td>\n",
       "      <td>0.796619</td>\n",
       "      <td>0.083339</td>\n",
       "      <td>0.466330</td>\n",
       "      <td>0.484406</td>\n",
       "      <td>0.26162</td>\n",
       "      <td>0.666539</td>\n",
       "    </tr>\n",
       "    <tr>\n",
       "      <th>92399</th>\n",
       "      <td>0.621033</td>\n",
       "      <td>0.0</td>\n",
       "      <td>0.0</td>\n",
       "      <td>0.073426</td>\n",
       "      <td>0.699587</td>\n",
       "      <td>0.998079</td>\n",
       "      <td>0.475741</td>\n",
       "      <td>0.598077</td>\n",
       "      <td>0.015116</td>\n",
       "      <td>0.563381</td>\n",
       "      <td>...</td>\n",
       "      <td>0.602505</td>\n",
       "      <td>1.0</td>\n",
       "      <td>0.318431</td>\n",
       "      <td>0.283862</td>\n",
       "      <td>0.797227</td>\n",
       "      <td>0.083339</td>\n",
       "      <td>0.468106</td>\n",
       "      <td>0.474004</td>\n",
       "      <td>0.26162</td>\n",
       "      <td>0.638988</td>\n",
       "    </tr>\n",
       "    <tr>\n",
       "      <th>92400</th>\n",
       "      <td>0.621491</td>\n",
       "      <td>0.0</td>\n",
       "      <td>0.0</td>\n",
       "      <td>0.073426</td>\n",
       "      <td>0.741441</td>\n",
       "      <td>0.998148</td>\n",
       "      <td>0.465171</td>\n",
       "      <td>0.589235</td>\n",
       "      <td>0.014532</td>\n",
       "      <td>0.705708</td>\n",
       "      <td>...</td>\n",
       "      <td>0.599115</td>\n",
       "      <td>1.0</td>\n",
       "      <td>0.318803</td>\n",
       "      <td>0.282944</td>\n",
       "      <td>0.791206</td>\n",
       "      <td>0.083339</td>\n",
       "      <td>0.465829</td>\n",
       "      <td>0.477066</td>\n",
       "      <td>0.26162</td>\n",
       "      <td>0.555689</td>\n",
       "    </tr>\n",
       "  </tbody>\n",
       "</table>\n",
       "<p>358804 rows × 79 columns</p>\n",
       "</div>"
      ],
      "text/plain": [
       "            C01  C02  C03       C04       C05       C06       C07       C08  \\\n",
       "0      0.273715  0.0  0.0  0.828325  0.225882  0.000999  0.318761  0.333825   \n",
       "1      0.273715  0.0  0.0  0.828325  0.171634  0.000999  0.300187  0.426398   \n",
       "2      0.272825  0.0  0.0  0.828325  0.166747  0.000930  0.298514  0.434738   \n",
       "3      0.273182  0.0  0.0  0.828325  0.158478  0.000992  0.353980  0.482056   \n",
       "4      0.272773  0.0  0.0  0.828325  0.174269  0.000998  0.370123  0.556914   \n",
       "...         ...  ...  ...       ...       ...       ...       ...       ...   \n",
       "92396  0.619520  0.0  0.0  0.073426  0.532147  0.998079  0.476720  0.581066   \n",
       "92397  0.619561  0.0  0.0  0.073426  0.581096  0.998079  0.446527  0.680775   \n",
       "92398  0.620899  0.0  0.0  0.073426  0.639210  0.998079  0.474916  0.436791   \n",
       "92399  0.621033  0.0  0.0  0.073426  0.699587  0.998079  0.475741  0.598077   \n",
       "92400  0.621491  0.0  0.0  0.073426  0.741441  0.998148  0.465171  0.589235   \n",
       "\n",
       "            C09       C10  ...       C70  C71       C72       C73       C74  \\\n",
       "0      0.010417  0.139867  ...  0.677723  0.0  0.317842  0.452044  0.236483   \n",
       "1      0.010417  0.137445  ...  0.680584  0.0  0.317842  0.450701  0.230344   \n",
       "2      0.010417  0.137227  ...  0.678007  0.0  0.318290  0.451229  0.229791   \n",
       "3      0.010417  0.190063  ...  0.675769  0.0  0.318335  0.449470  0.229736   \n",
       "4      0.010417  0.266280  ...  0.682626  0.0  0.317891  0.450884  0.229731   \n",
       "...         ...       ...  ...       ...  ...       ...       ...       ...   \n",
       "92396  0.017489  0.358745  ...  0.596406  1.0  0.319337  0.285888  0.790598   \n",
       "92397  0.016853  0.386044  ...  0.595956  1.0  0.318439  0.281450  0.790543   \n",
       "92398  0.015748  0.453718  ...  0.596761  1.0  0.319252  0.284110  0.796619   \n",
       "92399  0.015116  0.563381  ...  0.602505  1.0  0.318431  0.283862  0.797227   \n",
       "92400  0.014532  0.705708  ...  0.599115  1.0  0.318803  0.282944  0.791206   \n",
       "\n",
       "            C75       C76       C77      C78       C79  \n",
       "0      0.944440  0.225971  0.200389  0.26162  0.714722  \n",
       "1      0.944440  0.223121  0.198499  0.26162  0.650106  \n",
       "2      0.944440  0.220223  0.196880  0.26162  0.644285  \n",
       "3      0.944440  0.218893  0.193823  0.26162  0.583093  \n",
       "4      0.944440  0.212932  0.198888  0.26162  0.523348  \n",
       "...         ...       ...       ...      ...       ...  \n",
       "92396  0.083339  0.466152  0.485809  0.26162  0.622130  \n",
       "92397  0.083339  0.466370  0.482229  0.26162  0.658390  \n",
       "92398  0.083339  0.466330  0.484406  0.26162  0.666539  \n",
       "92399  0.083339  0.468106  0.474004  0.26162  0.638988  \n",
       "92400  0.083339  0.465829  0.477066  0.26162  0.555689  \n",
       "\n",
       "[358804 rows x 79 columns]"
      ]
     },
     "execution_count": 190,
     "metadata": {},
     "output_type": "execute_result"
    }
   ],
   "source": [
    "TEST_DF = normalize(TEST_DF_RAW[VALID_COLUMNS_IN_TRAIN_DATASET]).ewm(alpha=0.9).mean()\n",
    "TEST_DF"
   ]
  },
  {
   "cell_type": "code",
   "execution_count": 204,
   "metadata": {},
   "outputs": [],
   "source": [
    "test_df = TEST_DF.values"
   ]
  },
  {
   "cell_type": "code",
   "execution_count": 205,
   "metadata": {},
   "outputs": [
    {
     "data": {
      "text/plain": [
       "(358804, 79)"
      ]
     },
     "execution_count": 205,
     "metadata": {},
     "output_type": "execute_result"
    }
   ],
   "source": [
    "test_df.shape"
   ]
  },
  {
   "cell_type": "code",
   "execution_count": 223,
   "metadata": {},
   "outputs": [
    {
     "data": {
      "text/plain": [
       "array([[0.27371536, 0.        , 0.        , ..., 0.20038876, 0.26161984,\n",
       "        0.71472161],\n",
       "       [0.27371536, 0.        , 0.        , ..., 0.19849945, 0.26161984,\n",
       "        0.6501059 ],\n",
       "       [0.27282544, 0.        , 0.        , ..., 0.19687971, 0.26161984,\n",
       "        0.64428466],\n",
       "       ...,\n",
       "       [0.6208987 , 0.        , 0.        , ..., 0.48440553, 0.26161984,\n",
       "        0.66653899],\n",
       "       [0.62103251, 0.        , 0.        , ..., 0.47400371, 0.26161984,\n",
       "        0.6389876 ],\n",
       "       [0.62149084, 0.        , 0.        , ..., 0.47706646, 0.26161984,\n",
       "        0.55568897]])"
      ]
     },
     "execution_count": 223,
     "metadata": {},
     "output_type": "execute_result"
    }
   ],
   "source": [
    "test_df"
   ]
  },
  {
   "cell_type": "code",
   "execution_count": 228,
   "metadata": {},
   "outputs": [
    {
     "name": "stdout",
     "output_type": "stream",
     "text": [
      "Start list to array\n",
      "(358684, 30, 79) (358684, 79)\n",
      "Done\n"
     ]
    }
   ],
   "source": [
    "window_size = 30\n",
    "stride= 1\n",
    "X_test, Y_test = [], []\n",
    "skip=0\n",
    "for i in len_test:\n",
    "    n_window = i-window_size+1\n",
    "    per=int(n_window/100)\n",
    "    for w in range(int((n_window-1)/stride)):\n",
    "        X_test.append(test_df[skip+w*stride :skip+w*stride+window_size])\n",
    "        Y_test.append(test_df[skip+w*stride+window_size])\n",
    "        \n",
    "    skip=skip+i\n",
    "            \n",
    "print(\"Start list to array\")\n",
    "X_test, Y_test = np.asarray(X_test), np.asarray(Y_test)\n",
    "print(X_test.shape,Y_test.shape)\n",
    "print(\"Done\")"
   ]
  },
  {
   "cell_type": "code",
   "execution_count": 229,
   "metadata": {},
   "outputs": [],
   "source": [
    "y_test_predict = model_cnn_lstm_base.predict(X_test)"
   ]
  },
  {
   "cell_type": "code",
   "execution_count": null,
   "metadata": {},
   "outputs": [],
   "source": []
  },
  {
   "cell_type": "code",
   "execution_count": null,
   "metadata": {},
   "outputs": [],
   "source": []
  },
  {
   "cell_type": "code",
   "execution_count": null,
   "metadata": {},
   "outputs": [],
   "source": []
  },
  {
   "cell_type": "code",
   "execution_count": null,
   "metadata": {},
   "outputs": [],
   "source": []
  },
  {
   "cell_type": "code",
   "execution_count": 230,
   "metadata": {},
   "outputs": [],
   "source": [
    "test_DIST=np.abs(y_test_predict-Y_test)"
   ]
  },
  {
   "cell_type": "code",
   "execution_count": 231,
   "metadata": {},
   "outputs": [
    {
     "data": {
      "text/plain": [
       "(358684, 79)"
      ]
     },
     "execution_count": 231,
     "metadata": {},
     "output_type": "execute_result"
    }
   ],
   "source": [
    "test_DIST.shape"
   ]
  },
  {
   "cell_type": "code",
   "execution_count": 283,
   "metadata": {},
   "outputs": [],
   "source": [
    "ANOMALY_test_SCORE = np.max(test_DIST,axis=1)"
   ]
  },
  {
   "cell_type": "code",
   "execution_count": 284,
   "metadata": {},
   "outputs": [],
   "source": [
    "def check_graph(xs, att, piece=2, THRESHOLD=None):\n",
    "    l = xs.shape[0]\n",
    "    chunk = l // piece\n",
    "    fig, axs = plt.subplots(piece, figsize=(20, 4 * piece))\n",
    "    for i in range(piece):\n",
    "        L = i * chunk\n",
    "        R = min(L + chunk, l)\n",
    "        xticks = range(L, R)\n",
    "        axs[i].plot(xticks, xs[L:R])\n",
    "        if len(xs[L:R]) > 0:\n",
    "            peak = max(xs[L:R])\n",
    "            axs[i].plot(xticks, att[L:R] * peak * 0.3)\n",
    "        if THRESHOLD!=None:\n",
    "            axs[i].axhline(y=THRESHOLD, color='r')\n",
    "    plt.show()"
   ]
  },
  {
   "cell_type": "code",
   "execution_count": 301,
   "metadata": {},
   "outputs": [
    {
     "data": {
      "image/png": "[encoded data removed]",
      "text/plain": [
       "<Figure size 1440x576 with 2 Axes>"
      ]
     },
     "metadata": {
      "needs_background": "light"
     },
     "output_type": "display_data"
    }
   ],
   "source": [
    "check_graph(ANOMALY_test_SCORE,np.zeros(len(ANOMALY_test_SCORE)),piece=2, THRESHOLD=8)"
   ]
  },
  {
   "cell_type": "code",
   "execution_count": 302,
   "metadata": {},
   "outputs": [],
   "source": [
    "def put_labels(distance, threshold):\n",
    "    xs = np.zeros_like(distance)\n",
    "    xs[distance > threshold] = 1\n",
    "    return xs"
   ]
  },
  {
   "cell_type": "code",
   "execution_count": 320,
   "metadata": {},
   "outputs": [],
   "source": [
    "label_test=put_labels(ANOMALY_test_SCORE,8)"
   ]
  },
  {
   "cell_type": "code",
   "execution_count": 321,
   "metadata": {},
   "outputs": [
    {
     "data": {
      "text/plain": [
       "(array([0., 0., 0., ..., 0., 0., 0.]), (358684,))"
      ]
     },
     "execution_count": 321,
     "metadata": {},
     "output_type": "execute_result"
    }
   ],
   "source": [
    "label_test, label_test.shape"
   ]
  },
  {
   "cell_type": "code",
   "execution_count": 322,
   "metadata": {},
   "outputs": [
    {
     "data": {
      "text/plain": [
       "358804"
      ]
     },
     "execution_count": 322,
     "metadata": {},
     "output_type": "execute_result"
    }
   ],
   "source": [
    "len(TEST_DF)"
   ]
  },
  {
   "cell_type": "code",
   "execution_count": 323,
   "metadata": {},
   "outputs": [],
   "source": [
    "dummy = np.zeros(30)"
   ]
  },
  {
   "cell_type": "code",
   "execution_count": 324,
   "metadata": {},
   "outputs": [],
   "source": [
    "label_test = np.concatenate((dummy,label_test), axis=0)"
   ]
  },
  {
   "cell_type": "code",
   "execution_count": 325,
   "metadata": {},
   "outputs": [
    {
     "data": {
      "text/plain": [
       "(358714,)"
      ]
     },
     "execution_count": 325,
     "metadata": {},
     "output_type": "execute_result"
    }
   ],
   "source": [
    "label_test.shape"
   ]
  },
  {
   "cell_type": "code",
   "execution_count": 326,
   "metadata": {},
   "outputs": [
    {
     "data": {
      "text/plain": [
       "[118801, 108001, 39601, 92401]"
      ]
     },
     "execution_count": 326,
     "metadata": {},
     "output_type": "execute_result"
    }
   ],
   "source": [
    "len_test"
   ]
  },
  {
   "cell_type": "code",
   "execution_count": 327,
   "metadata": {},
   "outputs": [],
   "source": [
    "label_test = np.concatenate((label_test[:118801],dummy,label_test[118801:]), axis=0)"
   ]
  },
  {
   "cell_type": "code",
   "execution_count": 328,
   "metadata": {},
   "outputs": [
    {
     "data": {
      "text/plain": [
       "(358744,)"
      ]
     },
     "execution_count": 328,
     "metadata": {},
     "output_type": "execute_result"
    }
   ],
   "source": [
    "label_test.shape"
   ]
  },
  {
   "cell_type": "code",
   "execution_count": 329,
   "metadata": {},
   "outputs": [],
   "source": [
    "label_test = np.concatenate((label_test[:118801+108001],dummy,label_test[118801+108001:]), axis=0)"
   ]
  },
  {
   "cell_type": "code",
   "execution_count": 330,
   "metadata": {},
   "outputs": [
    {
     "data": {
      "text/plain": [
       "(358774,)"
      ]
     },
     "execution_count": 330,
     "metadata": {},
     "output_type": "execute_result"
    }
   ],
   "source": [
    "label_test.shape"
   ]
  },
  {
   "cell_type": "code",
   "execution_count": 331,
   "metadata": {},
   "outputs": [],
   "source": [
    "label_test = np.concatenate((label_test[:118801+108001+39601],dummy,label_test[118801+108001+39601:]), axis=0)"
   ]
  },
  {
   "cell_type": "code",
   "execution_count": 332,
   "metadata": {},
   "outputs": [
    {
     "data": {
      "text/plain": [
       "(358804,)"
      ]
     },
     "execution_count": 332,
     "metadata": {},
     "output_type": "execute_result"
    }
   ],
   "source": [
    "label_test.shape"
   ]
  },
  {
   "cell_type": "code",
   "execution_count": 333,
   "metadata": {},
   "outputs": [],
   "source": [
    "# 예측한 결과를 제출양식에 맞춰 저장합니다.\n",
    "\n",
    "submission = pd.read_csv('data/HAI_2.0/sample_submission.csv')\n",
    "submission.index = submission['time']\n",
    "submission['attack'] = label_test\n",
    "submission\n",
    "# 예측한 결과를 저장하여 제출합니다.\n",
    "\n",
    "submission.to_csv('baseline2.csv', index=False)"
   ]
  },
  {
   "cell_type": "code",
   "execution_count": 334,
   "metadata": {},
   "outputs": [
    {
     "data": {
      "text/plain": [
       "(358804,)"
      ]
     },
     "execution_count": 334,
     "metadata": {},
     "output_type": "execute_result"
    }
   ],
   "source": [
    "submission['attack'].shape"
   ]
  },
  {
   "cell_type": "code",
   "execution_count": 335,
   "metadata": {},
   "outputs": [
    {
     "ename": "AttributeError",
     "evalue": "'numpy.ndarray' object has no attribute 'count'",
     "output_type": "error",
     "traceback": [
      "\u001b[1;31m---------------------------------------------------------------------------\u001b[0m",
      "\u001b[1;31mAttributeError\u001b[0m                            Traceback (most recent call last)",
      "\u001b[1;32m<ipython-input-335-14e800f5ebad>\u001b[0m in \u001b[0;36m<module>\u001b[1;34m\u001b[0m\n\u001b[1;32m----> 1\u001b[1;33m \u001b[0mlabel_test\u001b[0m\u001b[1;33m.\u001b[0m\u001b[0mcount\u001b[0m\u001b[1;33m(\u001b[0m\u001b[1;36m1\u001b[0m\u001b[1;33m)\u001b[0m\u001b[1;33m\u001b[0m\u001b[1;33m\u001b[0m\u001b[0m\n\u001b[0m",
      "\u001b[1;31mAttributeError\u001b[0m: 'numpy.ndarray' object has no attribute 'count'"
     ]
    }
   ],
   "source": [
    "label_test.count(1)"
   ]
  },
  {
   "cell_type": "code",
   "execution_count": null,
   "metadata": {},
   "outputs": [],
   "source": [
    "list(label_test).count(1)"
   ]
  },
  {
   "cell_type": "code",
   "execution_count": null,
   "metadata": {},
   "outputs": [],
   "source": []
  },
  {
   "cell_type": "code",
   "execution_count": null,
   "metadata": {},
   "outputs": [],
   "source": []
  }
 ],
 "metadata": {
  "kernelspec": {
   "display_name": "Python 3",
   "language": "python",
   "name": "python3"
  },
  "language_info": {
   "codemirror_mode": {
    "name": "ipython",
    "version": 3
   },
   "file_extension": ".py",
   "mimetype": "text/x-python",
   "name": "python",
   "nbconvert_exporter": "python",
   "pygments_lexer": "ipython3",
   "version": "3.7.9"
  }
 },
 "nbformat": 4,
 "nbformat_minor": 4
}
